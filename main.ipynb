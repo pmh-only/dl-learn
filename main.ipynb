{
 "cells": [
  {
   "cell_type": "markdown",
   "metadata": {},
   "source": [
    "# DL Learn\n",
    "Deep learning with numpy\n",
    "\n",
    "this notebook is based on &lt;Deep Learning from scratch&gt; by Saito Goki.\\\n",
    "but all codes are heavly modified for easy understanding. Thanks to O'reilly\n",
    "\n",
    "(c) Minhyeok Park. 2024. All rights reserved."
   ]
  },
  {
   "cell_type": "code",
   "execution_count": 196,
   "metadata": {},
   "outputs": [
    {
     "name": "stdout",
     "output_type": "stream",
     "text": [
      "Requirement already satisfied: asttokens==2.4.1 in ./env/lib/python3.12/site-packages (from -r requirements.txt (line 1)) (2.4.1)\n",
      "Requirement already satisfied: comm==0.2.2 in ./env/lib/python3.12/site-packages (from -r requirements.txt (line 2)) (0.2.2)\n",
      "Requirement already satisfied: contourpy==1.3.0 in ./env/lib/python3.12/site-packages (from -r requirements.txt (line 3)) (1.3.0)\n",
      "Requirement already satisfied: cycler==0.12.1 in ./env/lib/python3.12/site-packages (from -r requirements.txt (line 4)) (0.12.1)\n",
      "Requirement already satisfied: debugpy==1.8.7 in ./env/lib/python3.12/site-packages (from -r requirements.txt (line 5)) (1.8.7)\n",
      "Requirement already satisfied: decorator==5.1.1 in ./env/lib/python3.12/site-packages (from -r requirements.txt (line 6)) (5.1.1)\n",
      "Requirement already satisfied: executing==2.1.0 in ./env/lib/python3.12/site-packages (from -r requirements.txt (line 7)) (2.1.0)\n",
      "Requirement already satisfied: fonttools==4.54.1 in ./env/lib/python3.12/site-packages (from -r requirements.txt (line 8)) (4.54.1)\n",
      "Requirement already satisfied: ipykernel==6.29.5 in ./env/lib/python3.12/site-packages (from -r requirements.txt (line 9)) (6.29.5)\n",
      "Requirement already satisfied: ipython==8.28.0 in ./env/lib/python3.12/site-packages (from -r requirements.txt (line 10)) (8.28.0)\n",
      "Requirement already satisfied: jedi==0.19.1 in ./env/lib/python3.12/site-packages (from -r requirements.txt (line 11)) (0.19.1)\n",
      "Requirement already satisfied: jupyter_client==8.6.3 in ./env/lib/python3.12/site-packages (from -r requirements.txt (line 12)) (8.6.3)\n",
      "Requirement already satisfied: jupyter_core==5.7.2 in ./env/lib/python3.12/site-packages (from -r requirements.txt (line 13)) (5.7.2)\n",
      "Requirement already satisfied: kiwisolver==1.4.7 in ./env/lib/python3.12/site-packages (from -r requirements.txt (line 14)) (1.4.7)\n",
      "Requirement already satisfied: matplotlib==3.9.2 in ./env/lib/python3.12/site-packages (from -r requirements.txt (line 15)) (3.9.2)\n",
      "Requirement already satisfied: matplotlib-inline==0.1.7 in ./env/lib/python3.12/site-packages (from -r requirements.txt (line 16)) (0.1.7)\n",
      "Requirement already satisfied: nest-asyncio==1.6.0 in ./env/lib/python3.12/site-packages (from -r requirements.txt (line 17)) (1.6.0)\n",
      "Requirement already satisfied: numpy==2.1.2 in ./env/lib/python3.12/site-packages (from -r requirements.txt (line 18)) (2.1.2)\n",
      "Requirement already satisfied: packaging==24.1 in ./env/lib/python3.12/site-packages (from -r requirements.txt (line 19)) (24.1)\n",
      "Requirement already satisfied: parso==0.8.4 in ./env/lib/python3.12/site-packages (from -r requirements.txt (line 20)) (0.8.4)\n",
      "Requirement already satisfied: pexpect==4.9.0 in ./env/lib/python3.12/site-packages (from -r requirements.txt (line 21)) (4.9.0)\n",
      "Requirement already satisfied: pillow==11.0.0 in ./env/lib/python3.12/site-packages (from -r requirements.txt (line 22)) (11.0.0)\n",
      "Requirement already satisfied: platformdirs==4.3.6 in ./env/lib/python3.12/site-packages (from -r requirements.txt (line 23)) (4.3.6)\n",
      "Requirement already satisfied: prompt_toolkit==3.0.48 in ./env/lib/python3.12/site-packages (from -r requirements.txt (line 24)) (3.0.48)\n",
      "Requirement already satisfied: psutil==6.1.0 in ./env/lib/python3.12/site-packages (from -r requirements.txt (line 25)) (6.1.0)\n",
      "Requirement already satisfied: ptyprocess==0.7.0 in ./env/lib/python3.12/site-packages (from -r requirements.txt (line 26)) (0.7.0)\n",
      "Requirement already satisfied: pure_eval==0.2.3 in ./env/lib/python3.12/site-packages (from -r requirements.txt (line 27)) (0.2.3)\n",
      "Requirement already satisfied: Pygments==2.18.0 in ./env/lib/python3.12/site-packages (from -r requirements.txt (line 28)) (2.18.0)\n",
      "Requirement already satisfied: pyparsing==3.2.0 in ./env/lib/python3.12/site-packages (from -r requirements.txt (line 29)) (3.2.0)\n",
      "Requirement already satisfied: python-dateutil==2.9.0.post0 in ./env/lib/python3.12/site-packages (from -r requirements.txt (line 30)) (2.9.0.post0)\n",
      "Requirement already satisfied: pyzmq==26.2.0 in ./env/lib/python3.12/site-packages (from -r requirements.txt (line 31)) (26.2.0)\n",
      "Requirement already satisfied: six==1.16.0 in ./env/lib/python3.12/site-packages (from -r requirements.txt (line 32)) (1.16.0)\n",
      "Requirement already satisfied: stack-data==0.6.3 in ./env/lib/python3.12/site-packages (from -r requirements.txt (line 33)) (0.6.3)\n",
      "Requirement already satisfied: tornado==6.4.1 in ./env/lib/python3.12/site-packages (from -r requirements.txt (line 34)) (6.4.1)\n",
      "Requirement already satisfied: traitlets==5.14.3 in ./env/lib/python3.12/site-packages (from -r requirements.txt (line 35)) (5.14.3)\n",
      "Requirement already satisfied: wcwidth==0.2.13 in ./env/lib/python3.12/site-packages (from -r requirements.txt (line 36)) (0.2.13)\n",
      "\n",
      "\u001b[1m[\u001b[0m\u001b[34;49mnotice\u001b[0m\u001b[1;39;49m]\u001b[0m\u001b[39;49m A new release of pip is available: \u001b[0m\u001b[31;49m24.2\u001b[0m\u001b[39;49m -> \u001b[0m\u001b[32;49m24.3.1\u001b[0m\n",
      "\u001b[1m[\u001b[0m\u001b[34;49mnotice\u001b[0m\u001b[1;39;49m]\u001b[0m\u001b[39;49m To update, run: \u001b[0m\u001b[32;49mpip install --upgrade pip\u001b[0m\n",
      "Note: you may need to restart the kernel to use updated packages.\n"
     ]
    }
   ],
   "source": [
    "%pip install -r requirements.txt"
   ]
  },
  {
   "cell_type": "markdown",
   "metadata": {},
   "source": [
    "## 퍼셉트론\n",
    "딥러닝, 신경망에서 우리가 생각할 수 있는 가장 최소 단위의 함수를 퍼셉트론(단일 퍼셉트론)이라 한다\n",
    "\n",
    "퍼셉트론은 다음과 같은 간단한 함수이며 여러 데이터 값을 받아 하나의 출력을 하는 함수로 인간의 뇌에서 신경 세포와 비슷한 구조를 가진다.\n",
    "\n",
    "```\n",
    "y={0 (w1*x1+w2*x2 <= θ)}\n",
    "  {1 (w1*x1+w2*x2 > θ)}\n",
    "```\n",
    "\n",
    "받은 백터 x에 각각 일치하는 가중치 w를 곱한 후 해당 값이 특정 임계값 θ를 넘어가면 0, 아니면 1을 출력한다 \\\n",
    "파이썬으로 작성하면 다음과 같다:"
   ]
  },
  {
   "cell_type": "code",
   "execution_count": 197,
   "metadata": {},
   "outputs": [],
   "source": [
    "def perceptron_1 (x1, x2):\n",
    "  w1, w2, theta = a, b, c # type: ignore\n",
    "\n",
    "  if x1*w1 + x2*w2 <= theta:\n",
    "    return 0\n",
    "  else:\n",
    "    return 1"
   ]
  },
  {
   "cell_type": "markdown",
   "metadata": {},
   "source": [
    "우리는 이때 가중치 w와 임계값 θ를 잘 활용하면 여러 함수들을 만들 수 있게 된다. \\\n",
    "다음은 AND 연산을 해주는 퍼셉트론이다."
   ]
  },
  {
   "cell_type": "code",
   "execution_count": 198,
   "metadata": {},
   "outputs": [
    {
     "name": "stdout",
     "output_type": "stream",
     "text": [
      "0 AND 0 = 0\n",
      "1 AND 0 = 0\n",
      "0 AND 1 = 0\n",
      "1 AND 1 = 1\n"
     ]
    }
   ],
   "source": [
    "def and_perceptron (x1, x2):\n",
    "  w1, w2, theta = 0.5, 0.5, 0.7\n",
    "\n",
    "  if x1*w1 + x2*w2 <= theta:\n",
    "    return 0\n",
    "  else:\n",
    "    return 1\n",
    "  \n",
    "print('0 AND 0 =', and_perceptron(0, 0))\n",
    "print('1 AND 0 =', and_perceptron(1, 0))\n",
    "print('0 AND 1 =', and_perceptron(0, 1))\n",
    "print('1 AND 1 =', and_perceptron(1, 1))"
   ]
  },
  {
   "cell_type": "markdown",
   "metadata": {},
   "source": [
    "이 퍼셉트론을 쫌 더 재밌게 만들어 보자. \\\n",
    "앞서 봤던 퍼셉트론의 `(w1*x1+w2*x2 <= θ)` 부분을 다음과 같이 표현할 수 있다.\n",
    "\n",
    "\n",
    "```\n",
    "y={0 (w1*x1+w2*x2+b <= 0)}\n",
    "  {1 (w1*x1+w2*x2+b > 0)}\n",
    "```\n",
    "\n",
    "부등호 뒤에 있던 임계값 θ를 앞으로 옮겼을 뿐이다. 이제 우리는 그것을 편향 b라고 부른다.\\\n",
    "당연히 b 값은 이제 부호를 반대로 하여 주어야 한다.\n",
    "\n",
    "개선된 식으로 가독성 높은 코드와 빠른 속도를 위해 numpy 라이브러리를 통해 AND, NAND, OR 게이트를 만들어 보자."
   ]
  },
  {
   "cell_type": "code",
   "execution_count": 199,
   "metadata": {},
   "outputs": [
    {
     "name": "stdout",
     "output_type": "stream",
     "text": [
      "0 AND 0 = 0\n",
      "1 AND 0 = 0\n",
      "0 AND 1 = 0\n",
      "1 AND 1 = 1\n"
     ]
    }
   ],
   "source": [
    "import numpy as np\n",
    "\n",
    "def and_perceptron2 (x: np.ndarray):\n",
    "  w = np.array([0.5, 0.5])\n",
    "  b = -0.7\n",
    "\n",
    "  if np.sum(w*x) + b <= 0:\n",
    "    return 0\n",
    "  else:\n",
    "    return 1\n",
    "  \n",
    "print('0 AND 0 =', and_perceptron2(np.array([0, 0])))\n",
    "print('1 AND 0 =', and_perceptron2(np.array([1, 0])))\n",
    "print('0 AND 1 =', and_perceptron2(np.array([0, 1])))\n",
    "print('1 AND 1 =', and_perceptron2(np.array([1, 1])))"
   ]
  },
  {
   "cell_type": "code",
   "execution_count": 200,
   "metadata": {},
   "outputs": [
    {
     "name": "stdout",
     "output_type": "stream",
     "text": [
      "0 NAND 0 = 1\n",
      "1 NAND 0 = 1\n",
      "0 NAND 1 = 1\n",
      "1 NAND 1 = 0\n"
     ]
    }
   ],
   "source": [
    "def nand_perceptron (x: np.ndarray):\n",
    "  w = np.array([-0.5, -0.5])\n",
    "  b = 0.7\n",
    "\n",
    "  if np.sum(w*x) + b <= 0:\n",
    "    return 0\n",
    "  else:\n",
    "    return 1\n",
    "  \n",
    "print('0 NAND 0 =', nand_perceptron(np.array([0, 0])))\n",
    "print('1 NAND 0 =', nand_perceptron(np.array([1, 0])))\n",
    "print('0 NAND 1 =', nand_perceptron(np.array([0, 1])))\n",
    "print('1 NAND 1 =', nand_perceptron(np.array([1, 1])))"
   ]
  },
  {
   "cell_type": "code",
   "execution_count": 201,
   "metadata": {},
   "outputs": [
    {
     "name": "stdout",
     "output_type": "stream",
     "text": [
      "0 OR 0 = 0\n",
      "1 OR 0 = 1\n",
      "0 OR 1 = 1\n",
      "1 OR 1 = 1\n"
     ]
    }
   ],
   "source": [
    "def or_perceptron (x: np.ndarray):\n",
    "  w = np.array([0.5, 0.5])\n",
    "  b = -0.2\n",
    "\n",
    "  if np.sum(w*x) + b <= 0:\n",
    "    return 0\n",
    "  else:\n",
    "    return 1\n",
    "  \n",
    "print('0 OR 0 =', or_perceptron(np.array([0, 0])))\n",
    "print('1 OR 0 =', or_perceptron(np.array([1, 0])))\n",
    "print('0 OR 1 =', or_perceptron(np.array([0, 1])))\n",
    "print('1 OR 1 =', or_perceptron(np.array([1, 1])))"
   ]
  },
  {
   "cell_type": "markdown",
   "metadata": {},
   "source": [
    "이렇게 AND, NAND, OR 게이트를 퍼셉트론을 통해 구현할 수 있다.\n",
    "\n",
    "이처럼 함수의 수정 없이 가중치 w와 편향 b만을 수정하기만 하면 여러 상황들을 만들어 낼 수 있는 것이 퍼셉트론의 장점이다."
   ]
  },
  {
   "cell_type": "markdown",
   "metadata": {},
   "source": [
    "### 다층 퍼셉트론\n",
    "퍼셉트론 하나만으론 XOR 게이트를 구현할 수 없다.\n",
    "\n",
    "퍼셉트론은 x{1}과 x{2}의 축을 가진 그래프에서 가상의 직선을 하나 그어 0과 1 값을 구분하는 함수이다. \\\n",
    "하지만 XOR은 직선 하나만으로 구분할 수 없고 (즉 선형으로는 해결할 수 없고) \\\n",
    "직선이 아닌 선으로 (비선형으로) 그어야 구분할 수 있다.\n",
    "\n",
    "이 비선형 구분을 하는 XOR 게이트와 같은 알고리즘은 여러 퍼셉트론을 결합하여 구현할 수 있다. \\\n",
    "마치 AND, NAND, OR 게이트로 XOR 게이트를 만들 수 있는 것 처럼 말이다."
   ]
  },
  {
   "cell_type": "code",
   "execution_count": 202,
   "metadata": {},
   "outputs": [
    {
     "name": "stdout",
     "output_type": "stream",
     "text": [
      "0 XOR 0 = 0\n",
      "1 XOR 0 = 1\n",
      "0 XOR 1 = 1\n",
      "1 XOR 1 = 0\n"
     ]
    }
   ],
   "source": [
    "def xor_perceptron(x: np.ndarray):\n",
    "  y = np.array([nand_perceptron(x), or_perceptron(x)])\n",
    "  return and_perceptron2(y)\n",
    "\n",
    "\n",
    "print('0 XOR 0 =', xor_perceptron(np.array([0, 0])))\n",
    "print('1 XOR 0 =', xor_perceptron(np.array([1, 0])))\n",
    "print('0 XOR 1 =', xor_perceptron(np.array([0, 1])))\n",
    "print('1 XOR 1 =', xor_perceptron(np.array([1, 1])))"
   ]
  },
  {
   "cell_type": "markdown",
   "metadata": {},
   "source": [
    "XOR을 구현하는 이 다층 퍼셉트론은 2개의 층으로 구성되어 있다.\n",
    "\n",
    "1층: NAND 퍼셉트론과 OR 퍼셉트론이 있는 층 \\\n",
    "2층: AND 퍼셉트론이 있는 층\n",
    "\n",
    "이렇게 2층을 쌓는 것 만으로도 기존 단일 퍼셉트론으론 할 수 없었던 연산을 가능하게 되었다!\\\n",
    "이 뜻은 퍼셉트론을 여러겹 쌓게 되면 선형적 표현을 넘어서 비선형적 표현도 가능하다는 의미이다.\n",
    "\n",
    "실제로 이것을 응용하면 인간이 생각할 수 있는 모든 회로를 단 2층의 퍼셉트론으로 모두 구현할 수 있다. (w와 b를 찾는게 매우 어렵겠지만)"
   ]
  },
  {
   "cell_type": "markdown",
   "metadata": {},
   "source": [
    "## 신경망\n",
    "위 퍼셉트론에서 문제점이 무엇일까? 바로 사람이 직접 w와 b를 찾아줘야 했던 점이다. \\\n",
    "신경망은 퍼셉트론에 더 많은 기능을 추가하여 자동으로 w와 b를 찾아주는 기능을 구현한다.\n",
    "\n",
    "아까 구현했던 XOR 회로를 기준으로 신경망의 층을 나눠보자.\n",
    "\n",
    "입력층: 입력받았던 x가 있는 층 \\\n",
    "은닉층 1층: NAND와 OR 퍼셉트론이 있던 층 \\\n",
    "출력층: AND 퍼셉트론이 있던 층\n",
    "\n",
    "신경망에서 입력을 받는 층을 입력층, 내부적인 처리를 하는 은닉층, 최종적으로 결과를 계산하는 출력층이 존재한다. \\\n",
    "이때 입력층을 포함해서 3개니까 3층 신경망이 아니냐고 예기를 할 수 있겠지만 w와 b를 계산하지 않는 입력층은 포함되지 않아 2층 신경망이라고 한다."
   ]
  },
  {
   "cell_type": "markdown",
   "metadata": {},
   "source": [
    "### 활성화 함수\n",
    "이제 전의 퍼셉트론 함수를 쫌 더 재미있게 만들어 보자 \\\n",
    "`y={0 (w1*x1+w2*x2+b <= 0)}` 에서 결과 값이 0보다 큰지 작은지 체크하는 부분을 따로 때어 보는것이다.\n",
    "\n",
    "```\n",
    "y=h(b+w1*x1+w2+x2)\n",
    "h={0 (x <= 0)}\n",
    "  {1 (x > 0) }\n",
    "```\n",
    "\n",
    "`b+w1*x1+w2+x2` 의 내용이 0보다 큰지 작은지를 계산하는 부분을 함수 h로 때어내었다.\\\n",
    "이때 이 함수 h는 활성화 함수라고 부른다.\n",
    "\n",
    "구현한 코드를 보면 더 쉽게 이해할 수 있다."
   ]
  },
  {
   "cell_type": "code",
   "execution_count": 203,
   "metadata": {},
   "outputs": [
    {
     "name": "stdout",
     "output_type": "stream",
     "text": [
      "0 AND 0 = 0\n",
      "1 AND 0 = 0\n",
      "0 AND 1 = 0\n",
      "1 AND 1 = 1\n"
     ]
    }
   ],
   "source": [
    "def h1(x):\n",
    "  if x <= 0:\n",
    "    return 0\n",
    "  else:\n",
    "    return 1\n",
    "\n",
    "# numpy를 사용해 배열도 지원하고 짧게 구현해보자\n",
    "def h2(x: np.ndarray):\n",
    "  y = x > 0 # 입력받은 배열 x의 모든 값을 0과 비교하고 True, False로 반환한다\n",
    "\n",
    "  return y.astype(int) # boolean을 0과 1로 변환한다.\n",
    "\n",
    "# 더 짧게 구현할 수 있다.\n",
    "def h3(x: np.ndarray):\n",
    "  return np.array(x > 0, dtype=int)\n",
    "\n",
    "def and_perceptron3 (x: np.ndarray):\n",
    "  w = np.array([0.5, 0.5])\n",
    "  b = -0.7\n",
    "  y = h3(np.array([np.sum(w*x) + b]))\n",
    "\n",
    "  return y\n",
    "  \n",
    "print('0 AND 0 =', and_perceptron2(np.array([0, 0])))\n",
    "print('1 AND 0 =', and_perceptron2(np.array([1, 0])))\n",
    "print('0 AND 1 =', and_perceptron2(np.array([0, 1])))\n",
    "print('1 AND 1 =', and_perceptron2(np.array([1, 1])))"
   ]
  },
  {
   "cell_type": "markdown",
   "metadata": {},
   "source": [
    "이 활성화 함수의 분리 여부는 퍼셉트론이 신경망으로 진화하는데 큰 역할을 한다.\n",
    "\n",
    "왜냐면 0과 1을 리턴했던 재미없는 함수(계단 함수) h를 재미있게 수정할 수 있기 때문이다! \\\n",
    "일단 먼저 이때까지 사용했던 계단 함수를 그래프를 통해 확인해보자."
   ]
  },
  {
   "cell_type": "code",
   "execution_count": 204,
   "metadata": {},
   "outputs": [
    {
     "data": {
      "image/png": "[encoded data removed]",
      "text/plain": [
       "<Figure size 640x480 with 1 Axes>"
      ]
     },
     "metadata": {},
     "output_type": "display_data"
    }
   ],
   "source": [
    "import matplotlib.pyplot as plt\n",
    "\n",
    "x = np.arange(-5.0, 5.0, 0.1)\n",
    "y = h3(x)\n",
    "\n",
    "plt.plot(x, y)\n",
    "plt.ylim(-0.1, 1.1)\n",
    "plt.show()"
   ]
  },
  {
   "cell_type": "markdown",
   "metadata": {},
   "source": [
    "이렇게 재미없는 선형 함수를 활성화 함수로 하게 되면 신경망의 이점을 얻을 수 없다.\n",
    "\n",
    "마치 `h=cx`로 함수를 만들고 `y=h(h(h(x)))` 라고 한다면 굳이 저렇게 적지 말고 `y=ax, a=c^3` 이라고만 하면 되는 것 처럼 \\\n",
    "중첩의 의미를 가질 수 없게 되어 쓰는 의미가 없어지기 때문이다.\n",
    "\n",
    "그럼 비선형적 함수를 한번 만들어보자"
   ]
  },
  {
   "cell_type": "markdown",
   "metadata": {},
   "source": [
    "### 시그모이드 함수\n",
    "이번엔 쫌 재밌는 활성화 함수를 만들어 보자. 직선이 가득한 선형적 함수가 아닌\\\n",
    "비선형적 함수를 만들어보는 것이다. "
   ]
  },
  {
   "cell_type": "code",
   "execution_count": 205,
   "metadata": {},
   "outputs": [
    {
     "data": {
      "image/png": "[encoded data removed]",
      "text/plain": [
       "<Figure size 640x480 with 1 Axes>"
      ]
     },
     "metadata": {},
     "output_type": "display_data"
    }
   ],
   "source": [
    "def sigmoid(x: np.ndarray):\n",
    "  return 1 / (1 + np.exp(-x))\n",
    "\n",
    "x = np.arange(-5.0, 5.0, 0.1)\n",
    "y = sigmoid(x)\n",
    "\n",
    "plt.plot(x, y)\n",
    "plt.ylim(-0.1, 1.1)\n",
    "plt.show()"
   ]
  },
  {
   "cell_type": "markdown",
   "metadata": {},
   "source": [
    "\n",
    "### ReLU 함수\n",
    "시그모이드 함수를 많이 사용해 왔지만 최근 더 많이 사용되고 있는 ReLU 함수는 다음과 같다\\\n",
    "ReLU 함수는 수식으로 표현하면 다음과 같으며 간단히 max를 통해 구현할 수 있다\n",
    "\n",
    "```\n",
    "h={x (x >= 0)}\n",
    " ={0 (x <  0)}\n",
    "```"
   ]
  },
  {
   "cell_type": "code",
   "execution_count": 206,
   "metadata": {},
   "outputs": [
    {
     "data": {
      "image/png": "[encoded data removed]",
      "text/plain": [
       "<Figure size 640x480 with 1 Axes>"
      ]
     },
     "metadata": {},
     "output_type": "display_data"
    }
   ],
   "source": [
    "def relu(x: np.ndarray):\n",
    "  return np.maximum(0, x)\n",
    "\n",
    "x = np.arange(-5.0, 5.0, 0.1)\n",
    "y = relu(x)\n",
    "\n",
    "plt.plot(x, y)\n",
    "plt.ylim(-1, 5.5)\n",
    "plt.show()"
   ]
  },
  {
   "cell_type": "markdown",
   "metadata": {},
   "source": [
    "### 행렬의 점곱\n",
    "신경망 연산을 이해하기 위해선 행렬의 점곱에 대해서 먼저 알아야 한다.\\\n",
    "A행렬과 B행렬에 대한 곱셈을 할때에는 그냥 원자끼리 곱한다고 해결되는 것이 아니라\\\n",
    "구하고자 하는 x 원소가 위치하는 A 행렬의 모든 행과 x 원소가 위치하는 B 행렬의 모든 열을 곱한뒤 더해 주어야 한다.\n",
    "\n",
    "즉 다음과 같은 식이 있을때 x를 구하려면 \n",
    "\n",
    "```\n",
    "{ 1 2 }   { 5 6 }   { x ? }\n",
    "{ 3 4 } * { 7 8 } = { ? ? }\n",
    "\n",
    "x=1*5+2*7=19\n",
    "```"
   ]
  },
  {
   "cell_type": "code",
   "execution_count": 207,
   "metadata": {},
   "outputs": [
    {
     "data": {
      "text/plain": [
       "array([[19, 22],\n",
       "       [43, 50]])"
      ]
     },
     "execution_count": 207,
     "metadata": {},
     "output_type": "execute_result"
    }
   ],
   "source": [
    "A=np.array([\n",
    "  [1, 2],\n",
    "  [3, 4]\n",
    "])\n",
    "\n",
    "B=np.array([\n",
    "  [5, 6],\n",
    "  [7, 8]\n",
    "])\n",
    "\n",
    "np.dot(A, B)"
   ]
  },
  {
   "cell_type": "markdown",
   "metadata": {},
   "source": [
    "이 행렬의 점곱을 해보면서 알 수 있는 사실이 하나 있다.\\\n",
    "바로 A 행렬과 B 행렬을 점곱하려면 A의 행 수와 B의 열 수가 일치해야 한다는 점이다.\n",
    "\n",
    "이는 다음과 같이 확인해볼 수 있다."
   ]
  },
  {
   "cell_type": "code",
   "execution_count": 208,
   "metadata": {},
   "outputs": [],
   "source": [
    "A=np.array([\n",
    "  [1, 2],\n",
    "  [3, 4]\n",
    "])\n",
    "\n",
    "B=np.array([\n",
    "  [5, 6],\n",
    "  [7, 8],\n",
    "  [7, 8]\n",
    "])\n",
    "\n",
    "\n",
    "# 각 행렬의 크기:\n",
    "# A = 2x2\n",
    "# B = 3x2\n",
    "\n",
    "# np.dot(A, B)"
   ]
  },
  {
   "cell_type": "code",
   "execution_count": 209,
   "metadata": {},
   "outputs": [
    {
     "data": {
      "text/plain": [
       "array([[19],\n",
       "       [43]])"
      ]
     },
     "execution_count": 209,
     "metadata": {},
     "output_type": "execute_result"
    }
   ],
   "source": [
    "A=np.array([\n",
    "  [1, 2],\n",
    "  [3, 4]\n",
    "])\n",
    "\n",
    "B=np.array([\n",
    "  [5],\n",
    "  [7]\n",
    "])\n",
    "\n",
    "\n",
    "# 각 행렬의 크기:\n",
    "# A = 2x2\n",
    "# B = 2x1\n",
    "\n",
    "np.dot(A, B)"
   ]
  },
  {
   "cell_type": "markdown",
   "metadata": {},
   "source": [
    "이렇게 A의 행과 B의 열 수를 맞추지 않은 두 행렬의 대한 점곱은 오류가 발생하는 것을 볼 수 있으며\\\n",
    "일치할 경우 오류가 발생하지 않는 것을 볼 수 있다. 이는 두 행렬의 차원 수가 달라도 적용된다."
   ]
  },
  {
   "cell_type": "code",
   "execution_count": 210,
   "metadata": {},
   "outputs": [
    {
     "data": {
      "text/plain": [
       "array([19, 43])"
      ]
     },
     "execution_count": 210,
     "metadata": {},
     "output_type": "execute_result"
    }
   ],
   "source": [
    "A=np.array([\n",
    "  [1, 2],\n",
    "  [3, 4]\n",
    "])\n",
    "\n",
    "B=np.array([5, 7])\n",
    "\n",
    "\n",
    "# 각 행렬의 크기:\n",
    "# A = 2x2\n",
    "# B = 2\n",
    "\n",
    "np.dot(A, B)"
   ]
  },
  {
   "cell_type": "markdown",
   "metadata": {},
   "source": [
    "### 행렬의 접곱을 통한 퍼셉트론\n",
    "위의 `x=1*5+2*7` 식에서 퍼셉트론의 모양이 보이지 않는가?\\\n",
    "그렇다 퍼셉트론 식 `y=h(w1*x1+w2*x2+b)`는 행렬곱을 통해서 더 간단히 표현할 수 있다.\n",
    "\n",
    "```\n",
    "X=(입력 x값의 행렬)\n",
    "W=(가중치 w값의 행렬)\n",
    "B=(편향 b가 하나 있는 행렬)\n",
    "A=(결과값 y값의 행렬)\n",
    "\n",
    "A=h(XW+B)\n",
    "```\n",
    "\n",
    "이 규칙을 통해 임의의 x와 w, b로 신경망 1층을 만들어보자.\n",
    "\n",
    "입력 2개의 대한 퍼셉트론 3개를 가진 층이다."
   ]
  },
  {
   "cell_type": "code",
   "execution_count": 211,
   "metadata": {},
   "outputs": [
    {
     "data": {
      "text/plain": [
       "array([0.57444252, 0.66818777, 0.75026011])"
      ]
     },
     "execution_count": 211,
     "metadata": {},
     "output_type": "execute_result"
    }
   ],
   "source": [
    "X=np.array([1.0, 0.5])        # 입력 층 입력값 (크기: 2)\n",
    "W1=np.array([                 # 1층(퍼셉트론 3개)의 대한 입력값(2개) 각각의 가중치 (크기: 2x3)\n",
    "  [0.1, 0.3, 0.5],\n",
    "  [0.2, 0.4, 0.6]\n",
    "])\n",
    "B1=np.array([0.1, 0.2, 0.3])  # 1층(퍼셉트론 3개)의 대한 각각의 편향 (크기: 3)\n",
    "\n",
    "h=sigmoid                     # 활성화 함수로 시그모이드 함수 사용\n",
    "A1=h(np.dot(X, W1) + B1)      # 1층의 퍼셉트론 3개의 결과값 (크기: 3)\n",
    "\n",
    "A1"
   ]
  },
  {
   "cell_type": "markdown",
   "metadata": {},
   "source": [
    "1층의 결과값 3개를 다음 층에 넘겨보자\n",
    "\n",
    "1층 결과값 3개의 대한 2개의 퍼셉트론을 가진 층이다."
   ]
  },
  {
   "cell_type": "code",
   "execution_count": 212,
   "metadata": {},
   "outputs": [
    {
     "data": {
      "text/plain": [
       "array([0.62624937, 0.7710107 ])"
      ]
     },
     "execution_count": 212,
     "metadata": {},
     "output_type": "execute_result"
    }
   ],
   "source": [
    "W2=np.array([                 # 2층(퍼셉트론 2개)의 대한 1층값(3개) 각각의 가중치 (크기: 3x2)\n",
    "  [0.1, 0.4],\n",
    "  [0.2, 0.5],\n",
    "  [0.3, 0.6]\n",
    "])\n",
    "B2=np.array([0.1, 0.2])       # 2층(퍼셉트론 2개)의 대한 각각의 편향 (크기: 2)\n",
    "\n",
    "h=sigmoid                     # 활성화 함수로 시그모이드 함수 사용\n",
    "A2=h(np.dot(A1, W2) + B2)     # 2층의 퍼셉트론 2개의 결과값 (크기: 2), 1층의 출력값을 사용\n",
    "\n",
    "A2"
   ]
  },
  {
   "cell_type": "markdown",
   "metadata": {},
   "source": [
    "마지막으로 2층의 결과값 2개를 출력 층 (퍼셉트론 2개)에 넘겨보자\\\n",
    "이때 출력층은 활성화 함수로 입력 받은것을 그대로 출력하는 항등 함수를 사용해보자"
   ]
  },
  {
   "cell_type": "code",
   "execution_count": 213,
   "metadata": {},
   "outputs": [
    {
     "data": {
      "text/plain": [
       "array([0.31682708, 0.69627909])"
      ]
     },
     "execution_count": 213,
     "metadata": {},
     "output_type": "execute_result"
    }
   ],
   "source": [
    "def identity(x: np.ndarray):\n",
    "  return x\n",
    "\n",
    "W3=np.array([                 # 출력층(퍼셉트론 2개)의 대한 2층값(2개) 각각의 가중치 (크기: 2x2)\n",
    "  [0.1, 0.3],\n",
    "  [0.2, 0.4]\n",
    "])\n",
    "B3=np.array([0.1, 0.2])       # 출력층(퍼셉트론 2개)의 대한 각각의 편향 (크기: 2)\n",
    "\n",
    "h=identity                    # 활성화 함수로 항등 함수 사용\n",
    "A3=h(np.dot(A2, W3) + B3)     # 출력층의 퍼셉트론 2개의 결과값 (크기: 2), 2층의 출력값을 사용\n",
    "\n",
    "A3"
   ]
  },
  {
   "cell_type": "markdown",
   "metadata": {},
   "source": [
    "이렇게 3층 신경망을 구현해 보았다. \\\n",
    "방금처럼 출력층에 경우 원하는 출력 형태의 따라 은닉층과 다른 함수를 사용하는 경우가 많다.\n",
    "\n",
    "Regression (회귀) = 항등 함수\\\n",
    "Classification (분류) = 시그모이드 (클래스 2개), 소프트맥스 (클래스 2개 이상)"
   ]
  },
  {
   "cell_type": "markdown",
   "metadata": {},
   "source": [
    "### 신경망 구현 정리\n",
    "앞에서 했던 신경망 구현을 한 스크립트로 모으면 다음과 같다"
   ]
  },
  {
   "cell_type": "code",
   "execution_count": 214,
   "metadata": {},
   "outputs": [
    {
     "data": {
      "text/plain": [
       "array([0.31682708, 0.69627909])"
      ]
     },
     "execution_count": 214,
     "metadata": {},
     "output_type": "execute_result"
    }
   ],
   "source": [
    "b1=np.array([0.1, 0.2, 0.3])\n",
    "W1=np.array([\n",
    "  [0.1, 0.3, 0.5],\n",
    "  [0.2, 0.4, 0.6]\n",
    "])\n",
    "\n",
    "b2=np.array([0.1, 0.2])\n",
    "W2=np.array([\n",
    "  [0.1, 0.4],\n",
    "  [0.2, 0.5],\n",
    "  [0.3, 0.6]\n",
    "])\n",
    "\n",
    "b3=np.array([0.1, 0.2])\n",
    "W3=np.array([\n",
    "  [0.1, 0.3],\n",
    "  [0.2, 0.4]\n",
    "])\n",
    "\n",
    "# ---\n",
    "\n",
    "def forward(x: np.ndarray):\n",
    "  a1=sigmoid(np.dot(x, W1) + b1)\n",
    "  a2=sigmoid(np.dot(a1, W2) + b2)\n",
    "  a3=identity(np.dot(a2, W3) + b3)\n",
    "\n",
    "  return a3\n",
    "\n",
    "# ---\n",
    "\n",
    "x=np.array([1.0, 0.5])\n",
    "y=forward(x)\n",
    "\n",
    "y"
   ]
  },
  {
   "cell_type": "markdown",
   "metadata": {},
   "source": [
    "### 소프트맥스 함수\n",
    "분류 문제에서 사용되는 소프트맥스 활성화 함수는 한가지 다른점이 있다.\\\n",
    "다른 활성화 함수의 경우 xW+b의 대한 결과값만 입력으로 취하지만 소프트맥스 함수의 경우\\\n",
    "해당 함수가 속하는 층의 모든 퍼셉트론의 결과값을 참고하여 활성화 결과를 출력한다.\n",
    "\n",
    "소프트맥스 함수의 경우 e 값을 적극 사용하며 다음과 같다."
   ]
  },
  {
   "cell_type": "code",
   "execution_count": 215,
   "metadata": {},
   "outputs": [
    {
     "data": {
      "text/plain": [
       "array([0.40625907, 0.59374093])"
      ]
     },
     "execution_count": 215,
     "metadata": {},
     "output_type": "execute_result"
    }
   ],
   "source": [
    "def softmax(x):\n",
    "    if x.ndim == 2:\n",
    "        x = x.T\n",
    "        x = x - np.max(x, axis=0)\n",
    "        y = np.exp(x) / np.sum(np.exp(x), axis=0)\n",
    "        return y.T \n",
    "\n",
    "    x = x - np.max(x) # 오버플로 대책\n",
    "    return np.exp(x) / np.sum(np.exp(x))\n",
    "\n",
    "softmax(y)"
   ]
  },
  {
   "cell_type": "markdown",
   "metadata": {},
   "source": [
    "이 소프트맥스 함수의 특징은 입력값의 대소 관계가 그대로 유지되면서도\\\n",
    "출력값이 0과 1 사이의 값들로 다 합칠 경우 1로 떨어지는 특징이 있다.\n",
    "\n",
    "이는 분류 문제에서 유용하게 사용할 수 있다."
   ]
  },
  {
   "cell_type": "markdown",
   "metadata": {},
   "source": [
    "### MNIST 손글씨 데이터셋의 대한 신경망 구현\n",
    "미리 계산된(학습된) W값과 b값들을 통해 신경망을 구현해보자\n",
    "\n",
    "이렇게 W값과 b값이 정해진 상태에서 입력을 신경망에 태우는 것을 Forward propagation, 순전파 라고 한다."
   ]
  },
  {
   "cell_type": "code",
   "execution_count": 216,
   "metadata": {},
   "outputs": [],
   "source": [
    "import mnist_loader"
   ]
  },
  {
   "cell_type": "code",
   "execution_count": 217,
   "metadata": {},
   "outputs": [],
   "source": [
    "_, (x, t) = mnist_loader.load_dataset(normalize=True, flatten=True, one_hot_label=False)\n",
    "network = mnist_loader.load_pretrained()\n",
    "\n",
    "def predict(network, x):\n",
    "  W1, W2, W3 = network['W1'], network['W2'], network['W3']\n",
    "  b1, b2, b3 = network['b1'], network['b2'], network['b3']\n",
    "\n",
    "  z1 = sigmoid(np.dot(x, W1) + b1)\n",
    "  z2 = sigmoid(np.dot(z1, W2) + b2)\n",
    "  y = softmax(np.dot(z2, W3) + b3)\n",
    "\n",
    "  return y"
   ]
  },
  {
   "cell_type": "markdown",
   "metadata": {},
   "source": [
    "이후 이 생성한 신경망에 테스트 데이터를 순전파해\\\n",
    "몇 %나 정답을 맞췄는지 확인해 보자"
   ]
  },
  {
   "cell_type": "code",
   "execution_count": 218,
   "metadata": {},
   "outputs": [
    {
     "data": {
      "text/plain": [
       "'Accuracy: 0.9352'"
      ]
     },
     "execution_count": 218,
     "metadata": {},
     "output_type": "execute_result"
    }
   ],
   "source": [
    "correct_count = 0\n",
    "\n",
    "for i in range(len(x)):\n",
    "  y = predict(network, x[i]) # 예측 시작\n",
    "  p = np.argmax(y)           # softmax 값이 가장 높은 원소 추출\n",
    "\n",
    "  if p == t[i]:              # 예측 성공하면 1 증가\n",
    "    correct_count += 1\n",
    "\n",
    "f\"Accuracy: {correct_count / len(x)}\" # 모든 데이터 중 맞는것의 비율"
   ]
  },
  {
   "cell_type": "markdown",
   "metadata": {},
   "source": [
    "93.52% 의 정확도로 예측하는데 성공했다. 93%면 높은것 같지만 나중에는 더 정확도를 높혀볼 것이다.\n",
    "\n",
    "그나저나 위의 스크립트는 데이터 셋을 하나하나 forward 했다.\\\n",
    "더 빠른 속도를 위해(numpy의 최적화 설계에서 최대한 이점을 얻기 위해) 한꺼번에 100개씩 forward해보자."
   ]
  },
  {
   "cell_type": "code",
   "execution_count": 219,
   "metadata": {},
   "outputs": [
    {
     "data": {
      "text/plain": [
       "'Accuracy: 0.9352'"
      ]
     },
     "execution_count": 219,
     "metadata": {},
     "output_type": "execute_result"
    }
   ],
   "source": [
    "batch_size = 100\n",
    "correct_count = 0\n",
    "\n",
    "for i in range(0, len(x), batch_size):    # i는 이제 100씩 증가한다.\n",
    "  y = predict(network, x[i:i+batch_size]) # i부터 i+100까지 한꺼번에 예측 시작\n",
    "  p = np.argmax(y, axis=1)                # softmax 값이 가장 높은 원소 100개 추출\n",
    "\n",
    "  correct_count += np.sum(p == t[i:i+batch_size]) # np.sum에서 True가 1으로 변환되는 것을 활용해서 맞은 개수를 한꺼번에 계산\n",
    "\n",
    "f\"Accuracy: {correct_count / len(x)}\" # 모든 데이터 중 맞는것의 비율"
   ]
  },
  {
   "cell_type": "markdown",
   "metadata": {},
   "source": [
    "### One-hot 인코딩\n",
    "MNIST 데이터셋을 불러올때 One-hot 인코딩을 할것인가 말것인가 선택하는 부분이 있었다.\\\n",
    "위 코드에서는 사용하지 않았지만 나중에 one-hot 인코딩을 사용할때를 대비해 무엇인지 알아보자\n",
    "\n",
    "다음과 같은 테이블이 있다고 생각해보자\n",
    "```\n",
    "| name | age | y                  |\n",
    "|------|-----|--------------------|\n",
    "| pmh  | 19  | Computer Science   |\n",
    "| ljw  | 18  | Art                |\n",
    "| cth  | 19  | Blockchain         |\n",
    "```\n",
    "\n",
    "y를 One-hot 인코딩하였을때 다음과 같아진다.\n",
    "```\n",
    "| name | age | y (Computer Science) | y (Art) | y (Blockchain) |\n",
    "|------|-----|----------------------|---------|----------------|\n",
    "| pmh  | 19  | True                 | False   | False          |\n",
    "| ljw  | 18  | False                | True    | False          |\n",
    "| cth  | 19  | False                | False   | True           |\n",
    "```"
   ]
  },
  {
   "cell_type": "markdown",
   "metadata": {},
   "source": [
    "## 신경망 학습\n",
    "위에서 제작한 신경망이 매우 많은 층을 이루고 있거나 많은 퍼셉트론을 가지고 있다면 사람이 손수 w값과 값을 알아맞추는 것은 매우 어려울 것이다.\\\n",
    "각 퍼셉트론의 w값과 b값 같은 파라미터들을 신경망이 스스로 조정하는 것을 우리는 신경망 학습이라고 한다"
   ]
  },
  {
   "cell_type": "markdown",
   "metadata": {},
   "source": [
    "### 딥러닝 신경망이란?\n",
    "머신러닝은 입력값의 특징 추출 알고리즘을 사람이 생각해서 결정한다는 특징이 있다.\\\n",
    "예를 들어 SIFT나 HOG같은 알고리즘을 원본 데이터에 적용시키고 SVM, KNN 같은 뉴럴 네트워크를 진행하는데 있다.\n",
    "\n",
    "하지만 딥러닝은 머신러닝과 다르게 종단간 머신러닝, 즉 처음부터 끝까지 신경망을 통해 진행한다.\\\n",
    "입력을 그대로 받아 신경망에 적용시킨다는 것이다."
   ]
  },
  {
   "cell_type": "markdown",
   "metadata": {},
   "source": [
    "### 훈련 데이터와 시험 데이터\n",
    "딥러닝을 훈련시키기 위해서는 두가지의 데이터셋이 필요하다\n",
    "\n",
    "훈련 데이터는 딥러닝 신경망을 학습시키기 위한 데이터로 신경망은 이것을 토대로 파라미터들을 조정하게 된다.\\\n",
    "시험 데이터는 훈련 데이터와 구분된 데이터셋으로 신경망이 입력받은 훈련 데이터에게만 적합한 과적합 상태가 되지 않도록 테스트하기 위해 존재한다.\n",
    "\n",
    "또한 이렇게 신경망이 훈련 데이터에만 치중되어 범용적이지 못하게 되는 것을 오버피팅이라고 예기한다."
   ]
  },
  {
   "cell_type": "markdown",
   "metadata": {},
   "source": [
    "### 손실 함수\n",
    "손실함수는 현재의 파라미터로 훈련 데이터에서 얼마나 예측에 실패했냐를 의미하는 함수이다.\n",
    "\n",
    "신경망은 손실 함수의 값을 통하여 현재 자신이 얼마나 더 수정되어야 하는지 결정하게 된다.\\\n",
    "사실 어려운게 아니라 y 배열과 t 배열을 받았을때 두 배열이 얼마나 차이나냐~ 라는 말이다."
   ]
  },
  {
   "cell_type": "markdown",
   "metadata": {},
   "source": [
    "#### 평균 제곱 오차\n",
    "평균 제곱 오차(MSE) 함수는 손실 함수 중에서 가장 많이 사용되는 함수로\n",
    "\n",
    "파이썬 코드로 다음과 같이 작성할 수 있다"
   ]
  },
  {
   "cell_type": "code",
   "execution_count": 220,
   "metadata": {},
   "outputs": [],
   "source": [
    "def mean_squared_error(y, t):\n",
    "  return 0.5 * np.sum((y-t)**2)"
   ]
  },
  {
   "cell_type": "markdown",
   "metadata": {},
   "source": [
    "이때 y는 모델이 예측한 결과 값이며 t는 실제 정답 값이다.\n",
    "\n",
    "Class가 5개인 Classification 문제에서 다음과 같은 y와 t가 나왔을때 MSE값을 보자"
   ]
  },
  {
   "cell_type": "code",
   "execution_count": 221,
   "metadata": {},
   "outputs": [
    {
     "data": {
      "text/plain": [
       "np.float64(0.4262500000000001)"
      ]
     },
     "execution_count": 221,
     "metadata": {},
     "output_type": "execute_result"
    }
   ],
   "source": [
    "t = np.array([0, 0, 1, 0, 0]) # 정답은 class 2\n",
    "y = np.array([0.4, 0.1, 0.2, 0.05, 0.2]) # 정답이 class 0이라고 예측함\n",
    "\n",
    "mean_squared_error(y, t) # 0.4 정도로 손실률이 높음"
   ]
  },
  {
   "cell_type": "code",
   "execution_count": 222,
   "metadata": {},
   "outputs": [
    {
     "data": {
      "text/plain": [
       "np.float64(0.12625000000000003)"
      ]
     },
     "execution_count": 222,
     "metadata": {},
     "output_type": "execute_result"
    }
   ],
   "source": [
    "y = np.array([0.2, 0.1, 0.6, 0.05, 0.2]) # 정답이 class 2이라고 예측함\n",
    "\n",
    "mean_squared_error(y, t) # 0.1 정도로 손실률이 낮음"
   ]
  },
  {
   "cell_type": "markdown",
   "metadata": {},
   "source": [
    "이렇게 정답과 가까워질수록 손실함수의 결과값이 낮아지는 것을 볼 수 있다.\n",
    "\n",
    "신경망은 이 값을 기준으로 학습을 진행하게 된다."
   ]
  },
  {
   "cell_type": "markdown",
   "metadata": {},
   "source": [
    "#### 교차 엔트로피 오차\n",
    "또 다른 함수인 교차 엔트로피 오차를 살펴보자. 이것도 자주 사용된다."
   ]
  },
  {
   "cell_type": "code",
   "execution_count": 223,
   "metadata": {},
   "outputs": [
    {
     "data": {
      "text/plain": [
       "np.float64(1.6094374124342252)"
      ]
     },
     "execution_count": 223,
     "metadata": {},
     "output_type": "execute_result"
    }
   ],
   "source": [
    "def cross_entropy_error(y, t):\n",
    "  delta = 1e-7 # log(0)으로 인해 -Infinity가 나지 않도록 매우 작은 값 추가\n",
    "  return -np.sum(t * np.log(y + delta))\n",
    "\n",
    "y = np.array([0.4, 0.1, 0.2, 0.05, 0.2]) # 정답이 class 0이라고 예측함\n",
    "\n",
    "cross_entropy_error(y, t) # 1.6 정도로 손실률이 높음"
   ]
  },
  {
   "cell_type": "code",
   "execution_count": 224,
   "metadata": {},
   "outputs": [
    {
     "data": {
      "text/plain": [
       "np.float64(0.510825457099338)"
      ]
     },
     "execution_count": 224,
     "metadata": {},
     "output_type": "execute_result"
    }
   ],
   "source": [
    "y = np.array([0.2, 0.1, 0.6, 0.05, 0.2]) # 정답이 class 2이라고 예측함\n",
    "\n",
    "cross_entropy_error(y, t) # 0.5 정도로 손실률이 낮음"
   ]
  },
  {
   "cell_type": "markdown",
   "metadata": {},
   "source": [
    "#### 배치값을 위한 교차 엔트로피 오차\n",
    "이때까지의 손실 함수는 하나의 데이터의 대한 손실 함수이다.\\\n",
    "만약 배치 작업을 해서 여러 데이터의 대한 결과가 나왔을때 그 모든것에 대한 손실 함수는 다음과 같이 짤 수 있다."
   ]
  },
  {
   "cell_type": "code",
   "execution_count": 225,
   "metadata": {},
   "outputs": [
    {
     "data": {
      "text/plain": [
       "np.float64(1.2432334273225962)"
      ]
     },
     "execution_count": 225,
     "metadata": {},
     "output_type": "execute_result"
    }
   ],
   "source": [
    "def cross_entropy_error(y: np.ndarray, t: np.ndarray):\n",
    "  if y.ndim == 1:            # 입력이 배치가 아닐 경우(1차원일 경우) 아래 식이 작동하지 않아 그냥 대충 2차원으로 때운다\n",
    "    t = t.reshape(1, t.size)\n",
    "    y = y.reshape(1, y.size)\n",
    "  \n",
    "  # 훈련 데이터가 원-핫 벡터라면 정답 레이블의 인덱스로 반환\n",
    "  if t.size == y.size:\n",
    "    t = t.argmax(axis=1)\n",
    "            \n",
    "  batch_size = y.shape[0]\n",
    "  return -np.sum(np.log(y[np.arange(batch_size), t] + 1e-7)) / batch_size\n",
    "\n",
    "t = np.array([\n",
    "  [0, 0, 1, 0, 0],\n",
    "  [0, 0, 1, 0, 0],\n",
    "  [0, 0, 1, 0, 0] # 정답이 2일때\n",
    "])\n",
    "\n",
    "y = np.array([\n",
    "  [0.4, 0.1, 0.2, 0.05, 0.2], # 정답을 0으로 예측 (틀림)\n",
    "  [0.4, 0.1, 0.2, 0.05, 0.2], # 정답을 0으로 예측 (틀림)\n",
    "  [0.2, 0.1, 0.6, 0.05, 0.2]  # 정답을 2으로 예측 (정답)\n",
    "])\n",
    "\n",
    "cross_entropy_error(y, t)"
   ]
  },
  {
   "cell_type": "code",
   "execution_count": 226,
   "metadata": {},
   "outputs": [
    {
     "data": {
      "text/plain": [
       "np.float64(0.8770294422109671)"
      ]
     },
     "execution_count": 226,
     "metadata": {},
     "output_type": "execute_result"
    }
   ],
   "source": [
    "y = np.array([\n",
    "  [0.4, 0.1, 0.2, 0.05, 0.2], # 정답을 0으로 예측 (틀림)\n",
    "  [0.2, 0.1, 0.6, 0.05, 0.2], # 정답을 2으로 예측 (정답)\n",
    "  [0.2, 0.1, 0.6, 0.05, 0.2]  # 정답을 2으로 예측 (정답)\n",
    "])\n",
    "\n",
    "cross_entropy_error(y, t)"
   ]
  },
  {
   "cell_type": "markdown",
   "metadata": {},
   "source": [
    "### 미니배치\n",
    "손실 함수를 사용하려면 먼저 예측값을 알아야하므로 순전파를 완료해야 한다. \\\n",
    "게다가 완료한 순전파 값들을 계산하여 손실률을 구해야한다\n",
    "\n",
    "위 예제에서는 순전파 완료 값을 직접 지정했고 개수도 몇개 안되므로 빠르게 끝났지만\\\n",
    "데이터셋이 매우 많을 경우를 생각해보면 손실 함수 실행 속도가 너무 느릴 수 있다.\n",
    "\n",
    "그래서 데이터셋에서 일부분을 랜덤하게 뽑아와 그거의 대한 손실 함수만 계산한 하는 것을 미니배치라고 하며\\\n",
    "이때 이 미니배치의 크기를 **배치 사이즈**라고 부른다. 또한 이 미니배치를 여러번 반복해서 데이터 셋을 완전히 1번 소진하였을때 1 **에폭**이라 부르며\\\n",
    "이 에폭값이 높으면 높을수록 데이터셋을 여러번 학습에 사용했다는 것을 말한다."
   ]
  },
  {
   "cell_type": "markdown",
   "metadata": {},
   "source": [
    "### 정답률이 아니라 손실율을 쓰는 이유?\n",
    "정답률을 기준으로 하면 되지 왜 손실율을 쓰는지는 미분의 정의와 관련이 있다.\n",
    "\n",
    "미분은 함수 f의 그래프가 있을때 한없이 작은 범위에서의 기울기를 구하는 것을 의미한다.\\\n",
    "미분을 통해 자신의 위치의 기울기를 알게 되면 우리가 원하는 값으로 가는 기울기를 제시해 줄 수 있다는 것이다.\n",
    "\n",
    "이것을 우리가 배우는 것에 대입하면 퍼셉트론의 w, b에 대한 손실함수를 미분하여 손실율이 가장 적도록 만드는 기울기를 알 수 있다는 것이다. \\\n",
    "그리고 그 기울기를 적절히 타고 내려가면 손실율이 낮은 w와 b값을 알 수 있게 된다!"
   ]
  },
  {
   "cell_type": "markdown",
   "metadata": {},
   "source": [
    "### 함수의 대한 미분 (=특정 지점 기울기 구하기)\n",
    "위에서 설명한 미분 함수는 다음과 같이 정의할 수 있다.\n",
    "\n",
    "미분을 계산할 함수 f를 받으며 특정 지점 좌표인 numpy 배열 x를 받는다.\\\n",
    "함수의 파라미터가 많으므로 편미분이라 할 수 있으며 폰노이만식 컴퓨터의 소숫점 계산 문제를 해결하기 위해 차분을 사용하도록 약간 변형되어 있다."
   ]
  },
  {
   "cell_type": "code",
   "execution_count": 227,
   "metadata": {},
   "outputs": [],
   "source": [
    "def numerical_gradient(f, x: np.ndarray):\n",
    "  h = 1e-4\n",
    "  grad = np.zeros_like(x)\n",
    "\n",
    "  for idx in range(x.size):\n",
    "    tmp = x[idx]\n",
    "\n",
    "    x[idx] = tmp + h\n",
    "    fxh1 = f(x)\n",
    "\n",
    "    x[idx] = tmp - h\n",
    "    fxh2 = f(x)\n",
    "\n",
    "    grad[idx] = (fxh1 - fxh2) / (2 * h)\n",
    "    x[idx] = tmp\n",
    "\n",
    "  return grad"
   ]
  },
  {
   "cell_type": "markdown",
   "metadata": {},
   "source": [
    "자 이제 함수 f 을 미분해보자"
   ]
  },
  {
   "cell_type": "code",
   "execution_count": 228,
   "metadata": {},
   "outputs": [
    {
     "data": {
      "text/plain": [
       "array([6., 8.])"
      ]
     },
     "execution_count": 228,
     "metadata": {},
     "output_type": "execute_result"
    }
   ],
   "source": [
    "def f(x: np.ndarray):\n",
    "  return x[0] ** 2 + x[1] ** 2\n",
    "\n",
    "numerical_gradient(f, np.array([3.0, 4.0])) # 출력시 numpy가 결과값을 약간 반올림 해준다."
   ]
  },
  {
   "cell_type": "code",
   "execution_count": 229,
   "metadata": {},
   "outputs": [
    {
     "data": {
      "text/plain": [
       "array([0., 4.])"
      ]
     },
     "execution_count": 229,
     "metadata": {},
     "output_type": "execute_result"
    }
   ],
   "source": [
    "numerical_gradient(f, np.array([0.0, 2.0]))"
   ]
  },
  {
   "cell_type": "code",
   "execution_count": 230,
   "metadata": {},
   "outputs": [
    {
     "data": {
      "text/plain": [
       "array([6., 0.])"
      ]
     },
     "execution_count": 230,
     "metadata": {},
     "output_type": "execute_result"
    }
   ],
   "source": [
    "numerical_gradient(f, np.array([3.0, 0.0]))"
   ]
  },
  {
   "cell_type": "markdown",
   "metadata": {},
   "source": [
    "배치를 고려한 함수는 다음과 같이 작성할 수 있다."
   ]
  },
  {
   "cell_type": "code",
   "execution_count": 231,
   "metadata": {},
   "outputs": [],
   "source": [
    "def _numerical_gradient_no_batch(f, x):\n",
    "  h = 1e-4\n",
    "  grad = np.zeros_like(x)\n",
    "\n",
    "  for idx in range(x.size):\n",
    "    tmp = x[idx]\n",
    "\n",
    "    x[idx] = tmp + h\n",
    "    fxh1 = f(x)\n",
    "\n",
    "    x[idx] = tmp - h\n",
    "    fxh2 = f(x)\n",
    "\n",
    "    grad[idx] = (fxh1 - fxh2) / (2 * h)\n",
    "    x[idx] = tmp\n",
    "\n",
    "  return grad\n",
    "\n",
    "def numerical_gradient(f, X):\n",
    "    if X.ndim == 1:\n",
    "        return _numerical_gradient_no_batch(f, X)\n",
    "    \n",
    "    grad = np.zeros_like(X)\n",
    "    for idx, x in enumerate(X):\n",
    "        grad[idx] = _numerical_gradient_no_batch(f, x)\n",
    "    \n",
    "    return grad"
   ]
  },
  {
   "cell_type": "markdown",
   "metadata": {},
   "source": [
    "### 경사하강법\n",
    "경사 하강법은 간단하게 말하면 현재 위치를 하나 잡고 미분한뒤 그 기울기 만큼 조금 이동 후 다시 미분.. 을 반복하는 것을 의미한다.\n",
    "\n",
    "이때 여러가지 인자값이 필요하게 되는데:\n",
    "\n",
    "`f`: 경사하강법을 시행할 함수\\\n",
    "`init_x`: 시작 지점 좌표\\\n",
    "`lr`: learning rate라고도 하며 미분을 통해 알아낸 기울기를 통해 얼마만큼 이동할 것인가를 의미한다.\\\n",
    "`step_num`: 미분의 기울기와 lr값을 통해 몇번이나 내려가는 작업을 반복할꺼냐는 의미이다.\n",
    "\n",
    "이때 lr이 너무 크게 되면 이리저리 왔다갔다 하느라 최저점을 찾기 어려워지고\\\n",
    "lr이 너무 작게 되면 하강에 너무 오래걸려 별로 움직이지를 않는다.\n",
    "\n",
    "코드로 작성하면 다음과 같다."
   ]
  },
  {
   "cell_type": "code",
   "execution_count": 232,
   "metadata": {},
   "outputs": [],
   "source": [
    "def gradient_descent(f, init_x: np.ndarray, lr=0.01, step_num=100):\n",
    "  x = init_x\n",
    "\n",
    "  for _ in range(step_num):\n",
    "    grad = numerical_gradient(f, x)\n",
    "    x -= lr * grad\n",
    "\n",
    "  return x"
   ]
  },
  {
   "cell_type": "code",
   "execution_count": 233,
   "metadata": {},
   "outputs": [
    {
     "data": {
      "text/plain": [
       "array([-2.58983747e+13, -1.29524862e+12])"
      ]
     },
     "execution_count": 233,
     "metadata": {},
     "output_type": "execute_result"
    }
   ],
   "source": [
    "init_x = np.array([-3.0, 4.0])\n",
    "gradient_descent(f, init_x, lr=10.0, step_num=100) # lr이 너무 클때 최저점 못찾음"
   ]
  },
  {
   "cell_type": "code",
   "execution_count": 234,
   "metadata": {},
   "outputs": [
    {
     "data": {
      "text/plain": [
       "array([-2.99999994,  3.99999992])"
      ]
     },
     "execution_count": 234,
     "metadata": {},
     "output_type": "execute_result"
    }
   ],
   "source": [
    "init_x = np.array([-3.0, 4.0])\n",
    "gradient_descent(f, init_x, lr=1e-10, step_num=100) # lr이 너무 작을때 별로 움직이지 않음"
   ]
  },
  {
   "cell_type": "code",
   "execution_count": 235,
   "metadata": {},
   "outputs": [
    {
     "data": {
      "text/plain": [
       "array([-6.11110793e-10,  8.14814391e-10])"
      ]
     },
     "execution_count": 235,
     "metadata": {},
     "output_type": "execute_result"
    }
   ],
   "source": [
    "init_x = np.array([-3.0, 4.0])\n",
    "gradient_descent(f, init_x, lr=0.1, step_num=100) # 적정값"
   ]
  },
  {
   "cell_type": "markdown",
   "metadata": {},
   "source": [
    "### 엑조디아\n",
    "다 합쳐보자, 2층짜리 신경망이다."
   ]
  },
  {
   "cell_type": "code",
   "execution_count": 236,
   "metadata": {},
   "outputs": [],
   "source": [
    "class MyAwesomeModel:\n",
    "  # 초기값 설정\n",
    "  def __init__(self, input_size, hidden_size, output_size):\n",
    "    self.params = {}\n",
    "    self.params['W1'] = 0.01 * np.random.randn(input_size, hidden_size) # 초기 weight 값은 그냥 랜덤하게 해보자, 랜덤이 너무 커서 0.01을 곱해줬다\n",
    "    self.params['b1'] = np.zeros(hidden_size)                           # bias값은 비운다\n",
    "    \n",
    "    self.params['W2'] = 0.01 * np.random.randn(hidden_size, output_size)\n",
    "    self.params['b2'] = np.zeros(output_size)\n",
    "\n",
    "  # 예측 (순전파)\n",
    "  def predict(self, x):\n",
    "    W1, W2 = self.params['W1'], self.params['W2']\n",
    "    b1, b2 = self.params['b1'], self.params['b2']\n",
    "\n",
    "    a1 = np.dot(x, W1) + b1   # 퍼셉트론 실행\n",
    "    z1 = sigmoid(a1)          # 활성화 함수 실행\n",
    "\n",
    "    a2 = np.dot(z1, W2) + b2\n",
    "    y = softmax(a2)           # n>2개 classficiation 문제이므로 softmax 사용\n",
    "\n",
    "    return y\n",
    "  \n",
    "  # 손실 함수\n",
    "  def loss(self, x, t):\n",
    "    y = self.predict(x)\n",
    "\n",
    "    return cross_entropy_error(y, t)\n",
    "\n",
    "  # 정확도 테스트 함수\n",
    "  def accuracy(self, x, t):\n",
    "    y = self.predict(x)\n",
    "\n",
    "    y = np.argmax(y, axis=1) # 예측에서 softmax 한 것중 가장 큰것 선택\n",
    "    t = np.argmax(t, axis=1) # 정답 데이터셋은 one hot 인코딩 되어 있어서 가장 큰것 선택\n",
    "\n",
    "    return np.sum(y == t) / float(x.shape[0])\n",
    "  \n",
    "  # 손실 함수의 대한 기울기 계산 (미분)\n",
    "  def numerical_gradient(self, x, t):\n",
    "    loss_W = lambda W: self.loss(x, t) # 미분 대상 함수 (손실 함수)\n",
    "\n",
    "    grads = {}\n",
    "    grads['W1'] = numerical_gradient(loss_W, self.params['W1']) # 1층 w값의 대한 기울기\n",
    "    grads['b1'] = numerical_gradient(loss_W, self.params['b1']) # 1층 b값의 대한 기울기\n",
    "\n",
    "    grads['W2'] = numerical_gradient(loss_W, self.params['W2'])\n",
    "    grads['b2'] = numerical_gradient(loss_W, self.params['b2'])\n",
    "\n",
    "    return grads"
   ]
  },
  {
   "cell_type": "markdown",
   "metadata": {},
   "source": [
    "그럼 위 신경망을 MNIST 데이터셋으로 학습시켜보자."
   ]
  },
  {
   "cell_type": "code",
   "execution_count": 237,
   "metadata": {},
   "outputs": [],
   "source": [
    "%%script true\n",
    "\n",
    "# \n",
    "# 네트워크 준비 ---\n",
    "net = MyAwesomeModel(\n",
    "  input_size  = 28 * 28, # MNIST의 사진 크기가 28 픽셀 곱하기 28이므로 입력층 28*28노드\n",
    "  hidden_size = 50,     # 은닉층 퍼셉트론 100개\n",
    "  output_size = 10       # 0부터 10까지를 예측하는 classification 문제이므로 출력층 퍼셉트론 10개 \n",
    ")\n",
    "\n",
    "\n",
    "#\n",
    "# 데이터셋 준비 --- \n",
    "\n",
    "(x_train, t_train), (x_test, t_test) = \\\n",
    "  mnist_loader.load_dataset(normalize=True, one_hot_label=True)\n",
    "\n",
    "\n",
    "#\n",
    "# 하이퍼파라미터 ---\n",
    "\n",
    "epochs        = 16                 # 데이터셋 전체 학습 횟수\n",
    "train_size    = x_train.shape[0]   # 총 데이터셋의 개수\n",
    "batch_size    = 100                # 미니배치 크기\n",
    "learning_rate = 0.1                # 경사하강법 lr\n",
    "\n",
    "\n",
    "#\n",
    "# 학습 시작\n",
    "\n",
    "# 한 에폭 시작\n",
    "for epoch_idx in range(epochs):\n",
    "  print(f\"Epoch #{epoch_idx} ---\")\n",
    "\n",
    "  # 데이터셋 섞기 (데이터셋이 혹시나 제대로 분포되어 있지 않을 수 있어 한번 섞어준다. ex: 앞에는 정답이 0인 사진만 있는다던지...)\n",
    "  s = np.arange(0, train_size, 1)\n",
    "  np.random.shuffle(s)\n",
    "\n",
    "  x_train = x_train[s]\n",
    "  t_train = t_train[s]\n",
    "\n",
    "  # 한 미니배치 생성\n",
    "  for iter_start in range(0, train_size, batch_size):\n",
    "    print(f\"  Mini-Batch: {iter_start}...{iter_start+batch_size}\")\n",
    "\n",
    "    x_batch = x_train[iter_start:iter_start+batch_size]\n",
    "    t_batch = t_train[iter_start:iter_start+batch_size]\n",
    "\n",
    "    # 기울기 계산\n",
    "    grad = net.numerical_gradient(x_batch, t_batch)\n",
    "\n",
    "    # 기울기 반영\n",
    "    for key in ('W1', 'b1', 'W2', 'b2'):\n",
    "      net.params[key] -= learning_rate * grad[key]\n",
    "\n",
    "    # 손실율 기록\n",
    "    loss = net.loss(x_batch, t_batch)\n",
    "    print(f\"  Loss: {loss}\")\n",
    "\n",
    "  # 에폭 종료후 정확도 계산\n",
    "  train_acc = net.accuracy(x_train, t_train)\n",
    "  test_acc = net.accuracy(x_test, t_test)\n",
    "\n",
    "  print(f\"Epoch #{epoch_idx} accuracy: train {train_acc}, test {test_acc}\")\n"
   ]
  },
  {
   "cell_type": "markdown",
   "metadata": {},
   "source": [
    "위의 학습 코드를 실행시키면 우리가 작성한 미분 함수로는 매우 학습에 오래 걸린다는 것을 알 수 있다.\n",
    "\n",
    "이 알고리즘을 쫌 더 개선해 보자"
   ]
  },
  {
   "cell_type": "markdown",
   "metadata": {},
   "source": [
    "## 오차역전파법 (역전파)\n",
    "앞의 수치 미분을 통해 가중치를 수정하는 방법은 구현이 간단하고 이해하기 쉽지만 시간이 오래 걸린다\\\n",
    "이번에는 효율적으로 기울기를 계산하는 오차역전파법을 알아보자."
   ]
  },
  {
   "cell_type": "markdown",
   "metadata": {},
   "source": [
    "### 계산 그래프\n",
    "다음과 같은 간단한 함수 f가 있다고 가정하자."
   ]
  },
  {
   "cell_type": "code",
   "execution_count": 238,
   "metadata": {},
   "outputs": [
    {
     "data": {
      "text/plain": [
       "150"
      ]
     },
     "execution_count": 238,
     "metadata": {},
     "output_type": "execute_result"
    }
   ],
   "source": [
    "def f(x: int):\n",
    "  return x * 12 + 30\n",
    "\n",
    "f(10)"
   ]
  },
  {
   "cell_type": "markdown",
   "metadata": {},
   "source": [
    "이 함수는 x로 10을 주었을때 150을 반환한다.\\\n",
    "이 함수를 계산 그래프를 통해 나타내면 다음과 같다."
   ]
  },
  {
   "cell_type": "code",
   "execution_count": 239,
   "metadata": {},
   "outputs": [
    {
     "data": {
      "image/svg+xml": [
       "<?xml version=\"1.0\" encoding=\"UTF-8\" standalone=\"no\"?>\n",
       "<!DOCTYPE svg PUBLIC \"-//W3C//DTD SVG 1.1//EN\"\n",
       " \"http://www.w3.org/Graphics/SVG/1.1/DTD/svg11.dtd\">\n",
       "<!-- Generated by graphviz version 12.1.2 (0)\n",
       " -->\n",
       "<!-- Pages: 1 -->\n",
       "<svg width=\"494pt\" height=\"116pt\"\n",
       " viewBox=\"0.00 0.00 494.00 116.00\" xmlns=\"http://www.w3.org/2000/svg\" xmlns:xlink=\"http://www.w3.org/1999/xlink\">\n",
       "<g id=\"graph0\" class=\"graph\" transform=\"scale(1 1) rotate(0) translate(4 112)\">\n",
       "<polygon fill=\"white\" stroke=\"none\" points=\"-4,4 -4,-112 490,-112 490,4 -4,4\"/>\n",
       "<!-- x -->\n",
       "<g id=\"node1\" class=\"node\">\n",
       "<title>x</title>\n",
       "<ellipse fill=\"none\" stroke=\"black\" cx=\"27\" cy=\"-90\" rx=\"27\" ry=\"18\"/>\n",
       "<text text-anchor=\"middle\" x=\"27\" y=\"-83.83\" font-family=\"Times,serif\" font-size=\"14.00\">x</text>\n",
       "</g>\n",
       "<!-- a -->\n",
       "<g id=\"node2\" class=\"node\">\n",
       "<title>a</title>\n",
       "<ellipse fill=\"none\" stroke=\"black\" cx=\"171\" cy=\"-90\" rx=\"27\" ry=\"18\"/>\n",
       "<text text-anchor=\"middle\" x=\"171\" y=\"-83.83\" font-family=\"Times,serif\" font-size=\"14.00\">*</text>\n",
       "</g>\n",
       "<!-- x&#45;&gt;a -->\n",
       "<g id=\"edge1\" class=\"edge\">\n",
       "<title>x&#45;&gt;a</title>\n",
       "<path fill=\"none\" stroke=\"black\" d=\"M54.42,-90C76.44,-90 107.63,-90 132.21,-90\"/>\n",
       "<polygon fill=\"black\" stroke=\"black\" points=\"132.16,-93.5 142.16,-90 132.16,-86.5 132.16,-93.5\"/>\n",
       "</g>\n",
       "<!-- b -->\n",
       "<g id=\"node3\" class=\"node\">\n",
       "<title>b</title>\n",
       "<ellipse fill=\"none\" stroke=\"black\" cx=\"315\" cy=\"-90\" rx=\"27\" ry=\"18\"/>\n",
       "<text text-anchor=\"middle\" x=\"315\" y=\"-83.83\" font-family=\"Times,serif\" font-size=\"14.00\">+</text>\n",
       "</g>\n",
       "<!-- a&#45;&gt;b -->\n",
       "<g id=\"edge2\" class=\"edge\">\n",
       "<title>a&#45;&gt;b</title>\n",
       "<path fill=\"none\" stroke=\"black\" d=\"M198.42,-90C220.44,-90 251.63,-90 276.21,-90\"/>\n",
       "<polygon fill=\"black\" stroke=\"black\" points=\"276.16,-93.5 286.16,-90 276.16,-86.5 276.16,-93.5\"/>\n",
       "</g>\n",
       "<!-- c -->\n",
       "<g id=\"node4\" class=\"node\">\n",
       "<title>c</title>\n",
       "<ellipse fill=\"none\" stroke=\"black\" cx=\"459\" cy=\"-90\" rx=\"27\" ry=\"18\"/>\n",
       "<text text-anchor=\"middle\" x=\"459\" y=\"-83.83\" font-family=\"Times,serif\" font-size=\"14.00\">f(x)</text>\n",
       "</g>\n",
       "<!-- b&#45;&gt;c -->\n",
       "<g id=\"edge3\" class=\"edge\">\n",
       "<title>b&#45;&gt;c</title>\n",
       "<path fill=\"none\" stroke=\"black\" d=\"M342.42,-90C364.44,-90 395.63,-90 420.21,-90\"/>\n",
       "<polygon fill=\"black\" stroke=\"black\" points=\"420.16,-93.5 430.16,-90 420.16,-86.5 420.16,-93.5\"/>\n",
       "</g>\n",
       "<!-- a1 -->\n",
       "<!-- a1&#45;&gt;a -->\n",
       "<g id=\"edge4\" class=\"edge\">\n",
       "<title>a1&#45;&gt;a</title>\n",
       "<path fill=\"none\" stroke=\"black\" d=\"M114.27,-33.27C124.01,-43.01 136.81,-55.81 147.79,-66.79\"/>\n",
       "<polygon fill=\"black\" stroke=\"black\" points=\"145.14,-69.09 154.68,-73.68 150.09,-64.14 145.14,-69.09\"/>\n",
       "<text text-anchor=\"middle\" x=\"124.28\" y=\"-50.98\" font-family=\"Times,serif\" font-size=\"14.00\">12</text>\n",
       "</g>\n",
       "<!-- b1 -->\n",
       "<!-- b1&#45;&gt;b -->\n",
       "<g id=\"edge5\" class=\"edge\">\n",
       "<title>b1&#45;&gt;b</title>\n",
       "<path fill=\"none\" stroke=\"black\" d=\"M258.27,-33.27C268.01,-43.01 280.81,-55.81 291.79,-66.79\"/>\n",
       "<polygon fill=\"black\" stroke=\"black\" points=\"289.14,-69.09 298.68,-73.68 294.09,-64.14 289.14,-69.09\"/>\n",
       "<text text-anchor=\"middle\" x=\"268.28\" y=\"-50.98\" font-family=\"Times,serif\" font-size=\"14.00\">30</text>\n",
       "</g>\n",
       "</g>\n",
       "</svg>\n"
      ],
      "text/plain": [
       "<graphviz.graphs.Digraph at 0x7f6f2a801220>"
      ]
     },
     "execution_count": 239,
     "metadata": {},
     "output_type": "execute_result"
    }
   ],
   "source": [
    "import graphviz\n",
    "\n",
    "dot = graphviz.Digraph(\n",
    "  strict=True,\n",
    "  engine='fdp'\n",
    ")\n",
    "\n",
    "dot.node('x',         pos='0,0!')\n",
    "dot.node('a', '*',    pos='2,0!')\n",
    "dot.node('b', '+',    pos='4,0!')\n",
    "dot.node('c', 'f(x)', pos='6,0!')\n",
    "\n",
    "dot.node('a1', style='invis', pos='1,-1!')\n",
    "dot.node('b1', style='invis', pos='3,-1!')\n",
    "\n",
    "dot.edges(['xa', 'ab', 'bc'])\n",
    "dot.edge('a1', 'a', '12')\n",
    "dot.edge('b1', 'b', '30')\n",
    "\n",
    "dot"
   ]
  },
  {
   "cell_type": "markdown",
   "metadata": {},
   "source": [
    "x에 10을 대입하였을때는 다음과 같이 그릴 수 있다."
   ]
  },
  {
   "cell_type": "code",
   "execution_count": 240,
   "metadata": {},
   "outputs": [
    {
     "data": {
      "image/svg+xml": [
       "<?xml version=\"1.0\" encoding=\"UTF-8\" standalone=\"no\"?>\n",
       "<!DOCTYPE svg PUBLIC \"-//W3C//DTD SVG 1.1//EN\"\n",
       " \"http://www.w3.org/Graphics/SVG/1.1/DTD/svg11.dtd\">\n",
       "<!-- Generated by graphviz version 12.1.2 (0)\n",
       " -->\n",
       "<!-- Pages: 1 -->\n",
       "<svg width=\"494pt\" height=\"116pt\"\n",
       " viewBox=\"0.00 0.00 494.00 116.00\" xmlns=\"http://www.w3.org/2000/svg\" xmlns:xlink=\"http://www.w3.org/1999/xlink\">\n",
       "<g id=\"graph0\" class=\"graph\" transform=\"scale(1 1) rotate(0) translate(4 112)\">\n",
       "<polygon fill=\"white\" stroke=\"none\" points=\"-4,4 -4,-112 490,-112 490,4 -4,4\"/>\n",
       "<!-- x -->\n",
       "<g id=\"node1\" class=\"node\">\n",
       "<title>x</title>\n",
       "<ellipse fill=\"none\" stroke=\"black\" cx=\"27\" cy=\"-90\" rx=\"27\" ry=\"18\"/>\n",
       "<text text-anchor=\"middle\" x=\"27\" y=\"-83.83\" font-family=\"Times,serif\" font-size=\"14.00\">10</text>\n",
       "</g>\n",
       "<!-- a -->\n",
       "<g id=\"node2\" class=\"node\">\n",
       "<title>a</title>\n",
       "<ellipse fill=\"none\" stroke=\"black\" cx=\"171\" cy=\"-90\" rx=\"27\" ry=\"18\"/>\n",
       "<text text-anchor=\"middle\" x=\"171\" y=\"-83.83\" font-family=\"Times,serif\" font-size=\"14.00\">*</text>\n",
       "</g>\n",
       "<!-- x&#45;&gt;a -->\n",
       "<g id=\"edge1\" class=\"edge\">\n",
       "<title>x&#45;&gt;a</title>\n",
       "<path fill=\"none\" stroke=\"black\" d=\"M54.42,-90C76.44,-90 107.63,-90 132.21,-90\"/>\n",
       "<polygon fill=\"black\" stroke=\"black\" points=\"132.16,-93.5 142.16,-90 132.16,-86.5 132.16,-93.5\"/>\n",
       "<text text-anchor=\"middle\" x=\"86.57\" y=\"-90.95\" font-family=\"Times,serif\" font-size=\"14.00\">10</text>\n",
       "</g>\n",
       "<!-- b -->\n",
       "<g id=\"node3\" class=\"node\">\n",
       "<title>b</title>\n",
       "<ellipse fill=\"none\" stroke=\"black\" cx=\"315\" cy=\"-90\" rx=\"27\" ry=\"18\"/>\n",
       "<text text-anchor=\"middle\" x=\"315\" y=\"-83.83\" font-family=\"Times,serif\" font-size=\"14.00\">+</text>\n",
       "</g>\n",
       "<!-- a&#45;&gt;b -->\n",
       "<g id=\"edge2\" class=\"edge\">\n",
       "<title>a&#45;&gt;b</title>\n",
       "<path fill=\"none\" stroke=\"black\" d=\"M198.42,-90C220.44,-90 251.63,-90 276.21,-90\"/>\n",
       "<polygon fill=\"black\" stroke=\"black\" points=\"276.16,-93.5 286.16,-90 276.16,-86.5 276.16,-93.5\"/>\n",
       "<text text-anchor=\"middle\" x=\"227.19\" y=\"-90.95\" font-family=\"Times,serif\" font-size=\"14.00\">120</text>\n",
       "</g>\n",
       "<!-- c -->\n",
       "<g id=\"node4\" class=\"node\">\n",
       "<title>c</title>\n",
       "<ellipse fill=\"none\" stroke=\"black\" cx=\"459\" cy=\"-90\" rx=\"27\" ry=\"18\"/>\n",
       "<text text-anchor=\"middle\" x=\"459\" y=\"-83.83\" font-family=\"Times,serif\" font-size=\"14.00\">150</text>\n",
       "</g>\n",
       "<!-- b&#45;&gt;c -->\n",
       "<g id=\"edge3\" class=\"edge\">\n",
       "<title>b&#45;&gt;c</title>\n",
       "<path fill=\"none\" stroke=\"black\" d=\"M342.42,-90C364.44,-90 395.63,-90 420.21,-90\"/>\n",
       "<polygon fill=\"black\" stroke=\"black\" points=\"420.16,-93.5 430.16,-90 420.16,-86.5 420.16,-93.5\"/>\n",
       "<text text-anchor=\"middle\" x=\"371.19\" y=\"-90.95\" font-family=\"Times,serif\" font-size=\"14.00\">150</text>\n",
       "</g>\n",
       "<!-- a1 -->\n",
       "<!-- a1&#45;&gt;a -->\n",
       "<g id=\"edge4\" class=\"edge\">\n",
       "<title>a1&#45;&gt;a</title>\n",
       "<path fill=\"none\" stroke=\"black\" d=\"M114.27,-33.27C124.01,-43.01 136.81,-55.81 147.79,-66.79\"/>\n",
       "<polygon fill=\"black\" stroke=\"black\" points=\"145.14,-69.09 154.68,-73.68 150.09,-64.14 145.14,-69.09\"/>\n",
       "<text text-anchor=\"middle\" x=\"124.28\" y=\"-50.98\" font-family=\"Times,serif\" font-size=\"14.00\">12</text>\n",
       "</g>\n",
       "<!-- b1 -->\n",
       "<!-- b1&#45;&gt;b -->\n",
       "<g id=\"edge5\" class=\"edge\">\n",
       "<title>b1&#45;&gt;b</title>\n",
       "<path fill=\"none\" stroke=\"black\" d=\"M258.27,-33.27C268.01,-43.01 280.81,-55.81 291.79,-66.79\"/>\n",
       "<polygon fill=\"black\" stroke=\"black\" points=\"289.14,-69.09 298.68,-73.68 294.09,-64.14 289.14,-69.09\"/>\n",
       "<text text-anchor=\"middle\" x=\"268.28\" y=\"-50.98\" font-family=\"Times,serif\" font-size=\"14.00\">30</text>\n",
       "</g>\n",
       "</g>\n",
       "</svg>\n"
      ],
      "text/plain": [
       "<graphviz.graphs.Digraph at 0x7f6f2a801220>"
      ]
     },
     "execution_count": 240,
     "metadata": {},
     "output_type": "execute_result"
    }
   ],
   "source": [
    "dot.node('x', '10')\n",
    "dot.node('c', '150')\n",
    "\n",
    "dot.edge('x', 'a', '10')\n",
    "dot.edge('a', 'b', '120')\n",
    "dot.edge('b', 'c', '150')\n",
    "\n",
    "dot"
   ]
  },
  {
   "cell_type": "markdown",
   "metadata": {},
   "source": [
    "자 그럼 미분을 통해 결과값 150의 대한 각 연산들의 기울기 (결과값에 영향을 미치는 정도)를 알아보자\n",
    "\n",
    "덧셈의 경우 두 값이 상승하는 만큼 결과값도 상승할 것이므로 다음과 같이 표시할 수 있다."
   ]
  },
  {
   "cell_type": "code",
   "execution_count": 241,
   "metadata": {},
   "outputs": [
    {
     "data": {
      "image/svg+xml": [
       "<?xml version=\"1.0\" encoding=\"UTF-8\" standalone=\"no\"?>\n",
       "<!DOCTYPE svg PUBLIC \"-//W3C//DTD SVG 1.1//EN\"\n",
       " \"http://www.w3.org/Graphics/SVG/1.1/DTD/svg11.dtd\">\n",
       "<!-- Generated by graphviz version 12.1.2 (0)\n",
       " -->\n",
       "<!-- Pages: 1 -->\n",
       "<svg width=\"494pt\" height=\"118pt\"\n",
       " viewBox=\"0.00 0.00 494.00 117.89\" xmlns=\"http://www.w3.org/2000/svg\" xmlns:xlink=\"http://www.w3.org/1999/xlink\">\n",
       "<g id=\"graph0\" class=\"graph\" transform=\"scale(1 1) rotate(0) translate(4 113.89)\">\n",
       "<polygon fill=\"white\" stroke=\"none\" points=\"-4,4 -4,-113.89 490,-113.89 490,4 -4,4\"/>\n",
       "<!-- x -->\n",
       "<g id=\"node1\" class=\"node\">\n",
       "<title>x</title>\n",
       "<ellipse fill=\"none\" stroke=\"black\" cx=\"27\" cy=\"-90\" rx=\"27\" ry=\"18\"/>\n",
       "<text text-anchor=\"middle\" x=\"27\" y=\"-83.83\" font-family=\"Times,serif\" font-size=\"14.00\">10</text>\n",
       "</g>\n",
       "<!-- a -->\n",
       "<g id=\"node2\" class=\"node\">\n",
       "<title>a</title>\n",
       "<ellipse fill=\"none\" stroke=\"black\" cx=\"171\" cy=\"-90\" rx=\"27\" ry=\"18\"/>\n",
       "<text text-anchor=\"middle\" x=\"171\" y=\"-83.83\" font-family=\"Times,serif\" font-size=\"14.00\">*</text>\n",
       "</g>\n",
       "<!-- x&#45;&gt;a -->\n",
       "<g id=\"edge1\" class=\"edge\">\n",
       "<title>x&#45;&gt;a</title>\n",
       "<path fill=\"none\" stroke=\"black\" stroke-width=\"0.3\" d=\"M54.42,-90C76.84,-90 108.77,-90 133.55,-90\"/>\n",
       "<polygon fill=\"black\" stroke=\"black\" stroke-width=\"0.3\" points=\"133.22,-93.5 143.22,-90 133.22,-86.5 133.22,-93.5\"/>\n",
       "<text text-anchor=\"middle\" x=\"87.24\" y=\"-90.95\" font-family=\"Times,serif\" font-size=\"14.00\">10</text>\n",
       "</g>\n",
       "<!-- b -->\n",
       "<g id=\"node3\" class=\"node\">\n",
       "<title>b</title>\n",
       "<ellipse fill=\"none\" stroke=\"black\" cx=\"315\" cy=\"-90\" rx=\"27\" ry=\"18\"/>\n",
       "<text text-anchor=\"middle\" x=\"315\" y=\"-83.83\" font-family=\"Times,serif\" font-size=\"14.00\">+</text>\n",
       "</g>\n",
       "<!-- a&#45;&gt;b -->\n",
       "<g id=\"edge2\" class=\"edge\">\n",
       "<title>a&#45;&gt;b</title>\n",
       "<path fill=\"none\" stroke=\"black\" stroke-width=\"0.3\" d=\"M197.08,-95.34C219.91,-96.99 253.33,-97.19 278.76,-95.95\"/>\n",
       "<polygon fill=\"black\" stroke=\"black\" stroke-width=\"0.3\" points=\"278.89,-99.45 288.66,-95.35 278.47,-92.46 278.89,-99.45\"/>\n",
       "<text text-anchor=\"middle\" x=\"227.79\" y=\"-96.59\" font-family=\"Times,serif\" font-size=\"14.00\">120</text>\n",
       "</g>\n",
       "<!-- b&#45;&gt;a -->\n",
       "<g id=\"edge7\" class=\"edge\">\n",
       "<title>b&#45;&gt;a</title>\n",
       "<path fill=\"none\" stroke=\"black\" d=\"M288.92,-84.66C266.39,-83.03 233.57,-82.81 208.27,-84\"/>\n",
       "<polygon fill=\"black\" stroke=\"black\" points=\"208.17,-80.5 198.39,-84.58 208.58,-87.49 208.17,-80.5\"/>\n",
       "<text text-anchor=\"middle\" x=\"245.22\" y=\"-85.28\" font-family=\"Times,serif\" font-size=\"14.00\">1</text>\n",
       "</g>\n",
       "<!-- c -->\n",
       "<g id=\"node4\" class=\"node\">\n",
       "<title>c</title>\n",
       "<ellipse fill=\"none\" stroke=\"black\" cx=\"459\" cy=\"-90\" rx=\"27\" ry=\"18\"/>\n",
       "<text text-anchor=\"middle\" x=\"459\" y=\"-83.83\" font-family=\"Times,serif\" font-size=\"14.00\">150</text>\n",
       "</g>\n",
       "<!-- b&#45;&gt;c -->\n",
       "<g id=\"edge3\" class=\"edge\">\n",
       "<title>b&#45;&gt;c</title>\n",
       "<path fill=\"none\" stroke=\"black\" stroke-width=\"0.3\" d=\"M341.08,-95.34C363.91,-96.99 397.33,-97.19 422.76,-95.95\"/>\n",
       "<polygon fill=\"black\" stroke=\"black\" stroke-width=\"0.3\" points=\"422.89,-99.45 432.66,-95.35 422.47,-92.46 422.89,-99.45\"/>\n",
       "<text text-anchor=\"middle\" x=\"371.79\" y=\"-96.59\" font-family=\"Times,serif\" font-size=\"14.00\">150</text>\n",
       "</g>\n",
       "<!-- b1 -->\n",
       "<!-- b&#45;&gt;b1 -->\n",
       "<g id=\"edge8\" class=\"edge\">\n",
       "<title>b&#45;&gt;b1</title>\n",
       "<path fill=\"none\" stroke=\"black\" d=\"M305.59,-73C296.95,-62.43 283.92,-48.9 271.94,-37.85\"/>\n",
       "<polygon fill=\"black\" stroke=\"black\" points=\"274.42,-35.37 264.62,-31.34 269.76,-40.6 274.42,-35.37\"/>\n",
       "<text text-anchor=\"middle\" x=\"285.39\" y=\"-56.38\" font-family=\"Times,serif\" font-size=\"14.00\">1</text>\n",
       "</g>\n",
       "<!-- c&#45;&gt;b -->\n",
       "<g id=\"edge6\" class=\"edge\">\n",
       "<title>c&#45;&gt;b</title>\n",
       "<path fill=\"none\" stroke=\"black\" d=\"M432.92,-84.66C410.39,-83.03 377.57,-82.81 352.27,-84\"/>\n",
       "<polygon fill=\"black\" stroke=\"black\" points=\"352.17,-80.5 342.39,-84.58 352.58,-87.49 352.17,-80.5\"/>\n",
       "<text text-anchor=\"middle\" x=\"389.22\" y=\"-85.28\" font-family=\"Times,serif\" font-size=\"14.00\">1</text>\n",
       "</g>\n",
       "<!-- a1 -->\n",
       "<!-- a1&#45;&gt;a -->\n",
       "<g id=\"edge4\" class=\"edge\">\n",
       "<title>a1&#45;&gt;a</title>\n",
       "<path fill=\"none\" stroke=\"black\" stroke-width=\"0.3\" d=\"M114.27,-33.27C124.2,-43.2 137.32,-56.32 148.44,-67.44\"/>\n",
       "<polygon fill=\"black\" stroke=\"black\" stroke-width=\"0.3\" points=\"145.89,-69.84 155.43,-74.43 150.84,-64.89 145.89,-69.84\"/>\n",
       "<text text-anchor=\"middle\" x=\"124.6\" y=\"-51.3\" font-family=\"Times,serif\" font-size=\"14.00\">12</text>\n",
       "</g>\n",
       "<!-- b1&#45;&gt;b -->\n",
       "<g id=\"edge5\" class=\"edge\">\n",
       "<title>b1&#45;&gt;b</title>\n",
       "<path fill=\"none\" stroke=\"black\" stroke-width=\"0.3\" d=\"M252.41,-35C261.22,-45.78 274.59,-59.63 286.75,-70.79\"/>\n",
       "<polygon fill=\"black\" stroke=\"black\" stroke-width=\"0.3\" points=\"284.37,-73.35 294.17,-77.37 289.01,-68.12 284.37,-73.35\"/>\n",
       "<text text-anchor=\"middle\" x=\"262.83\" y=\"-53.84\" font-family=\"Times,serif\" font-size=\"14.00\">30</text>\n",
       "</g>\n",
       "</g>\n",
       "</svg>\n"
      ],
      "text/plain": [
       "<graphviz.graphs.Digraph at 0x7f6f2a801220>"
      ]
     },
     "execution_count": 241,
     "metadata": {},
     "output_type": "execute_result"
    }
   ],
   "source": [
    "dot.edge('c', 'b', '1')\n",
    "\n",
    "dot.edge('b', 'a', '1')\n",
    "dot.edge('b', 'b1', '1')\n",
    "\n",
    "dot.edge('x', 'a', '10',  penwidth='0.3')\n",
    "dot.edge('a', 'b', '120', penwidth='0.3')\n",
    "dot.edge('b', 'c', '150', penwidth='0.3')\n",
    "dot.edge('a1', 'a', '12', penwidth='0.3')\n",
    "dot.edge('b1', 'b', '30', penwidth='0.3')\n",
    "\n",
    "dot"
   ]
  },
  {
   "cell_type": "markdown",
   "metadata": {},
   "source": [
    "곱셈의 경우 하나의 값을 변경하였을때 반대편 값 만큼 곱해져서 영향이 발생할 것이다."
   ]
  },
  {
   "cell_type": "code",
   "execution_count": 242,
   "metadata": {},
   "outputs": [
    {
     "data": {
      "image/svg+xml": [
       "<?xml version=\"1.0\" encoding=\"UTF-8\" standalone=\"no\"?>\n",
       "<!DOCTYPE svg PUBLIC \"-//W3C//DTD SVG 1.1//EN\"\n",
       " \"http://www.w3.org/Graphics/SVG/1.1/DTD/svg11.dtd\">\n",
       "<!-- Generated by graphviz version 12.1.2 (0)\n",
       " -->\n",
       "<!-- Pages: 1 -->\n",
       "<svg width=\"494pt\" height=\"118pt\"\n",
       " viewBox=\"0.00 0.00 494.00 117.89\" xmlns=\"http://www.w3.org/2000/svg\" xmlns:xlink=\"http://www.w3.org/1999/xlink\">\n",
       "<g id=\"graph0\" class=\"graph\" transform=\"scale(1 1) rotate(0) translate(4 113.89)\">\n",
       "<polygon fill=\"white\" stroke=\"none\" points=\"-4,4 -4,-113.89 490,-113.89 490,4 -4,4\"/>\n",
       "<!-- x -->\n",
       "<g id=\"node1\" class=\"node\">\n",
       "<title>x</title>\n",
       "<ellipse fill=\"none\" stroke=\"black\" cx=\"27\" cy=\"-90\" rx=\"27\" ry=\"18\"/>\n",
       "<text text-anchor=\"middle\" x=\"27\" y=\"-83.83\" font-family=\"Times,serif\" font-size=\"14.00\">10</text>\n",
       "</g>\n",
       "<!-- a -->\n",
       "<g id=\"node2\" class=\"node\">\n",
       "<title>a</title>\n",
       "<ellipse fill=\"none\" stroke=\"black\" cx=\"171\" cy=\"-90\" rx=\"27\" ry=\"18\"/>\n",
       "<text text-anchor=\"middle\" x=\"171\" y=\"-83.83\" font-family=\"Times,serif\" font-size=\"14.00\">*</text>\n",
       "</g>\n",
       "<!-- x&#45;&gt;a -->\n",
       "<g id=\"edge1\" class=\"edge\">\n",
       "<title>x&#45;&gt;a</title>\n",
       "<path fill=\"none\" stroke=\"black\" stroke-width=\"0.3\" d=\"M53.08,-95.34C75.91,-96.99 109.33,-97.19 134.76,-95.95\"/>\n",
       "<polygon fill=\"black\" stroke=\"black\" stroke-width=\"0.3\" points=\"134.89,-99.45 144.66,-95.35 134.47,-92.46 134.89,-99.45\"/>\n",
       "<text text-anchor=\"middle\" x=\"87.17\" y=\"-96.59\" font-family=\"Times,serif\" font-size=\"14.00\">10</text>\n",
       "</g>\n",
       "<!-- a&#45;&gt;x -->\n",
       "<g id=\"edge9\" class=\"edge\">\n",
       "<title>a&#45;&gt;x</title>\n",
       "<path fill=\"none\" stroke=\"black\" d=\"M144.92,-84.66C122.39,-83.03 89.57,-82.81 64.27,-84\"/>\n",
       "<polygon fill=\"black\" stroke=\"black\" points=\"64.17,-80.5 54.39,-84.58 64.58,-87.49 64.17,-80.5\"/>\n",
       "<text text-anchor=\"middle\" x=\"97.84\" y=\"-71.03\" font-family=\"Times,serif\" font-size=\"14.00\">12</text>\n",
       "</g>\n",
       "<!-- b -->\n",
       "<g id=\"node3\" class=\"node\">\n",
       "<title>b</title>\n",
       "<ellipse fill=\"none\" stroke=\"black\" cx=\"315\" cy=\"-90\" rx=\"27\" ry=\"18\"/>\n",
       "<text text-anchor=\"middle\" x=\"315\" y=\"-83.83\" font-family=\"Times,serif\" font-size=\"14.00\">+</text>\n",
       "</g>\n",
       "<!-- a&#45;&gt;b -->\n",
       "<g id=\"edge2\" class=\"edge\">\n",
       "<title>a&#45;&gt;b</title>\n",
       "<path fill=\"none\" stroke=\"black\" stroke-width=\"0.3\" d=\"M197.08,-95.34C219.91,-96.99 253.33,-97.19 278.76,-95.95\"/>\n",
       "<polygon fill=\"black\" stroke=\"black\" stroke-width=\"0.3\" points=\"278.89,-99.45 288.66,-95.35 278.47,-92.46 278.89,-99.45\"/>\n",
       "<text text-anchor=\"middle\" x=\"227.79\" y=\"-96.59\" font-family=\"Times,serif\" font-size=\"14.00\">120</text>\n",
       "</g>\n",
       "<!-- a1 -->\n",
       "<!-- a&#45;&gt;a1 -->\n",
       "<g id=\"edge10\" class=\"edge\">\n",
       "<title>a&#45;&gt;a1</title>\n",
       "<path fill=\"none\" stroke=\"black\" d=\"M161.59,-73C152.95,-62.43 139.92,-48.9 127.94,-37.85\"/>\n",
       "<polygon fill=\"black\" stroke=\"black\" points=\"130.42,-35.37 120.62,-31.34 125.76,-40.6 130.42,-35.37\"/>\n",
       "<text text-anchor=\"middle\" x=\"138.02\" y=\"-56.38\" font-family=\"Times,serif\" font-size=\"14.00\">10</text>\n",
       "</g>\n",
       "<!-- b&#45;&gt;a -->\n",
       "<g id=\"edge7\" class=\"edge\">\n",
       "<title>b&#45;&gt;a</title>\n",
       "<path fill=\"none\" stroke=\"black\" d=\"M288.92,-84.66C266.39,-83.03 233.57,-82.81 208.27,-84\"/>\n",
       "<polygon fill=\"black\" stroke=\"black\" points=\"208.17,-80.5 198.39,-84.58 208.58,-87.49 208.17,-80.5\"/>\n",
       "<text text-anchor=\"middle\" x=\"245.22\" y=\"-85.28\" font-family=\"Times,serif\" font-size=\"14.00\">1</text>\n",
       "</g>\n",
       "<!-- c -->\n",
       "<g id=\"node4\" class=\"node\">\n",
       "<title>c</title>\n",
       "<ellipse fill=\"none\" stroke=\"black\" cx=\"459\" cy=\"-90\" rx=\"27\" ry=\"18\"/>\n",
       "<text text-anchor=\"middle\" x=\"459\" y=\"-83.83\" font-family=\"Times,serif\" font-size=\"14.00\">150</text>\n",
       "</g>\n",
       "<!-- b&#45;&gt;c -->\n",
       "<g id=\"edge3\" class=\"edge\">\n",
       "<title>b&#45;&gt;c</title>\n",
       "<path fill=\"none\" stroke=\"black\" stroke-width=\"0.3\" d=\"M341.08,-95.34C363.91,-96.99 397.33,-97.19 422.76,-95.95\"/>\n",
       "<polygon fill=\"black\" stroke=\"black\" stroke-width=\"0.3\" points=\"422.89,-99.45 432.66,-95.35 422.47,-92.46 422.89,-99.45\"/>\n",
       "<text text-anchor=\"middle\" x=\"371.79\" y=\"-96.59\" font-family=\"Times,serif\" font-size=\"14.00\">150</text>\n",
       "</g>\n",
       "<!-- b1 -->\n",
       "<!-- b&#45;&gt;b1 -->\n",
       "<g id=\"edge8\" class=\"edge\">\n",
       "<title>b&#45;&gt;b1</title>\n",
       "<path fill=\"none\" stroke=\"black\" d=\"M305.59,-73C296.95,-62.43 283.92,-48.9 271.94,-37.85\"/>\n",
       "<polygon fill=\"black\" stroke=\"black\" points=\"274.42,-35.37 264.62,-31.34 269.76,-40.6 274.42,-35.37\"/>\n",
       "<text text-anchor=\"middle\" x=\"285.39\" y=\"-56.38\" font-family=\"Times,serif\" font-size=\"14.00\">1</text>\n",
       "</g>\n",
       "<!-- c&#45;&gt;b -->\n",
       "<g id=\"edge6\" class=\"edge\">\n",
       "<title>c&#45;&gt;b</title>\n",
       "<path fill=\"none\" stroke=\"black\" d=\"M432.92,-84.66C410.39,-83.03 377.57,-82.81 352.27,-84\"/>\n",
       "<polygon fill=\"black\" stroke=\"black\" points=\"352.17,-80.5 342.39,-84.58 352.58,-87.49 352.17,-80.5\"/>\n",
       "<text text-anchor=\"middle\" x=\"389.22\" y=\"-85.28\" font-family=\"Times,serif\" font-size=\"14.00\">1</text>\n",
       "</g>\n",
       "<!-- a1&#45;&gt;a -->\n",
       "<g id=\"edge4\" class=\"edge\">\n",
       "<title>a1&#45;&gt;a</title>\n",
       "<path fill=\"none\" stroke=\"black\" stroke-width=\"0.3\" d=\"M108.41,-35C117.22,-45.78 130.59,-59.63 142.75,-70.79\"/>\n",
       "<polygon fill=\"black\" stroke=\"black\" stroke-width=\"0.3\" points=\"140.37,-73.35 150.17,-77.37 145.01,-68.12 140.37,-73.35\"/>\n",
       "<text text-anchor=\"middle\" x=\"118.83\" y=\"-53.84\" font-family=\"Times,serif\" font-size=\"14.00\">12</text>\n",
       "</g>\n",
       "<!-- b1&#45;&gt;b -->\n",
       "<g id=\"edge5\" class=\"edge\">\n",
       "<title>b1&#45;&gt;b</title>\n",
       "<path fill=\"none\" stroke=\"black\" stroke-width=\"0.3\" d=\"M252.41,-35C261.22,-45.78 274.59,-59.63 286.75,-70.79\"/>\n",
       "<polygon fill=\"black\" stroke=\"black\" stroke-width=\"0.3\" points=\"284.37,-73.35 294.17,-77.37 289.01,-68.12 284.37,-73.35\"/>\n",
       "<text text-anchor=\"middle\" x=\"262.83\" y=\"-53.84\" font-family=\"Times,serif\" font-size=\"14.00\">30</text>\n",
       "</g>\n",
       "</g>\n",
       "</svg>\n"
      ],
      "text/plain": [
       "<graphviz.graphs.Digraph at 0x7f6f2a801220>"
      ]
     },
     "execution_count": 242,
     "metadata": {},
     "output_type": "execute_result"
    }
   ],
   "source": [
    "dot.edge('a', 'x', '12')\n",
    "dot.edge('a', 'a1', '10')\n",
    "\n",
    "dot"
   ]
  },
  {
   "cell_type": "markdown",
   "metadata": {},
   "source": [
    "아래 함수도 비슷한 방식으로 계산 그래프를 해석해보자."
   ]
  },
  {
   "cell_type": "code",
   "execution_count": 243,
   "metadata": {},
   "outputs": [],
   "source": [
    "def f(x1, x2):\n",
    "  return ((x1 * 2) + (x2 * 3)) * 1.1"
   ]
  },
  {
   "cell_type": "code",
   "execution_count": 244,
   "metadata": {},
   "outputs": [
    {
     "data": {
      "image/svg+xml": [
       "<?xml version=\"1.0\" encoding=\"UTF-8\" standalone=\"no\"?>\n",
       "<!DOCTYPE svg PUBLIC \"-//W3C//DTD SVG 1.1//EN\"\n",
       " \"http://www.w3.org/Graphics/SVG/1.1/DTD/svg11.dtd\">\n",
       "<!-- Generated by graphviz version 12.1.2 (0)\n",
       " -->\n",
       "<!-- Pages: 1 -->\n",
       "<svg width=\"652pt\" height=\"260pt\"\n",
       " viewBox=\"0.00 0.00 651.71 260.00\" xmlns=\"http://www.w3.org/2000/svg\" xmlns:xlink=\"http://www.w3.org/1999/xlink\">\n",
       "<g id=\"graph0\" class=\"graph\" transform=\"scale(1 1) rotate(0) translate(4 256)\">\n",
       "<polygon fill=\"white\" stroke=\"none\" points=\"-4,4 -4,-256 647.71,-256 647.71,4 -4,4\"/>\n",
       "<!-- x1 -->\n",
       "<g id=\"node1\" class=\"node\">\n",
       "<title>x1</title>\n",
       "<ellipse fill=\"none\" stroke=\"black\" cx=\"27\" cy=\"-162\" rx=\"27\" ry=\"18\"/>\n",
       "<text text-anchor=\"middle\" x=\"27\" y=\"-155.82\" font-family=\"Times,serif\" font-size=\"14.00\">x1</text>\n",
       "</g>\n",
       "<!-- a1 -->\n",
       "<g id=\"node3\" class=\"node\">\n",
       "<title>a1</title>\n",
       "<ellipse fill=\"none\" stroke=\"black\" cx=\"171\" cy=\"-162\" rx=\"27\" ry=\"18\"/>\n",
       "<text text-anchor=\"middle\" x=\"171\" y=\"-155.82\" font-family=\"Times,serif\" font-size=\"14.00\">*</text>\n",
       "</g>\n",
       "<!-- x1&#45;&gt;a1 -->\n",
       "<g id=\"edge1\" class=\"edge\">\n",
       "<title>x1&#45;&gt;a1</title>\n",
       "<path fill=\"none\" stroke=\"black\" d=\"M54.42,-162C76.44,-162 107.63,-162 132.21,-162\"/>\n",
       "<polygon fill=\"black\" stroke=\"black\" points=\"132.16,-165.5 142.16,-162 132.16,-158.5 132.16,-165.5\"/>\n",
       "</g>\n",
       "<!-- x2 -->\n",
       "<g id=\"node2\" class=\"node\">\n",
       "<title>x2</title>\n",
       "<ellipse fill=\"none\" stroke=\"black\" cx=\"27\" cy=\"-90\" rx=\"27\" ry=\"18\"/>\n",
       "<text text-anchor=\"middle\" x=\"27\" y=\"-83.83\" font-family=\"Times,serif\" font-size=\"14.00\">x2</text>\n",
       "</g>\n",
       "<!-- a2 -->\n",
       "<g id=\"node4\" class=\"node\">\n",
       "<title>a2</title>\n",
       "<ellipse fill=\"none\" stroke=\"black\" cx=\"171\" cy=\"-90\" rx=\"27\" ry=\"18\"/>\n",
       "<text text-anchor=\"middle\" x=\"171\" y=\"-83.83\" font-family=\"Times,serif\" font-size=\"14.00\">*</text>\n",
       "</g>\n",
       "<!-- x2&#45;&gt;a2 -->\n",
       "<g id=\"edge3\" class=\"edge\">\n",
       "<title>x2&#45;&gt;a2</title>\n",
       "<path fill=\"none\" stroke=\"black\" d=\"M54.42,-90C76.44,-90 107.63,-90 132.21,-90\"/>\n",
       "<polygon fill=\"black\" stroke=\"black\" points=\"132.16,-93.5 142.16,-90 132.16,-86.5 132.16,-93.5\"/>\n",
       "</g>\n",
       "<!-- b -->\n",
       "<g id=\"node7\" class=\"node\">\n",
       "<title>b</title>\n",
       "<ellipse fill=\"none\" stroke=\"black\" cx=\"315\" cy=\"-126\" rx=\"27\" ry=\"18\"/>\n",
       "<text text-anchor=\"middle\" x=\"315\" y=\"-119.83\" font-family=\"Times,serif\" font-size=\"14.00\">+</text>\n",
       "</g>\n",
       "<!-- a1&#45;&gt;b -->\n",
       "<g id=\"edge5\" class=\"edge\">\n",
       "<title>a1&#45;&gt;b</title>\n",
       "<path fill=\"none\" stroke=\"black\" d=\"M196.74,-155.56C219.47,-149.88 252.87,-141.53 278.38,-135.16\"/>\n",
       "<polygon fill=\"black\" stroke=\"black\" points=\"279.16,-138.57 288.01,-132.75 277.46,-131.78 279.16,-138.57\"/>\n",
       "</g>\n",
       "<!-- a2&#45;&gt;b -->\n",
       "<g id=\"edge6\" class=\"edge\">\n",
       "<title>a2&#45;&gt;b</title>\n",
       "<path fill=\"none\" stroke=\"black\" d=\"M196.74,-96.44C219.47,-102.12 252.87,-110.47 278.38,-116.84\"/>\n",
       "<polygon fill=\"black\" stroke=\"black\" points=\"277.46,-120.22 288.01,-119.25 279.16,-113.43 277.46,-120.22\"/>\n",
       "</g>\n",
       "<!-- x1a -->\n",
       "<!-- x1a&#45;&gt;a1 -->\n",
       "<g id=\"edge2\" class=\"edge\">\n",
       "<title>x1a&#45;&gt;a1</title>\n",
       "<path fill=\"none\" stroke=\"black\" d=\"M48.87,-223.06C72.9,-211.05 111.73,-191.64 139.14,-177.93\"/>\n",
       "<polygon fill=\"black\" stroke=\"black\" points=\"140.66,-181.08 148.04,-173.48 137.53,-174.82 140.66,-181.08\"/>\n",
       "<text text-anchor=\"middle\" x=\"90.63\" y=\"-201.45\" font-family=\"Times,serif\" font-size=\"14.00\">2</text>\n",
       "</g>\n",
       "<!-- x2a -->\n",
       "<!-- x2a&#45;&gt;a2 -->\n",
       "<g id=\"edge4\" class=\"edge\">\n",
       "<title>x2a&#45;&gt;a2</title>\n",
       "<path fill=\"none\" stroke=\"black\" d=\"M48.87,-28.94C72.9,-40.95 111.73,-60.36 139.14,-74.07\"/>\n",
       "<polygon fill=\"black\" stroke=\"black\" points=\"137.53,-77.18 148.04,-78.52 140.66,-70.92 137.53,-77.18\"/>\n",
       "<text text-anchor=\"middle\" x=\"90.63\" y=\"-52.45\" font-family=\"Times,serif\" font-size=\"14.00\">3</text>\n",
       "</g>\n",
       "<!-- c -->\n",
       "<g id=\"node8\" class=\"node\">\n",
       "<title>c</title>\n",
       "<ellipse fill=\"none\" stroke=\"black\" cx=\"459\" cy=\"-126\" rx=\"27\" ry=\"18\"/>\n",
       "<text text-anchor=\"middle\" x=\"459\" y=\"-119.83\" font-family=\"Times,serif\" font-size=\"14.00\">*</text>\n",
       "</g>\n",
       "<!-- b&#45;&gt;c -->\n",
       "<g id=\"edge7\" class=\"edge\">\n",
       "<title>b&#45;&gt;c</title>\n",
       "<path fill=\"none\" stroke=\"black\" d=\"M342.42,-126C364.44,-126 395.63,-126 420.21,-126\"/>\n",
       "<polygon fill=\"black\" stroke=\"black\" points=\"420.16,-129.5 430.16,-126 420.16,-122.5 420.16,-129.5\"/>\n",
       "</g>\n",
       "<!-- y -->\n",
       "<g id=\"node10\" class=\"node\">\n",
       "<title>y</title>\n",
       "<ellipse fill=\"none\" stroke=\"black\" cx=\"603\" cy=\"-126\" rx=\"40.71\" ry=\"18\"/>\n",
       "<text text-anchor=\"middle\" x=\"603\" y=\"-119.83\" font-family=\"Times,serif\" font-size=\"14.00\">f(x1, x2)</text>\n",
       "</g>\n",
       "<!-- c&#45;&gt;y -->\n",
       "<g id=\"edge9\" class=\"edge\">\n",
       "<title>c&#45;&gt;y</title>\n",
       "<path fill=\"none\" stroke=\"black\" d=\"M486.42,-126C504.55,-126 528.88,-126 550.63,-126\"/>\n",
       "<polygon fill=\"black\" stroke=\"black\" points=\"550.54,-129.5 560.54,-126 550.54,-122.5 550.54,-129.5\"/>\n",
       "</g>\n",
       "<!-- cb -->\n",
       "<!-- cb&#45;&gt;c -->\n",
       "<g id=\"edge8\" class=\"edge\">\n",
       "<title>cb&#45;&gt;c</title>\n",
       "<path fill=\"none\" stroke=\"black\" d=\"M336.87,-64.94C360.9,-76.95 399.73,-96.36 427.14,-110.07\"/>\n",
       "<polygon fill=\"black\" stroke=\"black\" points=\"425.53,-113.18 436.04,-114.52 428.66,-106.92 425.53,-113.18\"/>\n",
       "<text text-anchor=\"middle\" x=\"373.38\" y=\"-88.45\" font-family=\"Times,serif\" font-size=\"14.00\">1.1</text>\n",
       "</g>\n",
       "</g>\n",
       "</svg>\n"
      ],
      "text/plain": [
       "<graphviz.graphs.Digraph at 0x7f6f60c5ae10>"
      ]
     },
     "execution_count": 244,
     "metadata": {},
     "output_type": "execute_result"
    }
   ],
   "source": [
    "dot = graphviz.Digraph(\n",
    "  strict=True,\n",
    "  engine='fdp'\n",
    ")\n",
    "\n",
    "dot.node('x1', pos='0,1!')\n",
    "dot.node('x2', pos='0,0!')\n",
    "\n",
    "dot.node('a1', '*', pos='2,1!')\n",
    "dot.node('a2', '*', pos='2,0!')\n",
    "\n",
    "dot.node('x1a', style='invis', pos='0,2!')\n",
    "dot.node('x2a', style='invis', pos='0,-1!')\n",
    "\n",
    "dot.edge('x1', 'a1')\n",
    "dot.edge('x1a', 'a1', '2')\n",
    "\n",
    "dot.edge('x2', 'a2')\n",
    "dot.edge('x2a', 'a2', '3')\n",
    "\n",
    "dot.node('b', '+', pos='4,0.5!')\n",
    "\n",
    "dot.edge('a1', 'b')\n",
    "dot.edge('a2', 'b')\n",
    "\n",
    "dot.node('c', '*', pos='6,0.5!')\n",
    "dot.edge('b', 'c')\n",
    "\n",
    "dot.node('cb', style='invis', pos='4,-0.5!')\n",
    "dot.edge('cb', 'c', '1.1')\n",
    "\n",
    "dot.node('y', 'f(x1, x2)', pos='8,0.5!')\n",
    "dot.edge('c', 'y')\n",
    "\n",
    "dot"
   ]
  },
  {
   "cell_type": "markdown",
   "metadata": {},
   "source": [
    "f에 `f(100, 150)` 를 넣었다고 가정했을때"
   ]
  },
  {
   "cell_type": "code",
   "execution_count": 245,
   "metadata": {},
   "outputs": [
    {
     "data": {
      "image/svg+xml": [
       "<?xml version=\"1.0\" encoding=\"UTF-8\" standalone=\"no\"?>\n",
       "<!DOCTYPE svg PUBLIC \"-//W3C//DTD SVG 1.1//EN\"\n",
       " \"http://www.w3.org/Graphics/SVG/1.1/DTD/svg11.dtd\">\n",
       "<!-- Generated by graphviz version 12.1.2 (0)\n",
       " -->\n",
       "<!-- Pages: 1 -->\n",
       "<svg width=\"638pt\" height=\"260pt\"\n",
       " viewBox=\"0.00 0.00 638.00 260.00\" xmlns=\"http://www.w3.org/2000/svg\" xmlns:xlink=\"http://www.w3.org/1999/xlink\">\n",
       "<g id=\"graph0\" class=\"graph\" transform=\"scale(1 1) rotate(0) translate(4 256)\">\n",
       "<polygon fill=\"white\" stroke=\"none\" points=\"-4,4 -4,-256 634,-256 634,4 -4,4\"/>\n",
       "<!-- x1 -->\n",
       "<g id=\"node1\" class=\"node\">\n",
       "<title>x1</title>\n",
       "<ellipse fill=\"none\" stroke=\"black\" cx=\"27\" cy=\"-162\" rx=\"27\" ry=\"18\"/>\n",
       "<text text-anchor=\"middle\" x=\"27\" y=\"-155.82\" font-family=\"Times,serif\" font-size=\"14.00\">100</text>\n",
       "</g>\n",
       "<!-- a1 -->\n",
       "<g id=\"node3\" class=\"node\">\n",
       "<title>a1</title>\n",
       "<ellipse fill=\"none\" stroke=\"black\" cx=\"171\" cy=\"-162\" rx=\"27\" ry=\"18\"/>\n",
       "<text text-anchor=\"middle\" x=\"171\" y=\"-155.82\" font-family=\"Times,serif\" font-size=\"14.00\">*</text>\n",
       "</g>\n",
       "<!-- x1&#45;&gt;a1 -->\n",
       "<g id=\"edge1\" class=\"edge\">\n",
       "<title>x1&#45;&gt;a1</title>\n",
       "<path fill=\"none\" stroke=\"black\" d=\"M54.42,-162C76.44,-162 107.63,-162 132.21,-162\"/>\n",
       "<polygon fill=\"black\" stroke=\"black\" points=\"132.16,-165.5 142.16,-162 132.16,-158.5 132.16,-165.5\"/>\n",
       "<text text-anchor=\"middle\" x=\"83.19\" y=\"-162.95\" font-family=\"Times,serif\" font-size=\"14.00\">100</text>\n",
       "</g>\n",
       "<!-- x2 -->\n",
       "<g id=\"node2\" class=\"node\">\n",
       "<title>x2</title>\n",
       "<ellipse fill=\"none\" stroke=\"black\" cx=\"27\" cy=\"-90\" rx=\"27\" ry=\"18\"/>\n",
       "<text text-anchor=\"middle\" x=\"27\" y=\"-83.83\" font-family=\"Times,serif\" font-size=\"14.00\">150</text>\n",
       "</g>\n",
       "<!-- a2 -->\n",
       "<g id=\"node4\" class=\"node\">\n",
       "<title>a2</title>\n",
       "<ellipse fill=\"none\" stroke=\"black\" cx=\"171\" cy=\"-90\" rx=\"27\" ry=\"18\"/>\n",
       "<text text-anchor=\"middle\" x=\"171\" y=\"-83.83\" font-family=\"Times,serif\" font-size=\"14.00\">*</text>\n",
       "</g>\n",
       "<!-- x2&#45;&gt;a2 -->\n",
       "<g id=\"edge3\" class=\"edge\">\n",
       "<title>x2&#45;&gt;a2</title>\n",
       "<path fill=\"none\" stroke=\"black\" d=\"M54.42,-90C76.44,-90 107.63,-90 132.21,-90\"/>\n",
       "<polygon fill=\"black\" stroke=\"black\" points=\"132.16,-93.5 142.16,-90 132.16,-86.5 132.16,-93.5\"/>\n",
       "<text text-anchor=\"middle\" x=\"83.19\" y=\"-90.95\" font-family=\"Times,serif\" font-size=\"14.00\">150</text>\n",
       "</g>\n",
       "<!-- b -->\n",
       "<g id=\"node7\" class=\"node\">\n",
       "<title>b</title>\n",
       "<ellipse fill=\"none\" stroke=\"black\" cx=\"315\" cy=\"-126\" rx=\"27\" ry=\"18\"/>\n",
       "<text text-anchor=\"middle\" x=\"315\" y=\"-119.83\" font-family=\"Times,serif\" font-size=\"14.00\">+</text>\n",
       "</g>\n",
       "<!-- a1&#45;&gt;b -->\n",
       "<g id=\"edge5\" class=\"edge\">\n",
       "<title>a1&#45;&gt;b</title>\n",
       "<path fill=\"none\" stroke=\"black\" d=\"M196.74,-155.56C219.47,-149.88 252.87,-141.53 278.38,-135.16\"/>\n",
       "<polygon fill=\"black\" stroke=\"black\" points=\"279.16,-138.57 288.01,-132.75 277.46,-131.78 279.16,-138.57\"/>\n",
       "<text text-anchor=\"middle\" x=\"227.44\" y=\"-146.31\" font-family=\"Times,serif\" font-size=\"14.00\">200</text>\n",
       "</g>\n",
       "<!-- a2&#45;&gt;b -->\n",
       "<g id=\"edge6\" class=\"edge\">\n",
       "<title>a2&#45;&gt;b</title>\n",
       "<path fill=\"none\" stroke=\"black\" d=\"M196.74,-96.44C219.47,-102.12 252.87,-110.47 278.38,-116.84\"/>\n",
       "<polygon fill=\"black\" stroke=\"black\" points=\"277.46,-120.22 288.01,-119.25 279.16,-113.43 277.46,-120.22\"/>\n",
       "<text text-anchor=\"middle\" x=\"227.44\" y=\"-107.59\" font-family=\"Times,serif\" font-size=\"14.00\">450</text>\n",
       "</g>\n",
       "<!-- x1a -->\n",
       "<!-- x1a&#45;&gt;a1 -->\n",
       "<g id=\"edge2\" class=\"edge\">\n",
       "<title>x1a&#45;&gt;a1</title>\n",
       "<path fill=\"none\" stroke=\"black\" d=\"M48.87,-223.06C72.9,-211.05 111.73,-191.64 139.14,-177.93\"/>\n",
       "<polygon fill=\"black\" stroke=\"black\" points=\"140.66,-181.08 148.04,-173.48 137.53,-174.82 140.66,-181.08\"/>\n",
       "<text text-anchor=\"middle\" x=\"90.63\" y=\"-201.45\" font-family=\"Times,serif\" font-size=\"14.00\">2</text>\n",
       "</g>\n",
       "<!-- x2a -->\n",
       "<!-- x2a&#45;&gt;a2 -->\n",
       "<g id=\"edge4\" class=\"edge\">\n",
       "<title>x2a&#45;&gt;a2</title>\n",
       "<path fill=\"none\" stroke=\"black\" d=\"M48.87,-28.94C72.9,-40.95 111.73,-60.36 139.14,-74.07\"/>\n",
       "<polygon fill=\"black\" stroke=\"black\" points=\"137.53,-77.18 148.04,-78.52 140.66,-70.92 137.53,-77.18\"/>\n",
       "<text text-anchor=\"middle\" x=\"90.63\" y=\"-52.45\" font-family=\"Times,serif\" font-size=\"14.00\">3</text>\n",
       "</g>\n",
       "<!-- c -->\n",
       "<g id=\"node8\" class=\"node\">\n",
       "<title>c</title>\n",
       "<ellipse fill=\"none\" stroke=\"black\" cx=\"459\" cy=\"-126\" rx=\"27\" ry=\"18\"/>\n",
       "<text text-anchor=\"middle\" x=\"459\" y=\"-119.83\" font-family=\"Times,serif\" font-size=\"14.00\">*</text>\n",
       "</g>\n",
       "<!-- b&#45;&gt;c -->\n",
       "<g id=\"edge7\" class=\"edge\">\n",
       "<title>b&#45;&gt;c</title>\n",
       "<path fill=\"none\" stroke=\"black\" d=\"M342.42,-126C364.44,-126 395.63,-126 420.21,-126\"/>\n",
       "<polygon fill=\"black\" stroke=\"black\" points=\"420.16,-129.5 430.16,-126 420.16,-122.5 420.16,-129.5\"/>\n",
       "<text text-anchor=\"middle\" x=\"371.19\" y=\"-126.95\" font-family=\"Times,serif\" font-size=\"14.00\">650</text>\n",
       "</g>\n",
       "<!-- y -->\n",
       "<g id=\"node10\" class=\"node\">\n",
       "<title>y</title>\n",
       "<ellipse fill=\"none\" stroke=\"black\" cx=\"603\" cy=\"-126\" rx=\"27\" ry=\"18\"/>\n",
       "<text text-anchor=\"middle\" x=\"603\" y=\"-119.83\" font-family=\"Times,serif\" font-size=\"14.00\">715</text>\n",
       "</g>\n",
       "<!-- c&#45;&gt;y -->\n",
       "<g id=\"edge9\" class=\"edge\">\n",
       "<title>c&#45;&gt;y</title>\n",
       "<path fill=\"none\" stroke=\"black\" d=\"M486.42,-126C508.44,-126 539.63,-126 564.21,-126\"/>\n",
       "<polygon fill=\"black\" stroke=\"black\" points=\"564.16,-129.5 574.16,-126 564.16,-122.5 564.16,-129.5\"/>\n",
       "<text text-anchor=\"middle\" x=\"515.19\" y=\"-126.95\" font-family=\"Times,serif\" font-size=\"14.00\">715</text>\n",
       "</g>\n",
       "<!-- cb -->\n",
       "<!-- cb&#45;&gt;c -->\n",
       "<g id=\"edge8\" class=\"edge\">\n",
       "<title>cb&#45;&gt;c</title>\n",
       "<path fill=\"none\" stroke=\"black\" d=\"M336.87,-64.94C360.9,-76.95 399.73,-96.36 427.14,-110.07\"/>\n",
       "<polygon fill=\"black\" stroke=\"black\" points=\"425.53,-113.18 436.04,-114.52 428.66,-106.92 425.53,-113.18\"/>\n",
       "<text text-anchor=\"middle\" x=\"373.38\" y=\"-88.45\" font-family=\"Times,serif\" font-size=\"14.00\">1.1</text>\n",
       "</g>\n",
       "</g>\n",
       "</svg>\n"
      ],
      "text/plain": [
       "<graphviz.graphs.Digraph at 0x7f6f60c5ae10>"
      ]
     },
     "execution_count": 245,
     "metadata": {},
     "output_type": "execute_result"
    }
   ],
   "source": [
    "dot.node('x1', '100', pos='0,1!')\n",
    "dot.node('x2', '150', pos='0,0!')\n",
    "\n",
    "dot.edge('x1', 'a1', '100')\n",
    "dot.edge('x2', 'a2', '150')\n",
    "\n",
    "dot.edge('a1', 'b', '200')\n",
    "dot.edge('a2', 'b', '450')\n",
    "\n",
    "dot.edge('b', 'c', '650')\n",
    "dot.edge('c', 'y', '715')\n",
    "\n",
    "dot.node('y', '715', pos='8,0.5!')\n",
    "\n",
    "dot"
   ]
  },
  {
   "cell_type": "markdown",
   "metadata": {},
   "source": [
    "역방향으로 기울기를 표현하면 다음과 같다."
   ]
  },
  {
   "cell_type": "code",
   "execution_count": 246,
   "metadata": {},
   "outputs": [
    {
     "data": {
      "image/svg+xml": [
       "<?xml version=\"1.0\" encoding=\"UTF-8\" standalone=\"no\"?>\n",
       "<!DOCTYPE svg PUBLIC \"-//W3C//DTD SVG 1.1//EN\"\n",
       " \"http://www.w3.org/Graphics/SVG/1.1/DTD/svg11.dtd\">\n",
       "<!-- Generated by graphviz version 12.1.2 (0)\n",
       " -->\n",
       "<!-- Pages: 1 -->\n",
       "<svg width=\"638pt\" height=\"260pt\"\n",
       " viewBox=\"0.00 0.00 638.00 260.00\" xmlns=\"http://www.w3.org/2000/svg\" xmlns:xlink=\"http://www.w3.org/1999/xlink\">\n",
       "<g id=\"graph0\" class=\"graph\" transform=\"scale(1 1) rotate(0) translate(4 256)\">\n",
       "<polygon fill=\"white\" stroke=\"none\" points=\"-4,4 -4,-256 634,-256 634,4 -4,4\"/>\n",
       "<!-- x1 -->\n",
       "<g id=\"node1\" class=\"node\">\n",
       "<title>x1</title>\n",
       "<ellipse fill=\"none\" stroke=\"black\" cx=\"27\" cy=\"-162\" rx=\"27\" ry=\"18\"/>\n",
       "<text text-anchor=\"middle\" x=\"27\" y=\"-155.82\" font-family=\"Times,serif\" font-size=\"14.00\">100</text>\n",
       "</g>\n",
       "<!-- a1 -->\n",
       "<g id=\"node3\" class=\"node\">\n",
       "<title>a1</title>\n",
       "<ellipse fill=\"none\" stroke=\"black\" cx=\"171\" cy=\"-162\" rx=\"27\" ry=\"18\"/>\n",
       "<text text-anchor=\"middle\" x=\"171\" y=\"-155.82\" font-family=\"Times,serif\" font-size=\"14.00\">*</text>\n",
       "</g>\n",
       "<!-- x1&#45;&gt;a1 -->\n",
       "<g id=\"edge1\" class=\"edge\">\n",
       "<title>x1&#45;&gt;a1</title>\n",
       "<path fill=\"none\" stroke=\"black\" stroke-width=\"0.3\" d=\"M53.08,-167.34C75.91,-168.99 109.33,-169.19 134.76,-167.95\"/>\n",
       "<polygon fill=\"black\" stroke=\"black\" stroke-width=\"0.3\" points=\"134.89,-171.45 144.66,-167.35 134.47,-164.46 134.89,-171.45\"/>\n",
       "<text text-anchor=\"middle\" x=\"83.79\" y=\"-168.59\" font-family=\"Times,serif\" font-size=\"14.00\">100</text>\n",
       "</g>\n",
       "<!-- x2 -->\n",
       "<g id=\"node2\" class=\"node\">\n",
       "<title>x2</title>\n",
       "<ellipse fill=\"none\" stroke=\"black\" cx=\"27\" cy=\"-90\" rx=\"27\" ry=\"18\"/>\n",
       "<text text-anchor=\"middle\" x=\"27\" y=\"-83.83\" font-family=\"Times,serif\" font-size=\"14.00\">150</text>\n",
       "</g>\n",
       "<!-- a2 -->\n",
       "<g id=\"node4\" class=\"node\">\n",
       "<title>a2</title>\n",
       "<ellipse fill=\"none\" stroke=\"black\" cx=\"171\" cy=\"-90\" rx=\"27\" ry=\"18\"/>\n",
       "<text text-anchor=\"middle\" x=\"171\" y=\"-83.83\" font-family=\"Times,serif\" font-size=\"14.00\">*</text>\n",
       "</g>\n",
       "<!-- x2&#45;&gt;a2 -->\n",
       "<g id=\"edge3\" class=\"edge\">\n",
       "<title>x2&#45;&gt;a2</title>\n",
       "<path fill=\"none\" stroke=\"black\" stroke-width=\"0.3\" d=\"M53.08,-95.34C75.91,-96.99 109.33,-97.19 134.76,-95.95\"/>\n",
       "<polygon fill=\"black\" stroke=\"black\" stroke-width=\"0.3\" points=\"134.89,-99.45 144.66,-95.35 134.47,-92.46 134.89,-99.45\"/>\n",
       "<text text-anchor=\"middle\" x=\"83.79\" y=\"-96.59\" font-family=\"Times,serif\" font-size=\"14.00\">150</text>\n",
       "</g>\n",
       "<!-- a1&#45;&gt;x1 -->\n",
       "<g id=\"edge15\" class=\"edge\">\n",
       "<title>a1&#45;&gt;x1</title>\n",
       "<path fill=\"none\" stroke=\"black\" d=\"M144.92,-156.66C122.39,-155.03 89.57,-154.81 64.27,-156\"/>\n",
       "<polygon fill=\"black\" stroke=\"black\" points=\"64.17,-152.5 54.39,-156.58 64.58,-159.49 64.17,-152.5\"/>\n",
       "<text text-anchor=\"middle\" x=\"95.97\" y=\"-143.03\" font-family=\"Times,serif\" font-size=\"14.00\">2.2</text>\n",
       "</g>\n",
       "<!-- x1a -->\n",
       "<!-- a1&#45;&gt;x1a -->\n",
       "<g id=\"edge16\" class=\"edge\">\n",
       "<title>a1&#45;&gt;x1a</title>\n",
       "<path fill=\"none\" stroke=\"black\" d=\"M145.58,-168.99C119.83,-179.61 80.22,-199.25 53.94,-214.31\"/>\n",
       "<polygon fill=\"black\" stroke=\"black\" points=\"52.38,-211.16 45.55,-219.26 55.94,-217.19 52.38,-211.16\"/>\n",
       "<text text-anchor=\"middle\" x=\"109.88\" y=\"-192.6\" font-family=\"Times,serif\" font-size=\"14.00\">110</text>\n",
       "</g>\n",
       "<!-- b -->\n",
       "<g id=\"node7\" class=\"node\">\n",
       "<title>b</title>\n",
       "<ellipse fill=\"none\" stroke=\"black\" cx=\"315\" cy=\"-126\" rx=\"27\" ry=\"18\"/>\n",
       "<text text-anchor=\"middle\" x=\"315\" y=\"-119.83\" font-family=\"Times,serif\" font-size=\"14.00\">+</text>\n",
       "</g>\n",
       "<!-- a1&#45;&gt;b -->\n",
       "<g id=\"edge5\" class=\"edge\">\n",
       "<title>a1&#45;&gt;b</title>\n",
       "<path fill=\"none\" stroke=\"black\" stroke-width=\"0.3\" d=\"M198.37,-160.66C222.44,-156.41 257.47,-147.81 282.86,-140.02\"/>\n",
       "<polygon fill=\"black\" stroke=\"black\" stroke-width=\"0.3\" points=\"283.85,-143.38 292.32,-137 281.73,-136.71 283.85,-143.38\"/>\n",
       "<text text-anchor=\"middle\" x=\"230.49\" y=\"-151.29\" font-family=\"Times,serif\" font-size=\"14.00\">200</text>\n",
       "</g>\n",
       "<!-- a2&#45;&gt;x2 -->\n",
       "<g id=\"edge14\" class=\"edge\">\n",
       "<title>a2&#45;&gt;x2</title>\n",
       "<path fill=\"none\" stroke=\"black\" d=\"M144.92,-84.66C122.39,-83.03 89.57,-82.81 64.27,-84\"/>\n",
       "<polygon fill=\"black\" stroke=\"black\" points=\"64.17,-80.5 54.39,-84.58 64.58,-87.49 64.17,-80.5\"/>\n",
       "<text text-anchor=\"middle\" x=\"95.97\" y=\"-71.03\" font-family=\"Times,serif\" font-size=\"14.00\">3.3</text>\n",
       "</g>\n",
       "<!-- x2a -->\n",
       "<!-- a2&#45;&gt;x2a -->\n",
       "<g id=\"edge17\" class=\"edge\">\n",
       "<title>a2&#45;&gt;x2a</title>\n",
       "<path fill=\"none\" stroke=\"black\" d=\"M153.43,-75.83C130.99,-62.15 91.68,-42.14 62.82,-29.44\"/>\n",
       "<polygon fill=\"black\" stroke=\"black\" points=\"64.29,-26.26 53.72,-25.55 61.54,-32.7 64.29,-26.26\"/>\n",
       "<text text-anchor=\"middle\" x=\"98\" y=\"-39.33\" font-family=\"Times,serif\" font-size=\"14.00\">165</text>\n",
       "</g>\n",
       "<!-- a2&#45;&gt;b -->\n",
       "<g id=\"edge6\" class=\"edge\">\n",
       "<title>a2&#45;&gt;b</title>\n",
       "<path fill=\"none\" stroke=\"black\" stroke-width=\"0.3\" d=\"M193.21,-100.85C215.63,-108.35 250.66,-117.38 277.41,-122.73\"/>\n",
       "<polygon fill=\"black\" stroke=\"black\" stroke-width=\"0.3\" points=\"276.65,-126.15 287.13,-124.57 277.95,-119.27 276.65,-126.15\"/>\n",
       "<text text-anchor=\"middle\" x=\"225.18\" y=\"-112.74\" font-family=\"Times,serif\" font-size=\"14.00\">450</text>\n",
       "</g>\n",
       "<!-- x1a&#45;&gt;a1 -->\n",
       "<g id=\"edge2\" class=\"edge\">\n",
       "<title>x1a&#45;&gt;a1</title>\n",
       "<path fill=\"none\" stroke=\"black\" stroke-width=\"0.3\" d=\"M52.42,-227.01C78.51,-216.25 118.84,-196.23 145.1,-181.1\"/>\n",
       "<polygon fill=\"black\" stroke=\"black\" stroke-width=\"0.3\" points=\"146.54,-184.31 153.36,-176.2 142.98,-178.29 146.54,-184.31\"/>\n",
       "<text text-anchor=\"middle\" x=\"95.39\" y=\"-205\" font-family=\"Times,serif\" font-size=\"14.00\">2</text>\n",
       "</g>\n",
       "<!-- x2a&#45;&gt;a2 -->\n",
       "<g id=\"edge4\" class=\"edge\">\n",
       "<title>x2a&#45;&gt;a2</title>\n",
       "<path fill=\"none\" stroke=\"black\" stroke-width=\"0.3\" d=\"M44.57,-32.17C67.31,-46.03 107.36,-66.39 136.31,-79.06\"/>\n",
       "<polygon fill=\"black\" stroke=\"black\" stroke-width=\"0.3\" points=\"134.68,-82.17 145.25,-82.87 137.42,-75.73 134.68,-82.17\"/>\n",
       "<text text-anchor=\"middle\" x=\"87.07\" y=\"-56.57\" font-family=\"Times,serif\" font-size=\"14.00\">3</text>\n",
       "</g>\n",
       "<!-- b&#45;&gt;a1 -->\n",
       "<g id=\"edge13\" class=\"edge\">\n",
       "<title>b&#45;&gt;a1</title>\n",
       "<path fill=\"none\" stroke=\"black\" d=\"M287.63,-127.34C263.88,-131.54 229.46,-139.96 204.16,-147.66\"/>\n",
       "<polygon fill=\"black\" stroke=\"black\" points=\"203.16,-144.31 194.69,-150.68 205.28,-150.98 203.16,-144.31\"/>\n",
       "<text text-anchor=\"middle\" x=\"254.52\" y=\"-138.45\" font-family=\"Times,serif\" font-size=\"14.00\">1.1</text>\n",
       "</g>\n",
       "<!-- b&#45;&gt;a2 -->\n",
       "<g id=\"edge12\" class=\"edge\">\n",
       "<title>b&#45;&gt;a2</title>\n",
       "<path fill=\"none\" stroke=\"black\" d=\"M292.79,-115.15C270.67,-107.75 236.27,-98.86 209.66,-93.49\"/>\n",
       "<polygon fill=\"black\" stroke=\"black\" points=\"210.39,-90.06 199.91,-91.63 209.08,-96.94 210.39,-90.06\"/>\n",
       "<text text-anchor=\"middle\" x=\"242.6\" y=\"-91.02\" font-family=\"Times,serif\" font-size=\"14.00\">1.1</text>\n",
       "</g>\n",
       "<!-- c -->\n",
       "<g id=\"node8\" class=\"node\">\n",
       "<title>c</title>\n",
       "<ellipse fill=\"none\" stroke=\"black\" cx=\"459\" cy=\"-126\" rx=\"27\" ry=\"18\"/>\n",
       "<text text-anchor=\"middle\" x=\"459\" y=\"-119.83\" font-family=\"Times,serif\" font-size=\"14.00\">*</text>\n",
       "</g>\n",
       "<!-- b&#45;&gt;c -->\n",
       "<g id=\"edge7\" class=\"edge\">\n",
       "<title>b&#45;&gt;c</title>\n",
       "<path fill=\"none\" stroke=\"black\" stroke-width=\"0.3\" d=\"M341.08,-131.34C363.91,-132.99 397.33,-133.19 422.76,-131.95\"/>\n",
       "<polygon fill=\"black\" stroke=\"black\" stroke-width=\"0.3\" points=\"422.89,-135.45 432.66,-131.35 422.47,-128.46 422.89,-135.45\"/>\n",
       "<text text-anchor=\"middle\" x=\"371.79\" y=\"-132.59\" font-family=\"Times,serif\" font-size=\"14.00\">650</text>\n",
       "</g>\n",
       "<!-- c&#45;&gt;b -->\n",
       "<g id=\"edge11\" class=\"edge\">\n",
       "<title>c&#45;&gt;b</title>\n",
       "<path fill=\"none\" stroke=\"black\" d=\"M432.92,-120.66C410.39,-119.03 377.57,-118.81 352.27,-120\"/>\n",
       "<polygon fill=\"black\" stroke=\"black\" points=\"352.17,-116.5 342.39,-120.58 352.58,-123.49 352.17,-116.5\"/>\n",
       "<text text-anchor=\"middle\" x=\"383.97\" y=\"-107.03\" font-family=\"Times,serif\" font-size=\"14.00\">1.1</text>\n",
       "</g>\n",
       "<!-- cb -->\n",
       "<!-- c&#45;&gt;cb -->\n",
       "<g id=\"edge18\" class=\"edge\">\n",
       "<title>c&#45;&gt;cb</title>\n",
       "<path fill=\"none\" stroke=\"black\" d=\"M441.43,-111.83C418.99,-98.15 379.68,-78.14 350.82,-65.44\"/>\n",
       "<polygon fill=\"black\" stroke=\"black\" points=\"352.29,-62.26 341.72,-61.55 349.54,-68.7 352.29,-62.26\"/>\n",
       "<text text-anchor=\"middle\" x=\"386\" y=\"-75.33\" font-family=\"Times,serif\" font-size=\"14.00\">650</text>\n",
       "</g>\n",
       "<!-- y -->\n",
       "<g id=\"node10\" class=\"node\">\n",
       "<title>y</title>\n",
       "<ellipse fill=\"none\" stroke=\"black\" cx=\"603\" cy=\"-126\" rx=\"27\" ry=\"18\"/>\n",
       "<text text-anchor=\"middle\" x=\"603\" y=\"-119.83\" font-family=\"Times,serif\" font-size=\"14.00\">715</text>\n",
       "</g>\n",
       "<!-- c&#45;&gt;y -->\n",
       "<g id=\"edge9\" class=\"edge\">\n",
       "<title>c&#45;&gt;y</title>\n",
       "<path fill=\"none\" stroke=\"black\" stroke-width=\"0.3\" d=\"M485.08,-131.34C507.91,-132.99 541.33,-133.19 566.76,-131.95\"/>\n",
       "<polygon fill=\"black\" stroke=\"black\" stroke-width=\"0.3\" points=\"566.89,-135.45 576.66,-131.35 566.47,-128.46 566.89,-135.45\"/>\n",
       "<text text-anchor=\"middle\" x=\"515.79\" y=\"-132.59\" font-family=\"Times,serif\" font-size=\"14.00\">715</text>\n",
       "</g>\n",
       "<!-- cb&#45;&gt;c -->\n",
       "<g id=\"edge8\" class=\"edge\">\n",
       "<title>cb&#45;&gt;c</title>\n",
       "<path fill=\"none\" stroke=\"black\" stroke-width=\"0.3\" d=\"M332.57,-68.17C355.31,-82.03 395.36,-102.39 424.31,-115.06\"/>\n",
       "<polygon fill=\"black\" stroke=\"black\" stroke-width=\"0.3\" points=\"422.68,-118.17 433.25,-118.87 425.42,-111.73 422.68,-118.17\"/>\n",
       "<text text-anchor=\"middle\" x=\"369.82\" y=\"-92.57\" font-family=\"Times,serif\" font-size=\"14.00\">1.1</text>\n",
       "</g>\n",
       "<!-- y&#45;&gt;c -->\n",
       "<g id=\"edge10\" class=\"edge\">\n",
       "<title>y&#45;&gt;c</title>\n",
       "<path fill=\"none\" stroke=\"black\" d=\"M576.92,-120.66C554.39,-119.03 521.57,-118.81 496.27,-120\"/>\n",
       "<polygon fill=\"black\" stroke=\"black\" points=\"496.17,-116.5 486.39,-120.58 496.58,-123.49 496.17,-116.5\"/>\n",
       "<text text-anchor=\"middle\" x=\"533.22\" y=\"-121.28\" font-family=\"Times,serif\" font-size=\"14.00\">1</text>\n",
       "</g>\n",
       "</g>\n",
       "</svg>\n"
      ],
      "text/plain": [
       "<graphviz.graphs.Digraph at 0x7f6f60c5ae10>"
      ]
     },
     "execution_count": 246,
     "metadata": {},
     "output_type": "execute_result"
    }
   ],
   "source": [
    "dot.edge('x1', 'a1', '100', penwidth='0.3')\n",
    "dot.edge('x2', 'a2', '150', penwidth='0.3')\n",
    "dot.edge('a1', 'b', '200', penwidth='0.3')\n",
    "dot.edge('a2', 'b', '450', penwidth='0.3')\n",
    "dot.edge('b', 'c', '650', penwidth='0.3')\n",
    "dot.edge('c', 'y', '715', penwidth='0.3')\n",
    "dot.edge('x1a', 'a1', '2', penwidth='0.3')\n",
    "dot.edge('x2a', 'a2', '3', penwidth='0.3')\n",
    "dot.edge('cb', 'c', '1.1', penwidth='0.3')\n",
    "\n",
    "dot.edge('y', 'c', '1')\n",
    "dot.edge('c', 'b', '1.1')\n",
    "dot.edge('b', 'a2', '1.1')\n",
    "dot.edge('b', 'a1', '1.1')\n",
    "dot.edge('a2', 'x2', '3.3')\n",
    "dot.edge('a1', 'x1', '2.2')\n",
    "\n",
    "dot.edge('a1', 'x1a', '110')\n",
    "dot.edge('a2', 'x2a', '165')\n",
    "dot.edge('c', 'cb', '650')\n",
    "\n",
    "dot"
   ]
  },
  {
   "cell_type": "markdown",
   "metadata": {},
   "source": [
    "이런식으로 어떠한 함수가 있을 때 뒤에서 부터 미분을 하여\\\n",
    "결과값의 대한 기울기를 알아내는 것을 역전파라고 한다.\n",
    "\n",
    "코드로 나타내면 다음과 같다."
   ]
  },
  {
   "cell_type": "markdown",
   "metadata": {},
   "source": [
    "### 곱셈 계층의 역전파\n",
    "곱셈 계층은 (순전파 기준으로) 다음층에서 받은 기울기에 곱할 두 값을 반대로 곱하여 기울기를 구현한다."
   ]
  },
  {
   "cell_type": "code",
   "execution_count": 247,
   "metadata": {},
   "outputs": [],
   "source": [
    "class MulLayer:\n",
    "  def __init__(self):\n",
    "    self.x = None\n",
    "    self.y = None\n",
    "\n",
    "  def forward(self, x, y):\n",
    "    self.x = x\n",
    "    self.y = y\n",
    "    out = x * y\n",
    "\n",
    "    return out\n",
    "\n",
    "  def backward(self, dout):\n",
    "    dx = dout * self.y  # x와 y를 바꾼다.\n",
    "    dy = dout * self.x\n",
    "\n",
    "    return dx, dy"
   ]
  },
  {
   "cell_type": "markdown",
   "metadata": {},
   "source": [
    "### 덧셈 계층의 역전파\n",
    "덧셈 계층은 (순전파 기준으로) 다음층에서 받은 기울기를 그대로 전달하여 기울기를 구현한다"
   ]
  },
  {
   "cell_type": "code",
   "execution_count": 248,
   "metadata": {},
   "outputs": [],
   "source": [
    "class AddLayer:\n",
    "  def __init__(self):\n",
    "    pass\n",
    "\n",
    "  def forward(self, x, y):\n",
    "    out = x + y\n",
    "\n",
    "    return out\n",
    "\n",
    "  def backward(self, dout):\n",
    "    dx = dout * 1\n",
    "    dy = dout * 1\n",
    "\n",
    "    return dx, dy"
   ]
  },
  {
   "cell_type": "markdown",
   "metadata": {},
   "source": [
    "구현한 곱셈, 덧셈 계층을 활용하여 전의 f 함수를 구현하면 다음과 같다"
   ]
  },
  {
   "cell_type": "code",
   "execution_count": 249,
   "metadata": {},
   "outputs": [
    {
     "data": {
      "text/plain": [
       "715"
      ]
     },
     "execution_count": 249,
     "metadata": {},
     "output_type": "execute_result"
    }
   ],
   "source": [
    "x1 = 100\n",
    "x2 = 150\n",
    "\n",
    "layer1_1 = MulLayer()\n",
    "layer1_2 = MulLayer()\n",
    "\n",
    "const1_1 = 2\n",
    "const1_2 = 3\n",
    "\n",
    "out1_1 = layer1_1.forward(x1, const1_1)\n",
    "out1_2 = layer1_2.forward(x2, const1_2)\n",
    "\n",
    "layer2 = AddLayer()\n",
    "out2 = layer2.forward(out1_1, out1_2)\n",
    "\n",
    "layer3 = MulLayer()\n",
    "const3 = 1.1\n",
    "out3 = layer3.forward(out2, const3)\n",
    "\n",
    "int(out3)"
   ]
  },
  {
   "cell_type": "markdown",
   "metadata": {},
   "source": [
    "구현한 계산 그래프에서 역전파를 수행해보자\\\n",
    "전에 그렸던 계산 그래프의 예상 역전파 output과 같은것을 볼 수 있다."
   ]
  },
  {
   "cell_type": "code",
   "execution_count": 250,
   "metadata": {},
   "outputs": [
    {
     "data": {
      "text/plain": [
       "[110.00000000000001, 2.2, 3.3000000000000003, 165.0, 1.1, 1.1, 1.1, 650, 1]"
      ]
     },
     "execution_count": 250,
     "metadata": {},
     "output_type": "execute_result"
    }
   ],
   "source": [
    "dout3 = 1\n",
    "\n",
    "dout2, dconst3 = layer3.backward(dout3)\n",
    "\n",
    "dout1_1, dout1_2 = layer2.backward(dout2)\n",
    "\n",
    "dx1, dconst1_1 = layer1_1.backward(dout1_1)\n",
    "dx2, dconst1_2 = layer1_2.backward(dout1_2)\n",
    "\n",
    "[dconst1_1, dx1, dx2, dconst1_2, dout1_1, dout1_2, dout2, dconst3, dout3]"
   ]
  },
  {
   "cell_type": "markdown",
   "metadata": {},
   "source": [
    "### 활성화 함수들의 역전파\n",
    "이제 신경망의 함수들의 역전파를 구현해보자\n",
    "\n",
    "ReLU는 0보다 클 경우에만 그대로 순전파 하는 함수이다.\n",
    "\n",
    "역전파에도 마찬가지로 0보다 큰 경우에만 이전 레이어에 기울기를 그대로 전달하며\\\n",
    "0보다 크지 않은 경우에는 기울기를 0으로 만들어 전달되지 않도록 한다."
   ]
  },
  {
   "cell_type": "code",
   "execution_count": 251,
   "metadata": {},
   "outputs": [],
   "source": [
    "class Relu:\n",
    "  def __init__(self):\n",
    "    self.mask = None\n",
    "\n",
    "  def forward(self, x):\n",
    "    self.mask = (x <= 0)\n",
    "    out = x.copy()\n",
    "    out[self.mask] = 0\n",
    "\n",
    "    return out\n",
    "\n",
    "  def backward(self, dout):\n",
    "    dout[self.mask] = 0\n",
    "    dx = dout\n",
    "\n",
    "    return dx"
   ]
  },
  {
   "cell_type": "markdown",
   "metadata": {},
   "source": [
    "다음은 시그모이드 활성화 함수의 역전파를 구현해보자."
   ]
  },
  {
   "cell_type": "code",
   "execution_count": 252,
   "metadata": {},
   "outputs": [],
   "source": [
    "class Sigmoid:\n",
    "  def __init__(self):\n",
    "    self.out = None\n",
    "\n",
    "  def forward(self, x):\n",
    "    out = sigmoid(x)\n",
    "    self.out = out\n",
    "    return out\n",
    "\n",
    "  def backward(self, dout):\n",
    "    dx = dout * (1.0 - self.out) * self.out\n",
    "\n",
    "    return dx"
   ]
  },
  {
   "cell_type": "markdown",
   "metadata": {},
   "source": [
    "### 퍼셉트론 계층의 역전파\n",
    "퍼셉트론 계층, 즉 w를 곱하고 b를 더하는 계층, Affine 계층이라고도 불리는 이 계층은\\\n",
    "일반적인 곱셈 계층이 아니라 행렬의 점곱 계층이 존재한다.\n",
    "\n",
    "다음과 같이 파이썬으로 작성할 수 있으며 이때 행렬의 T값은 행렬을 90도 눕힌것이라고 생각하면 된다."
   ]
  },
  {
   "cell_type": "code",
   "execution_count": 253,
   "metadata": {},
   "outputs": [],
   "source": [
    "class Affine:\n",
    "  def __init__(self, W, b):\n",
    "    self.W = W\n",
    "    self.b = b\n",
    "    \n",
    "    self.x = None\n",
    "    self.original_x_shape = None\n",
    "    \n",
    "    # 가중치와 편향 매개변수의 미분\n",
    "    self.dW = None\n",
    "    self.db = None\n",
    "\n",
    "  def forward(self, x):\n",
    "    # 텐서 대응\n",
    "    self.original_x_shape = x.shape\n",
    "    x = x.reshape(x.shape[0], -1)\n",
    "    self.x = x\n",
    "\n",
    "    out = np.dot(self.x, self.W) + self.b\n",
    "\n",
    "    return out\n",
    "\n",
    "  def backward(self, dout):\n",
    "    dx = np.dot(dout, self.W.T)\n",
    "    self.dW = np.dot(self.x.T, dout)\n",
    "    self.db = np.sum(dout, axis=0)\n",
    "    \n",
    "    dx = dx.reshape(*self.original_x_shape)  # 입력 데이터 모양 변경(텐서 대응)\n",
    "    return dx"
   ]
  },
  {
   "cell_type": "markdown",
   "metadata": {},
   "source": [
    "### 소프트맥스-크로스 엔트로피 손실 함수 계층의 역전파\n",
    "소프트맥스와 크로스 엔트로피 손실 함수를 한꺼번에 하나의 클래스로 구현하면 다음과 같다.\n",
    "\n",
    "소프트맥스를 출력층으로 하는 신경망에서 크로스 엔트로피 손실 함수를 쓰는 이유는\\\n",
    "역전파를 하였을때 해당 계층 기울기가 깔끔하게 떨어지기 때문이다."
   ]
  },
  {
   "cell_type": "code",
   "execution_count": 254,
   "metadata": {},
   "outputs": [],
   "source": [
    "\n",
    "class SoftmaxWithLoss:\n",
    "  def __init__(self):\n",
    "    self.loss = None # 손실함수\n",
    "    self.y = None    # softmax의 출력\n",
    "    self.t = None    # 정답 레이블(원-핫 인코딩 형태)\n",
    "      \n",
    "  def forward(self, x, t):\n",
    "    self.t = t\n",
    "    self.y = softmax(x)\n",
    "    self.loss = cross_entropy_error(self.y, self.t)\n",
    "    \n",
    "    return self.loss\n",
    "\n",
    "  def backward(self, dout=1):\n",
    "    batch_size = self.t.shape[0]\n",
    "    if self.t.size == self.y.size: # 정답 레이블이 원-핫 인코딩 형태일 때\n",
    "      dx = (self.y - self.t) / batch_size\n",
    "    else:\n",
    "      dx = self.y.copy()\n",
    "      dx[np.arange(batch_size), self.t] -= 1\n",
    "      dx = dx / batch_size\n",
    "    \n",
    "    return dx"
   ]
  },
  {
   "cell_type": "markdown",
   "metadata": {},
   "source": [
    "### Better 엑조디아\n",
    "\n",
    "이때까지 배운 오차역전파법 (역전파, 뒤에서 부터 미분하며 기울기를 구하는 것)를 통해 w와 b값을 조정하도록 하면\\\n",
    "수치 미분으로 구현했던 전의 네트워크 보다 학습 시간이 매우 단축될 수 있다. 자 다시 한번 합쳐보자."
   ]
  },
  {
   "cell_type": "code",
   "execution_count": 255,
   "metadata": {},
   "outputs": [],
   "source": [
    "from collections import OrderedDict\n",
    "\n",
    "class MyAwesomeModelV2:\n",
    "  # 초기값 설정\n",
    "  def __init__(self, input_size, hidden_size, output_size):\n",
    "    self.params = {}\n",
    "    self.params['W1'] = 0.01 * np.random.randn(input_size, hidden_size) # 초기 weight 값은 그냥 랜덤하게 해보자, 랜덤이 너무 커서 0.01을 곱해줬다\n",
    "    self.params['b1'] = np.zeros(hidden_size)                         # bias값은 비운다\n",
    "    \n",
    "    self.params['W2'] = 0.01 * np.random.randn(hidden_size, output_size)\n",
    "    self.params['b2'] = np.zeros(output_size)\n",
    "\n",
    "    # 레이어 쌓기 (추가됨)\n",
    "    self.layers = OrderedDict()\n",
    "    self.layers['Affine1'] = Affine(self.params['W1'], self.params['b1'])\n",
    "    self.layers['Relu1']   = Relu()\n",
    "    self.layers['Affine2'] = Affine(self.params['W2'], self.params['b2'])\n",
    "    self.lastLayer         = SoftmaxWithLoss()\n",
    "\n",
    "  # 예측 (순전파, 수정됨)\n",
    "  def predict(self, x):\n",
    "    for layer in self.layers.values():\n",
    "      x = layer.forward(x)\n",
    "\n",
    "    return x\n",
    "  \n",
    "  # 손실 함수 (수정됨)\n",
    "  def loss(self, x, t):\n",
    "    y = self.predict(x)\n",
    "\n",
    "    return self.lastLayer.forward(y, t)\n",
    "\n",
    "  # 정확도 테스트 함수\n",
    "  def accuracy(self, x, t):\n",
    "    y = self.predict(x)\n",
    "    y = np.argmax(y, axis=1)\n",
    "\n",
    "    if t.ndim != 1:\n",
    "      t = np.argmax(t, axis=1)\n",
    "\n",
    "    return np.sum(y == t) / float(x.shape[0])\n",
    "  \n",
    "  # 역전파를 통한 기울기 계산 (미분, 추가됨)\n",
    "  def gradient(self, x, t):\n",
    "    self.loss(x, t)\n",
    "\n",
    "    dout = 1\n",
    "    dout = self.lastLayer.backward(dout)\n",
    "\n",
    "    layers = list(self.layers.values())\n",
    "    layers.reverse()\n",
    "\n",
    "    for layer in layers:\n",
    "      dout = layer.backward(dout)\n",
    "\n",
    "    grads = {}\n",
    "    grads['W1'] = self.layers['Affine1'].dW\n",
    "    grads['b1'] = self.layers['Affine1'].db\n",
    "    grads['W2'] = self.layers['Affine2'].dW\n",
    "    grads['b2'] = self.layers['Affine2'].db\n",
    "\n",
    "    return grads"
   ]
  },
  {
   "cell_type": "markdown",
   "metadata": {},
   "source": [
    "자 다시 학습해보자."
   ]
  },
  {
   "cell_type": "code",
   "execution_count": 256,
   "metadata": {},
   "outputs": [
    {
     "name": "stdout",
     "output_type": "stream",
     "text": [
      "Epoch #0 ---\n",
      "Epoch #0 accuracy: train 0.9013, test 0.9042\n",
      "Epoch #1 ---\n",
      "Epoch #1 accuracy: train 0.9314666666666667, test 0.9335\n",
      "Epoch #2 ---\n",
      "Epoch #2 accuracy: train 0.9435333333333333, test 0.9442\n",
      "Epoch #3 ---\n",
      "Epoch #3 accuracy: train 0.95315, test 0.9524\n",
      "Epoch #4 ---\n",
      "Epoch #4 accuracy: train 0.9600166666666666, test 0.9562\n",
      "Epoch #5 ---\n",
      "Epoch #5 accuracy: train 0.9635666666666667, test 0.959\n",
      "Epoch #6 ---\n",
      "Epoch #6 accuracy: train 0.9675333333333334, test 0.9606\n",
      "Epoch #7 ---\n",
      "Epoch #7 accuracy: train 0.9710166666666666, test 0.9653\n",
      "Epoch #8 ---\n",
      "Epoch #8 accuracy: train 0.97355, test 0.9668\n",
      "Epoch #9 ---\n",
      "Epoch #9 accuracy: train 0.9762666666666666, test 0.9687\n",
      "Epoch #10 ---\n",
      "Epoch #10 accuracy: train 0.9774833333333334, test 0.9678\n",
      "Epoch #11 ---\n",
      "Epoch #11 accuracy: train 0.9801833333333333, test 0.9707\n",
      "Epoch #12 ---\n",
      "Epoch #12 accuracy: train 0.9809166666666667, test 0.9695\n",
      "Epoch #13 ---\n",
      "Epoch #13 accuracy: train 0.9829333333333333, test 0.973\n",
      "Epoch #14 ---\n",
      "Epoch #14 accuracy: train 0.98395, test 0.9744\n",
      "Epoch #15 ---\n",
      "Epoch #15 accuracy: train 0.9841666666666666, test 0.9737\n"
     ]
    }
   ],
   "source": [
    "# \n",
    "# 네트워크 준비 ---\n",
    "net = MyAwesomeModelV2(\n",
    "  input_size  = 28 * 28, # MNIST의 사진 크기가 28 픽셀 곱하기 28이므로 입력층 28*28노드\n",
    "  hidden_size = 100,     # 은닉층 퍼셉트론 100개\n",
    "  output_size = 10       # 0부터 10까지를 예측하는 classification 문제이므로 출력층 퍼셉트론 10개 \n",
    ")\n",
    "\n",
    "\n",
    "#\n",
    "# 데이터셋 준비 --- \n",
    "\n",
    "(x_train, t_train), (x_test, t_test) = \\\n",
    "  mnist_loader.load_dataset(normalize=True, one_hot_label=True)\n",
    "\n",
    "\n",
    "#\n",
    "# 하이퍼파라미터 ---\n",
    "\n",
    "epochs        = 16                 # 데이터셋 전체 학습 횟수\n",
    "train_size    = x_train.shape[0]   # 총 데이터셋의 개수\n",
    "batch_size    = 500                # 미니배치 크기\n",
    "learning_rate = 0.5                # 경사하강법 lr\n",
    "\n",
    "\n",
    "#\n",
    "# 학습 시작\n",
    "\n",
    "# 한 에폭 시작\n",
    "for epoch_idx in range(epochs):\n",
    "  print(f\"Epoch #{epoch_idx} ---\")\n",
    "\n",
    "  # 데이터셋 섞기 (데이터셋이 혹시나 제대로 분포되어 있지 않을 수 있어 한번 섞어준다. ex: 앞에는 정답이 0인 사진만 있는다던지...)\n",
    "  s = np.arange(0, train_size, 1)\n",
    "  np.random.shuffle(s)\n",
    "\n",
    "  x_train = x_train[s]\n",
    "  t_train = t_train[s]\n",
    "\n",
    "  # 한 미니배치 생성\n",
    "  for iter_start in range(0, train_size, batch_size):\n",
    "    # print(f\"  Mini-Batch: {iter_start}...{iter_start+batch_size}\")\n",
    "\n",
    "    x_batch = x_train[iter_start:iter_start+batch_size]\n",
    "    t_batch = t_train[iter_start:iter_start+batch_size]\n",
    "\n",
    "    # 기울기 계산\n",
    "    grad = net.gradient(x_batch, t_batch)\n",
    "\n",
    "    # 기울기 반영\n",
    "    for key in ('W1', 'b1', 'W2', 'b2'):\n",
    "      net.params[key] -= learning_rate * grad[key]\n",
    "\n",
    "    # 손실율 기록\n",
    "    loss = net.loss(x_batch, t_batch)\n",
    "    # print(f\"  Loss: {loss}\")\n",
    "\n",
    "  # 에폭 종료후 정확도 계산\n",
    "  train_acc = net.accuracy(x_train, t_train)\n",
    "  test_acc = net.accuracy(x_test, t_test)\n",
    "\n",
    "  print(f\"Epoch #{epoch_idx} accuracy: train {train_acc}, test {test_acc}\")"
   ]
  },
  {
   "cell_type": "markdown",
   "metadata": {},
   "source": [
    "상당히 빨라진 것을 볼 수 있다!\\\n",
    "최종 정확도가 학습 데이터는 99.95%, 테스트 데이터는 98.23%로 정확도가 높은 모델이 완성되었다."
   ]
  },
  {
   "cell_type": "code",
   "execution_count": 257,
   "metadata": {},
   "outputs": [
    {
     "name": "stdout",
     "output_type": "stream",
     "text": [
      "Predict: 1\n",
      "Answer: 1\n"
     ]
    },
    {
     "data": {
      "image/png": "[encoded data removed]",
      "text/plain": [
       "<Figure size 640x480 with 1 Axes>"
      ]
     },
     "metadata": {},
     "output_type": "display_data"
    }
   ],
   "source": [
    "n = np.random.randint(0, x_test.shape[0])\n",
    "x = x_test[n:n+1]\n",
    "t = t_test[n]\n",
    "\n",
    "y = net.predict(x)[0]\n",
    "\n",
    "print(f\"Predict: {np.argmax(y)}\")\n",
    "print(f\"Answer: {np.argmax(t)}\")\n",
    "\n",
    "plt.imshow(np.reshape(x[0], (28, 28)))\n",
    "plt.show()"
   ]
  },
  {
   "cell_type": "markdown",
   "metadata": {},
   "source": [
    "## 최적화 알고리즘들 (Optimizers)\n",
    "이제는 경사하강법 말고도 다른 최적화 방법도 알아보자. \\\n",
    "참고로 loss 함수가 최저가 되도록 하는 w와 b를 구하는 알고리즘을 최적화 알고리즘이라 한다."
   ]
  },
  {
   "cell_type": "markdown",
   "metadata": {},
   "source": [
    "### Momentum Optimizer\n",
    "이때까지 봤던 확률적 경사 하강법은 앞 뒤로 왔다갔다 하는 상황이 많이 발생한다.\n",
    "\n",
    "그래서 Momentum 알고리즘은 경사진 곳에서 공을 굴렸을때 하강하는 것처럼 물리법칙을 활용해 하강하는 것을 말한다.\\\n",
    "공이 바닥을 구르게 되므로 경사 하강법 보다 더 안정적인 모습을 보이게 된다.\n",
    "\n",
    "<img src=\"img/epW89.jpg\" width=\"300px\">"
   ]
  },
  {
   "cell_type": "markdown",
   "metadata": {},
   "source": [
    "### AdaGrad\n",
    "경사하강법의 두번째 문제는 초기에 설정한 Learning Rate를 계속 사용하는데 있다\\\n",
    "하강을 하면 할수록 Learning Rate를 줄여가며 하강하면 초반에는 하강을 빠르게 하고\\\n",
    "하강이 어느정도 된 상태에서는 더 미세하게 이동할 수 있지 않을까?\n",
    "\n",
    "그래서 AdaGrad는 각각의 개발 매개변수에 학습률을 점차적으로 조정하며 진행한다.\n",
    "\n",
    "<img src=\"img/output_adagrad_2fb0ed_6_1.svg\" width=\"300px\">"
   ]
  },
  {
   "cell_type": "markdown",
   "metadata": {},
   "source": [
    "### Adam\n",
    "Adam은 이 두 방법을 둘다 사용하는 알고리즘으로 매개변수의 갱신 정도를 능동적으로 조정하면서\\\n",
    "모멘텀 물리 법칙을 따라 튀는 현상을 억제한다.\n",
    "\n",
    "<img src=\"img/public.avif\" width=\"300px\">"
   ]
  },
  {
   "cell_type": "markdown",
   "metadata": {},
   "source": [
    "## 가중치 초기값 설정\n",
    "뉴럴 네트워크에서 학습전 가중치의 초기값을 적절히 설정하는 것은 매우 중요하다.\n",
    "\n",
    "만약 가중치의 초기값이 적절히 분포되어 있지 않는 경우\\\n",
    "미분시 기울기가 0이되어 모델 학습이 개선되지 않는 기울기 소실 문제와\\\n",
    "한 레이어의 많은 퍼셉트론의 결과값이 서로 비슷하게 되어 퍼셉트론을 여러개 두는 의미가 없어지는 표현력 문제가 있다.\n",
    "\n",
    "이렇기 때문에 딥러닝 학계에서는 여러가지 방법을 시도해 보고 있다.\n",
    "\n",
    "다음과 같은 간단한 모델이 있다고 생각하자"
   ]
  },
  {
   "cell_type": "code",
   "execution_count": 258,
   "metadata": {},
   "outputs": [],
   "source": [
    "def test_w_init(f, h=sigmoid):\n",
    "  input_data = np.random.randn(1000, 100)\n",
    "  node_num = 100\n",
    "  hidden_layer_size = 5\n",
    "  activations = {}\n",
    "\n",
    "  x = input_data\n",
    "\n",
    "  for i in range(hidden_layer_size):\n",
    "    if i != 0:\n",
    "      x = activations[i-1]\n",
    "\n",
    "    w = f(node_num)\n",
    "    a = np.dot(x, w)\n",
    "    z = h(a)\n",
    "\n",
    "    activations[i] = z\n",
    "    \n",
    "  for i, a in activations.items():\n",
    "    plt.subplot(1, len(activations), i+1)\n",
    "    plt.title(str(i+1) + \"-layer\")\n",
    "    if i != 0: plt.yticks([], [])\n",
    "    plt.ylim(0, 7000)\n",
    "    plt.hist(a.flatten(), 30, range=(0,1))"
   ]
  },
  {
   "cell_type": "markdown",
   "metadata": {},
   "source": [
    "### 정규분포를 활용한 초깃값\n",
    "표준편차를 가진 임의의 w값들을 설정해두면 여러 레이어 이후 어떻게 될까?\n",
    "\n",
    "흠... 각 w값들이 0과 1에 치우쳐저 있어 층이 깊어져도 크게 변하지 않는 것을 볼 수 있다.\\\n",
    "이렇게 파라미터가 0과 1 한쪽에 치우쳐저 있는 경우 기울기가 소실되어 수정이 일어나지 않는것을 기울기 소실이라 한다"
   ]
  },
  {
   "cell_type": "code",
   "execution_count": 259,
   "metadata": {},
   "outputs": [
    {
     "data": {
      "image/png": "[encoded data removed]",
      "text/plain": [
       "<Figure size 640x480 with 5 Axes>"
      ]
     },
     "metadata": {},
     "output_type": "display_data"
    }
   ],
   "source": [
    "def f(node_num):\n",
    "  return np.random.randn(node_num, node_num)\n",
    "\n",
    "test_w_init(f)\n",
    "plt.show()"
   ]
  },
  {
   "cell_type": "markdown",
   "metadata": {},
   "source": [
    "표준편차를 0.01로 조절하면 어떻게 될까?\n",
    "\n",
    "이번엔 0.5에 치우쳐저 있게 된다. 이러면 기울기가 소실되지는 않지만 모든 퍼셉트론이 비슷한 출력을 할것이므로\\\n",
    "퍼셉트론을 하나 하는것과 별반 다른게 없어지게 된다. 이것을 \"포현력을 제한한다\"라고 부른다."
   ]
  },
  {
   "cell_type": "code",
   "execution_count": 260,
   "metadata": {},
   "outputs": [
    {
     "data": {
      "image/png": "[encoded data removed]",
      "text/plain": [
       "<Figure size 640x480 with 5 Axes>"
      ]
     },
     "metadata": {},
     "output_type": "display_data"
    }
   ],
   "source": [
    "def f(node_num):\n",
    "  return np.random.randn(node_num, node_num) * 0.01\n",
    "\n",
    "test_w_init(f)\n",
    "plt.show()"
   ]
  },
  {
   "cell_type": "markdown",
   "metadata": {},
   "source": [
    "물론 표준 분포를 0.1로 하면 고르게 분포된다. 하지만 매번 표준 분포를 이런식으로 예측하는 것은 매우 까다롭다.\n",
    "\n",
    "자동으로 분포를 고르게 해주는 알고리즘들을 알아보자."
   ]
  },
  {
   "cell_type": "code",
   "execution_count": 261,
   "metadata": {},
   "outputs": [
    {
     "data": {
      "image/png": "[encoded data removed]",
      "text/plain": [
       "<Figure size 640x480 with 5 Axes>"
      ]
     },
     "metadata": {},
     "output_type": "display_data"
    }
   ],
   "source": [
    "def f(node_num):\n",
    "  return np.random.randn(node_num, node_num) * 0.1\n",
    "\n",
    "test_w_init(f)\n",
    "plt.show()"
   ]
  },
  {
   "cell_type": "markdown",
   "metadata": {},
   "source": [
    "### Xavier 초깃값\n",
    "Xavier는 표준 편차가 `1/sqrt(퍼셉트론_수)`인 정규분포를 활용한 초깃값 설정 알고리즘이다.\\\n",
    "Xavier 알고리즘을 사용하면 가중치의 분포가 넓어지게 되지만 레이어를 지날때마다 분포해둔것이 뭉개지는 현상이 발생한다.\n",
    "\n",
    "코드로 작성하면 다음과 같다."
   ]
  },
  {
   "cell_type": "code",
   "execution_count": 262,
   "metadata": {},
   "outputs": [
    {
     "data": {
      "image/png": "[encoded data removed]",
      "text/plain": [
       "<Figure size 640x480 with 5 Axes>"
      ]
     },
     "metadata": {},
     "output_type": "display_data"
    }
   ],
   "source": [
    "def f(node_num):\n",
    "  return np.random.randn(node_num, node_num) / np.sqrt(node_num)\n",
    "\n",
    "test_w_init(f)\n",
    "plt.show()"
   ]
  },
  {
   "cell_type": "markdown",
   "metadata": {},
   "source": [
    "이 문제는 활성화 함수를 sigmoid가 아닌 tanh으로 하였을때 해결할 수 있다."
   ]
  },
  {
   "cell_type": "code",
   "execution_count": 263,
   "metadata": {},
   "outputs": [
    {
     "data": {
      "image/png": "[encoded data removed]",
      "text/plain": [
       "<Figure size 640x480 with 5 Axes>"
      ]
     },
     "metadata": {},
     "output_type": "display_data"
    }
   ],
   "source": [
    "def tanh(x):\n",
    "  return np.tanh(x)\n",
    "\n",
    "def f(node_num):\n",
    "  return np.random.randn(node_num, node_num) / np.sqrt(node_num)\n",
    "\n",
    "test_w_init(f, h=tanh)\n",
    "plt.show()"
   ]
  },
  {
   "cell_type": "markdown",
   "metadata": {},
   "source": [
    "### He 초깃값\n",
    "활성화 함수가 ReLU일때에는 He 초깃값 알고리즘을 통해 더 나은 분포를 보여줄 수 있다.\n",
    "\n",
    "He 초깃값은 `sqrt(2/퍼셉트론_수)`의 표준 편차를 보이는 정규 분포로 다음과 같이 확인할 수 있다.\n",
    "\n",
    "He는 다른 알고리즘과 달리 레이어가 깊어져도 고른 분포를 보여주기에 자주 사용된다."
   ]
  },
  {
   "cell_type": "code",
   "execution_count": 264,
   "metadata": {},
   "outputs": [
    {
     "data": {
      "image/png": "[encoded data removed]",
      "text/plain": [
       "<Figure size 640x480 with 5 Axes>"
      ]
     },
     "metadata": {},
     "output_type": "display_data"
    }
   ],
   "source": [
    "def f(node_num):\n",
    "  return np.random.randn(node_num, node_num) * np.sqrt(2/node_num)\n",
    "\n",
    "test_w_init(f, h=relu)\n",
    "plt.show()"
   ]
  },
  {
   "cell_type": "markdown",
   "metadata": {},
   "source": [
    "### 배치 정규화 알고리즘\n",
    "초기값을 복잡하게 설정하지 말고 각 층에 출력값을 강제로 분포하도록 설정하면 어떻게 될까?\n",
    "\n",
    "이런 생각에서 나온 알고리즘이 바로 배치 정규화 레이어이다.\\\n",
    "배치 정규화 레이어는 은닉층 퍼셉트론과 활성화 함수 사이, 혹은 활성화 함수 뒤에 넣을때 효과가 좋은것으로 알려져 있다.\n",
    "\n",
    "배치 정규화 레이어는 다음과 같이 코드로 작성할 수 있으나 설명하기 어려우므로 코드만 표시한다."
   ]
  },
  {
   "cell_type": "code",
   "execution_count": 265,
   "metadata": {},
   "outputs": [],
   "source": [
    "class BatchNormalization:\n",
    "  \"\"\"\n",
    "  http://arxiv.org/abs/1502.03167\n",
    "  \"\"\"\n",
    "  def __init__(self, gamma, beta, momentum=0.9, running_mean=None, running_var=None):\n",
    "    self.gamma = gamma\n",
    "    self.beta = beta\n",
    "    self.momentum = momentum\n",
    "    self.input_shape = None # 합성곱 계층은 4차원, 완전연결 계층은 2차원  \n",
    "\n",
    "    # 시험할 때 사용할 평균과 분산\n",
    "    self.running_mean = running_mean\n",
    "    self.running_var = running_var  \n",
    "    \n",
    "    # backward 시에 사용할 중간 데이터\n",
    "    self.batch_size = None\n",
    "    self.xc = None\n",
    "    self.std = None\n",
    "    self.dgamma = None\n",
    "    self.dbeta = None\n",
    "\n",
    "  def forward(self, x, train_flg=True):\n",
    "    self.input_shape = x.shape\n",
    "    if x.ndim != 2:\n",
    "      N, C, H, W = x.shape\n",
    "      x = x.reshape(N, -1)\n",
    "\n",
    "    out = self.__forward(x, train_flg)\n",
    "      \n",
    "    return out.reshape(*self.input_shape)\n",
    "          \n",
    "  def __forward(self, x, train_flg):\n",
    "    if self.running_mean is None:\n",
    "      N, D = x.shape\n",
    "      self.running_mean = np.zeros(D)\n",
    "      self.running_var = np.zeros(D)\n",
    "                    \n",
    "    if train_flg:\n",
    "      mu = x.mean(axis=0)\n",
    "      xc = x - mu\n",
    "      var = np.mean(xc**2, axis=0)\n",
    "      std = np.sqrt(var + 10e-7)\n",
    "      xn = xc / std\n",
    "      \n",
    "      self.batch_size = x.shape[0]\n",
    "      self.xc = xc\n",
    "      self.xn = xn\n",
    "      self.std = std\n",
    "      self.running_mean = self.momentum * self.running_mean + (1-self.momentum) * mu\n",
    "      self.running_var = self.momentum * self.running_var + (1-self.momentum) * var            \n",
    "    else:\n",
    "      xc = x - self.running_mean\n",
    "      xn = xc / ((np.sqrt(self.running_var + 10e-7)))\n",
    "        \n",
    "    out = self.gamma * xn + self.beta \n",
    "    return out\n",
    "\n",
    "  def backward(self, dout):\n",
    "    if dout.ndim != 2:\n",
    "      N, C, H, W = dout.shape\n",
    "      dout = dout.reshape(N, -1)\n",
    "\n",
    "    dx = self.__backward(dout)\n",
    "\n",
    "    dx = dx.reshape(*self.input_shape)\n",
    "    return dx\n",
    "\n",
    "  def __backward(self, dout):\n",
    "    dbeta = dout.sum(axis=0)\n",
    "    dgamma = np.sum(self.xn * dout, axis=0)\n",
    "    dxn = self.gamma * dout\n",
    "    dxc = dxn / self.std\n",
    "    dstd = -np.sum((dxn * self.xc) / (self.std * self.std), axis=0)\n",
    "    dvar = 0.5 * dstd / self.std\n",
    "    dxc += (2.0 / self.batch_size) * self.xc * dvar\n",
    "    dmu = np.sum(dxc, axis=0)\n",
    "    dx = dxc - dmu / self.batch_size\n",
    "    \n",
    "    self.dgamma = dgamma\n",
    "    self.dbeta = dbeta\n",
    "    \n",
    "    return dx"
   ]
  },
  {
   "cell_type": "markdown",
   "metadata": {},
   "source": [
    "배치 정규화는 가중치 초기값 설정 알고리즘을 선택할 필요도 없고 학습을 빠르게 진행시킬 수 있어 애용된다.\n",
    "\n",
    "학습을 빠르게 진행시키는 이유는 손실 함수의 그래프를 다음과 같이 Smoothing하기 때문이다.\n",
    "\n",
    "<img src=\"img/107651920-60991600-6cc3-11eb-9bea-697a3236b03d.PNG\" width=\"600px\">"
   ]
  },
  {
   "cell_type": "markdown",
   "metadata": {},
   "source": [
    "## 오버핏 방지\n",
    "오버핏은 모델이 트레이닝 데이터에 너무 최적화 되어 있어 테스트 데이터가 들어왔을때 유연하게 처리하지 못하는 문제를 말한다.\n",
    "\n",
    "딥러닝에서 오버핏을 방지하는 것은 엔지니어에게 주요 과제라고 할 수 있다.\\\n",
    "자 그럼 오버핏을 방지하는 여러가지 알고리즘들을 알아보자."
   ]
  },
  {
   "cell_type": "markdown",
   "metadata": {},
   "source": [
    "### 가중치 감소\n",
    "예전부터 많이 사용하던 가중치 감소 알고리즘을 알아보자\n",
    "\n",
    "가중치 감소 알고리즘은 미분을 통해 가중치를 얼마나 조정해야 하는지 알아냈다면\\\n",
    "그 알아낸 가중치의 변경값을 적용하기 전에 L1, L2 ... Lp의 범위로 제한하여 너무 크게 적용되는 것을 막는다.\n",
    "\n",
    "참고로 L1, L2 ... Lp의 범위를 시각화 하면 다음과 같다.\n",
    "\n",
    "<img src=\"img/img.png\" width=\"600px\">"
   ]
  },
  {
   "cell_type": "markdown",
   "metadata": {},
   "source": [
    "### Dropout\n",
    "레이어가 너무 많아지면 가중치 감소 만으로 오버핏을 억제하기 어려울 수 있다.\n",
    "\n",
    "그래서 레이어의 랜덤하게 퍼셉트론을 몇개 죽이는 방식을 사용하는 것을 Dropout이라 한다.\\\n",
    "퍼셉트론을 죽이는 방법은 간단하게 순전파때는 출력을 0으로 하고 역전파때는 기울기를 0으로 하는 것이다.\n",
    "\n",
    "파이썬 코드로는 다음과 같이 작성할 수 있다."
   ]
  },
  {
   "cell_type": "code",
   "execution_count": 266,
   "metadata": {},
   "outputs": [],
   "source": [
    "class Dropout:\n",
    "  \"\"\"\n",
    "  http://arxiv.org/abs/1207.0580\n",
    "  \"\"\"\n",
    "  def __init__(self, dropout_ratio=0.5):\n",
    "    self.dropout_ratio = dropout_ratio\n",
    "    self.mask = None\n",
    "\n",
    "  def forward(self, x, train_flg=True):\n",
    "    if train_flg:\n",
    "      self.mask = np.random.rand(*x.shape) > self.dropout_ratio\n",
    "      return x * self.mask\n",
    "    else:\n",
    "      return x * (1.0 - self.dropout_ratio)\n",
    "\n",
    "  def backward(self, dout):\n",
    "    return dout * self.mask"
   ]
  }
 ],
 "metadata": {
  "kernelspec": {
   "display_name": "env",
   "language": "python",
   "name": "python3"
  },
  "language_info": {
   "codemirror_mode": {
    "name": "ipython",
    "version": 3
   },
   "file_extension": ".py",
   "mimetype": "text/x-python",
   "name": "python",
   "nbconvert_exporter": "python",
   "pygments_lexer": "ipython3",
   "version": "3.12.7"
  }
 },
 "nbformat": 4,
 "nbformat_minor": 2
}
