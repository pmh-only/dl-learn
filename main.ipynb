{
 "cells": [
  {
   "cell_type": "markdown",
   "metadata": {},
   "source": [
    "## DL Learn\n",
    "Deep learning with numpy\n",
    "\n",
    "this notebook is based on &lt;&lt;Deep Learning from scratch&gt;&gt; by Saito Goki."
   ]
  },
  {
   "cell_type": "code",
   "execution_count": 1,
   "metadata": {},
   "outputs": [
    {
     "name": "stdout",
     "output_type": "stream",
     "text": [
      "Requirement already satisfied: asttokens==2.4.1 in ./env/lib/python3.12/site-packages (from -r requirements.txt (line 1)) (2.4.1)\n",
      "Requirement already satisfied: comm==0.2.2 in ./env/lib/python3.12/site-packages (from -r requirements.txt (line 2)) (0.2.2)\n",
      "Requirement already satisfied: contourpy==1.3.0 in ./env/lib/python3.12/site-packages (from -r requirements.txt (line 3)) (1.3.0)\n",
      "Requirement already satisfied: cycler==0.12.1 in ./env/lib/python3.12/site-packages (from -r requirements.txt (line 4)) (0.12.1)\n",
      "Requirement already satisfied: debugpy==1.8.7 in ./env/lib/python3.12/site-packages (from -r requirements.txt (line 5)) (1.8.7)\n",
      "Requirement already satisfied: decorator==5.1.1 in ./env/lib/python3.12/site-packages (from -r requirements.txt (line 6)) (5.1.1)\n",
      "Requirement already satisfied: executing==2.1.0 in ./env/lib/python3.12/site-packages (from -r requirements.txt (line 7)) (2.1.0)\n",
      "Requirement already satisfied: fonttools==4.54.1 in ./env/lib/python3.12/site-packages (from -r requirements.txt (line 8)) (4.54.1)\n",
      "Requirement already satisfied: ipykernel==6.29.5 in ./env/lib/python3.12/site-packages (from -r requirements.txt (line 9)) (6.29.5)\n",
      "Requirement already satisfied: ipython==8.28.0 in ./env/lib/python3.12/site-packages (from -r requirements.txt (line 10)) (8.28.0)\n",
      "Requirement already satisfied: jedi==0.19.1 in ./env/lib/python3.12/site-packages (from -r requirements.txt (line 11)) (0.19.1)\n",
      "Requirement already satisfied: jupyter_client==8.6.3 in ./env/lib/python3.12/site-packages (from -r requirements.txt (line 12)) (8.6.3)\n",
      "Requirement already satisfied: jupyter_core==5.7.2 in ./env/lib/python3.12/site-packages (from -r requirements.txt (line 13)) (5.7.2)\n",
      "Requirement already satisfied: kiwisolver==1.4.7 in ./env/lib/python3.12/site-packages (from -r requirements.txt (line 14)) (1.4.7)\n",
      "Requirement already satisfied: matplotlib==3.9.2 in ./env/lib/python3.12/site-packages (from -r requirements.txt (line 15)) (3.9.2)\n",
      "Requirement already satisfied: matplotlib-inline==0.1.7 in ./env/lib/python3.12/site-packages (from -r requirements.txt (line 16)) (0.1.7)\n",
      "Requirement already satisfied: nest-asyncio==1.6.0 in ./env/lib/python3.12/site-packages (from -r requirements.txt (line 17)) (1.6.0)\n",
      "Requirement already satisfied: numpy==2.1.2 in ./env/lib/python3.12/site-packages (from -r requirements.txt (line 18)) (2.1.2)\n",
      "Requirement already satisfied: packaging==24.1 in ./env/lib/python3.12/site-packages (from -r requirements.txt (line 19)) (24.1)\n",
      "Requirement already satisfied: parso==0.8.4 in ./env/lib/python3.12/site-packages (from -r requirements.txt (line 20)) (0.8.4)\n",
      "Requirement already satisfied: pexpect==4.9.0 in ./env/lib/python3.12/site-packages (from -r requirements.txt (line 21)) (4.9.0)\n",
      "Requirement already satisfied: pillow==11.0.0 in ./env/lib/python3.12/site-packages (from -r requirements.txt (line 22)) (11.0.0)\n",
      "Requirement already satisfied: platformdirs==4.3.6 in ./env/lib/python3.12/site-packages (from -r requirements.txt (line 23)) (4.3.6)\n",
      "Requirement already satisfied: prompt_toolkit==3.0.48 in ./env/lib/python3.12/site-packages (from -r requirements.txt (line 24)) (3.0.48)\n",
      "Requirement already satisfied: psutil==6.1.0 in ./env/lib/python3.12/site-packages (from -r requirements.txt (line 25)) (6.1.0)\n",
      "Requirement already satisfied: ptyprocess==0.7.0 in ./env/lib/python3.12/site-packages (from -r requirements.txt (line 26)) (0.7.0)\n",
      "Requirement already satisfied: pure_eval==0.2.3 in ./env/lib/python3.12/site-packages (from -r requirements.txt (line 27)) (0.2.3)\n",
      "Requirement already satisfied: Pygments==2.18.0 in ./env/lib/python3.12/site-packages (from -r requirements.txt (line 28)) (2.18.0)\n",
      "Requirement already satisfied: pyparsing==3.2.0 in ./env/lib/python3.12/site-packages (from -r requirements.txt (line 29)) (3.2.0)\n",
      "Requirement already satisfied: python-dateutil==2.9.0.post0 in ./env/lib/python3.12/site-packages (from -r requirements.txt (line 30)) (2.9.0.post0)\n",
      "Requirement already satisfied: pyzmq==26.2.0 in ./env/lib/python3.12/site-packages (from -r requirements.txt (line 31)) (26.2.0)\n",
      "Requirement already satisfied: six==1.16.0 in ./env/lib/python3.12/site-packages (from -r requirements.txt (line 32)) (1.16.0)\n",
      "Requirement already satisfied: stack-data==0.6.3 in ./env/lib/python3.12/site-packages (from -r requirements.txt (line 33)) (0.6.3)\n",
      "Requirement already satisfied: tornado==6.4.1 in ./env/lib/python3.12/site-packages (from -r requirements.txt (line 34)) (6.4.1)\n",
      "Requirement already satisfied: traitlets==5.14.3 in ./env/lib/python3.12/site-packages (from -r requirements.txt (line 35)) (5.14.3)\n",
      "Requirement already satisfied: wcwidth==0.2.13 in ./env/lib/python3.12/site-packages (from -r requirements.txt (line 36)) (0.2.13)\n",
      "Note: you may need to restart the kernel to use updated packages.\n"
     ]
    }
   ],
   "source": [
    "%pip install -r requirements.txt\n",
    "import numpy as np\n",
    "import matplotlib.pyplot as plt"
   ]
  },
  {
   "cell_type": "markdown",
   "metadata": {},
   "source": [
    "## 퍼셉트론\n",
    "딥러닝, 신경망에서 우리가 생각할 수 있는 가장 최소 단위의 함수를 퍼셉트론(단일 퍼셉트론)이라 한다\n",
    "\n",
    "퍼셉트론은 다음과 같은 간단한 함수이며 여러 데이터 값을 받아 하나의 출력을 하는 함수로 인간의 뇌에서 신경 세포와 비슷한 구조를 가진다.\n",
    "\n",
    "```\n",
    "y={0 (w1*x1+w2*x2 <= θ)}\n",
    "  {1 (w1*x1+w2*x2 > θ)}\n",
    "```\n",
    "\n",
    "받은 백터 x에 각각 일치하는 가중치 w를 곱한 후 해당 값이 특정 임계값 θ를 넘어가면 0, 아니면 1을 출력한다 \\\n",
    "파이썬으로 작성하면 다음과 같다:"
   ]
  },
  {
   "cell_type": "code",
   "execution_count": 2,
   "metadata": {},
   "outputs": [],
   "source": [
    "def perceptron_1 (x1, x2):\n",
    "  w1, w2, theta = a, b, c # type: ignore\n",
    "\n",
    "  if x1*w1 + x2*w2 <= theta:\n",
    "    return 0\n",
    "  else:\n",
    "    return 1"
   ]
  },
  {
   "cell_type": "markdown",
   "metadata": {},
   "source": [
    "우리는 이때 가중치 w와 임계값 θ를 잘 활용하면 여러 함수들을 만들 수 있게 된다. \\\n",
    "다음은 AND 연산을 해주는 퍼셉트론이다."
   ]
  },
  {
   "cell_type": "code",
   "execution_count": 3,
   "metadata": {},
   "outputs": [
    {
     "name": "stdout",
     "output_type": "stream",
     "text": [
      "0 AND 0 = 0\n",
      "1 AND 0 = 0\n",
      "0 AND 1 = 0\n",
      "1 AND 1 = 1\n"
     ]
    }
   ],
   "source": [
    "def and_perceptron (x1, x2):\n",
    "  w1, w2, theta = 0.5, 0.5, 0.7\n",
    "\n",
    "  if x1*w1 + x2*w2 <= theta:\n",
    "    return 0\n",
    "  else:\n",
    "    return 1\n",
    "  \n",
    "print('0 AND 0 =', and_perceptron(0, 0))\n",
    "print('1 AND 0 =', and_perceptron(1, 0))\n",
    "print('0 AND 1 =', and_perceptron(0, 1))\n",
    "print('1 AND 1 =', and_perceptron(1, 1))"
   ]
  },
  {
   "cell_type": "markdown",
   "metadata": {},
   "source": [
    "이 퍼셉트론을 쫌 더 재밌게 만들어 보자. \\\n",
    "앞서 봤던 퍼셉트론의 `(w1*x1+w2*x2 <= θ)` 부분을 다음과 같이 표현할 수 있다.\n",
    "\n",
    "\n",
    "```\n",
    "y={0 (w1*x1+w2*x2+b <= 0)}\n",
    "  {1 (w1*x1+w2*x2+b > 0)}\n",
    "```\n",
    "\n",
    "부등호 뒤에 있던 임계값 θ를 앞으로 옮겼을 뿐이다. 이제 우리는 그것을 편향 b라고 부른다.\\\n",
    "당연히 b 값은 이제 부호를 반대로 하여 주어야 한다.\n",
    "\n",
    "개선된 식으로 가독성 높은 코드와 빠른 속도를 위해 numpy 라이브러리를 통해 AND, NAND, OR 게이트를 만들어 보자."
   ]
  },
  {
   "cell_type": "code",
   "execution_count": 4,
   "metadata": {},
   "outputs": [
    {
     "name": "stdout",
     "output_type": "stream",
     "text": [
      "0 AND 0 = 0\n",
      "1 AND 0 = 0\n",
      "0 AND 1 = 0\n",
      "1 AND 1 = 1\n"
     ]
    }
   ],
   "source": [
    "def and_perceptron2 (x: np.ndarray):\n",
    "  w = np.array([0.5, 0.5])\n",
    "  b = -0.7\n",
    "\n",
    "  if np.sum(w*x) + b <= 0:\n",
    "    return 0\n",
    "  else:\n",
    "    return 1\n",
    "  \n",
    "print('0 AND 0 =', and_perceptron2(np.array([0, 0])))\n",
    "print('1 AND 0 =', and_perceptron2(np.array([1, 0])))\n",
    "print('0 AND 1 =', and_perceptron2(np.array([0, 1])))\n",
    "print('1 AND 1 =', and_perceptron2(np.array([1, 1])))"
   ]
  },
  {
   "cell_type": "code",
   "execution_count": 5,
   "metadata": {},
   "outputs": [
    {
     "name": "stdout",
     "output_type": "stream",
     "text": [
      "0 NAND 0 = 1\n",
      "1 NAND 0 = 1\n",
      "0 NAND 1 = 1\n",
      "1 NAND 1 = 0\n"
     ]
    }
   ],
   "source": [
    "def nand_perceptron (x: np.ndarray):\n",
    "  w = np.array([-0.5, -0.5])\n",
    "  b = 0.7\n",
    "\n",
    "  if np.sum(w*x) + b <= 0:\n",
    "    return 0\n",
    "  else:\n",
    "    return 1\n",
    "  \n",
    "print('0 NAND 0 =', nand_perceptron(np.array([0, 0])))\n",
    "print('1 NAND 0 =', nand_perceptron(np.array([1, 0])))\n",
    "print('0 NAND 1 =', nand_perceptron(np.array([0, 1])))\n",
    "print('1 NAND 1 =', nand_perceptron(np.array([1, 1])))"
   ]
  },
  {
   "cell_type": "code",
   "execution_count": 6,
   "metadata": {},
   "outputs": [
    {
     "name": "stdout",
     "output_type": "stream",
     "text": [
      "0 OR 0 = 0\n",
      "1 OR 0 = 1\n",
      "0 OR 1 = 1\n",
      "1 OR 1 = 1\n"
     ]
    }
   ],
   "source": [
    "def or_perceptron (x: np.ndarray):\n",
    "  w = np.array([0.5, 0.5])\n",
    "  b = -0.2\n",
    "\n",
    "  if np.sum(w*x) + b <= 0:\n",
    "    return 0\n",
    "  else:\n",
    "    return 1\n",
    "  \n",
    "print('0 OR 0 =', or_perceptron(np.array([0, 0])))\n",
    "print('1 OR 0 =', or_perceptron(np.array([1, 0])))\n",
    "print('0 OR 1 =', or_perceptron(np.array([0, 1])))\n",
    "print('1 OR 1 =', or_perceptron(np.array([1, 1])))"
   ]
  },
  {
   "cell_type": "markdown",
   "metadata": {},
   "source": [
    "이렇게 AND, NAND, OR 게이트를 퍼셉트론을 통해 구현할 수 있다.\n",
    "\n",
    "이처럼 함수의 수정 없이 가중치 w와 편향 b만을 수정하기만 하면 여러 상황들을 만들어 낼 수 있는 것이 퍼셉트론의 장점이다."
   ]
  },
  {
   "cell_type": "markdown",
   "metadata": {},
   "source": [
    "### 다층 퍼셉트론\n",
    "퍼셉트론 하나만으론 XOR 게이트를 구현할 수 없다.\n",
    "\n",
    "퍼셉트론은 x{1}과 x{2}의 축을 가진 그래프에서 가상의 직선을 하나 그어 0과 1 값을 구분하는 함수이다. \\\n",
    "하지만 XOR은 직선 하나만으로 구분할 수 없고 (즉 선형으로는 해결할 수 없고) \\\n",
    "직선이 아닌 선으로 (비선형으로) 그어야 구분할 수 있다.\n",
    "\n",
    "이 비선형 구분을 하는 XOR 게이트와 같은 알고리즘은 여러 퍼셉트론을 결합하여 구현할 수 있다. \\\n",
    "마치 AND, NAND, OR 게이트로 XOR 게이트를 만들 수 있는 것 처럼 말이다."
   ]
  },
  {
   "cell_type": "code",
   "execution_count": 7,
   "metadata": {},
   "outputs": [
    {
     "name": "stdout",
     "output_type": "stream",
     "text": [
      "0 XOR 0 = 0\n",
      "1 XOR 0 = 1\n",
      "0 XOR 1 = 1\n",
      "1 XOR 1 = 0\n"
     ]
    }
   ],
   "source": [
    "def xor_perceptron(x: np.ndarray):\n",
    "  y = np.array([nand_perceptron(x), or_perceptron(x)])\n",
    "  return and_perceptron2(y)\n",
    "\n",
    "\n",
    "print('0 XOR 0 =', xor_perceptron(np.array([0, 0])))\n",
    "print('1 XOR 0 =', xor_perceptron(np.array([1, 0])))\n",
    "print('0 XOR 1 =', xor_perceptron(np.array([0, 1])))\n",
    "print('1 XOR 1 =', xor_perceptron(np.array([1, 1])))"
   ]
  },
  {
   "cell_type": "markdown",
   "metadata": {},
   "source": [
    "XOR을 구현하는 이 다층 퍼셉트론은 2개의 층으로 구성되어 있다.\n",
    "\n",
    "1층: NAND 퍼셉트론과 OR 퍼셉트론이 있는 층 \\\n",
    "2층: AND 퍼셉트론이 있는 층\n",
    "\n",
    "이렇게 2층을 쌓는 것 만으로도 기존 단일 퍼셉트론으론 할 수 없었던 연산을 가능하게 되었다!\\\n",
    "이 뜻은 퍼셉트론을 여러겹 쌓게 되면 선형적 표현을 넘어서 비선형적 표현도 가능하다는 의미이다.\n",
    "\n",
    "실제로 이것을 응용하면 인간이 생각할 수 있는 모든 회로를 단 2층의 퍼셉트론으로 모두 구현할 수 있다. (w와 b를 찾는게 매우 어렵겠지만)"
   ]
  },
  {
   "cell_type": "markdown",
   "metadata": {},
   "source": [
    "## 신경망\n",
    "위 퍼셉트론에서 문제점이 무엇일까? 바로 사람이 직접 w와 b를 찾아줘야 했던 점이다. \\\n",
    "신경망은 퍼셉트론에 더 많은 기능을 추가하여 자동으로 w와 b를 찾아주는 기능을 구현한다.\n",
    "\n",
    "아까 구현했던 XOR 회로를 기준으로 신경망의 층을 나눠보자.\n",
    "\n",
    "입력층: 입력받았던 x가 있는 층 \\\n",
    "은닉층 1층: NAND와 OR 퍼셉트론이 있던 층 \\\n",
    "출력층: AND 퍼셉트론이 있던 층\n",
    "\n",
    "신경망에서 입력을 받는 층을 입력층, 내부적인 처리를 하는 은닉층, 최종적으로 결과를 계산하는 출력층이 존재한다. \\\n",
    "이때 입력층을 포함해서 3개니까 3층 신경망이 아니냐고 예기를 할 수 있겠지만 w와 b를 계산하지 않는 입력층은 포함되지 않아 2층 신경망이라고 한다."
   ]
  },
  {
   "cell_type": "markdown",
   "metadata": {},
   "source": [
    "### 활성화 함수\n",
    "이제 전의 퍼셉트론 함수를 쫌 더 재미있게 만들어 보자 \\\n",
    "`y={0 (w1*x1+w2*x2+b <= 0)}` 에서 결과 값이 0보다 큰지 작은지 체크하는 부분을 따로 때어 보는것이다.\n",
    "\n",
    "```\n",
    "y=h(b+w1*x1+w2+x2)\n",
    "h={0 (x <= 0)}\n",
    "  {1 (x > 0) }\n",
    "```\n",
    "\n",
    "`b+w1*x1+w2+x2` 의 내용이 0보다 큰지 작은지를 계산하는 부분을 함수 h로 때어내었다.\\\n",
    "이때 이 함수 h는 활성화 함수라고 부른다.\n",
    "\n",
    "구현한 코드를 보면 더 쉽게 이해할 수 있다."
   ]
  },
  {
   "cell_type": "code",
   "execution_count": 8,
   "metadata": {},
   "outputs": [
    {
     "name": "stdout",
     "output_type": "stream",
     "text": [
      "0 AND 0 = 0\n",
      "1 AND 0 = 0\n",
      "0 AND 1 = 0\n",
      "1 AND 1 = 1\n"
     ]
    }
   ],
   "source": [
    "def h1(x):\n",
    "  if x <= 0:\n",
    "    return 0\n",
    "  else:\n",
    "    return 1\n",
    "\n",
    "# numpy를 사용해 배열도 지원하고 짧게 구현해보자\n",
    "def h2(x: np.ndarray):\n",
    "  y = x > 0 # 입력받은 배열 x의 모든 값을 0과 비교하고 True, False로 반환한다\n",
    "\n",
    "  return y.astype(int) # boolean을 0과 1로 변환한다.\n",
    "\n",
    "# 더 짧게 구현할 수 있다.\n",
    "def h3(x: np.ndarray):\n",
    "  return np.array(x > 0, dtype=int)\n",
    "\n",
    "def and_perceptron3 (x: np.ndarray):\n",
    "  w = np.array([0.5, 0.5])\n",
    "  b = -0.7\n",
    "  y = h3(np.array([np.sum(w*x) + b]))\n",
    "\n",
    "  return y\n",
    "  \n",
    "print('0 AND 0 =', and_perceptron2(np.array([0, 0])))\n",
    "print('1 AND 0 =', and_perceptron2(np.array([1, 0])))\n",
    "print('0 AND 1 =', and_perceptron2(np.array([0, 1])))\n",
    "print('1 AND 1 =', and_perceptron2(np.array([1, 1])))"
   ]
  },
  {
   "cell_type": "markdown",
   "metadata": {},
   "source": [
    "이 활성화 함수의 분리 여부는 퍼셉트론이 신경망으로 진화하는데 큰 역할을 한다.\n",
    "\n",
    "왜냐면 0과 1을 리턴했던 재미없는 함수(계단 함수) h를 재미있게 수정할 수 있기 때문이다! \\\n",
    "일단 먼저 이때까지 사용했던 계단 함수를 그래프를 통해 확인해보자."
   ]
  },
  {
   "cell_type": "code",
   "execution_count": 9,
   "metadata": {},
   "outputs": [
    {
     "data": {
      "image/png": "[encoded data removed]",
      "text/plain": [
       "<Figure size 640x480 with 1 Axes>"
      ]
     },
     "metadata": {},
     "output_type": "display_data"
    }
   ],
   "source": [
    "x = np.arange(-5.0, 5.0, 0.1)\n",
    "y = h3(x)\n",
    "\n",
    "plt.plot(x, y)\n",
    "plt.ylim(-0.1, 1.1)\n",
    "plt.show()"
   ]
  },
  {
   "cell_type": "markdown",
   "metadata": {},
   "source": [
    "이렇게 재미없는 선형 함수를 활성화 함수로 하게 되면 신경망의 이점을 얻을 수 없다.\n",
    "\n",
    "마치 `h=cx`로 함수를 만들고 `y=h(h(h(x)))` 라고 한다면 굳이 저렇게 적지 말고 `y=ax, a=c^3` 이라고만 하면 되는 것 처럼 \\\n",
    "중첩의 의미를 가질 수 없게 되어 쓰는 의미가 없어지기 때문이다.\n",
    "\n",
    "그럼 비선형적 함수를 한번 만들어보자"
   ]
  },
  {
   "cell_type": "markdown",
   "metadata": {},
   "source": [
    "### 시그모이드 함수\n",
    "이번엔 쫌 재밌는 활성화 함수를 만들어 보자. 직선이 가득한 선형적 함수가 아닌\\\n",
    "비선형적 함수를 만들어보는 것이다. "
   ]
  },
  {
   "cell_type": "code",
   "execution_count": 10,
   "metadata": {},
   "outputs": [
    {
     "data": {
      "image/png": "[encoded data removed]",
      "text/plain": [
       "<Figure size 640x480 with 1 Axes>"
      ]
     },
     "metadata": {},
     "output_type": "display_data"
    }
   ],
   "source": [
    "def sigmoid(x: np.ndarray):\n",
    "  return 1 / (1 + np.exp(-x))\n",
    "\n",
    "x = np.arange(-5.0, 5.0, 0.1)\n",
    "y = sigmoid(x)\n",
    "\n",
    "plt.plot(x, y)\n",
    "plt.ylim(-0.1, 1.1)\n",
    "plt.show()"
   ]
  },
  {
   "cell_type": "markdown",
   "metadata": {},
   "source": [
    "\n",
    "### ReLU 함수\n",
    "시그모이드 함수를 많이 사용해 왔지만 최근 더 많이 사용되고 있는 ReLU 함수는 다음과 같다\\\n",
    "ReLU 함수는 수식으로 표현하면 다음과 같으며 간단히 max를 통해 구현할 수 있다\n",
    "\n",
    "```\n",
    "h={x (x >= 0)}\n",
    " ={0 (x <  0)}\n",
    "```"
   ]
  },
  {
   "cell_type": "code",
   "execution_count": 11,
   "metadata": {},
   "outputs": [
    {
     "data": {
      "image/png": "[encoded data removed]",
      "text/plain": [
       "<Figure size 640x480 with 1 Axes>"
      ]
     },
     "metadata": {},
     "output_type": "display_data"
    }
   ],
   "source": [
    "def relu(x: np.ndarray):\n",
    "  return np.maximum(0, x)\n",
    "\n",
    "x = np.arange(-5.0, 5.0, 0.1)\n",
    "y = relu(x)\n",
    "\n",
    "plt.plot(x, y)\n",
    "plt.ylim(-1, 5.5)\n",
    "plt.show()"
   ]
  },
  {
   "cell_type": "markdown",
   "metadata": {},
   "source": [
    "### 행렬의 점곱\n",
    "신경망 연산을 이해하기 위해선 행렬의 점곱에 대해서 먼저 알아야 한다.\\\n",
    "A행렬과 B행렬에 대한 곱셈을 할때에는 그냥 원자끼리 곱한다고 해결되는 것이 아니라\\\n",
    "구하고자 하는 x 원소가 위치하는 A 행렬의 모든 행과 x 원소가 위치하는 B 행렬의 모든 열을 곱한뒤 더해 주어야 한다.\n",
    "\n",
    "즉 다음과 같은 식이 있을때 x를 구하려면 \n",
    "\n",
    "```\n",
    "{ 1 2 }   { 5 6 }   { x ? }\n",
    "{ 3 4 } * { 7 8 } = { ? ? }\n",
    "\n",
    "x=1*5+2*7=19\n",
    "```"
   ]
  },
  {
   "cell_type": "code",
   "execution_count": 12,
   "metadata": {},
   "outputs": [
    {
     "data": {
      "text/plain": [
       "array([[19, 22],\n",
       "       [43, 50]])"
      ]
     },
     "execution_count": 12,
     "metadata": {},
     "output_type": "execute_result"
    }
   ],
   "source": [
    "A=np.array([\n",
    "  [1, 2],\n",
    "  [3, 4]\n",
    "])\n",
    "\n",
    "B=np.array([\n",
    "  [5, 6],\n",
    "  [7, 8]\n",
    "])\n",
    "\n",
    "np.dot(A, B)"
   ]
  },
  {
   "cell_type": "markdown",
   "metadata": {},
   "source": [
    "이 행렬의 점곱을 해보면서 알 수 있는 사실이 하나 있다.\\\n",
    "바로 A 행렬과 B 행렬을 점곱하려면 A의 행 수와 B의 열 수가 일치해야 한다는 점이다.\n",
    "\n",
    "이는 다음과 같이 확인해볼 수 있다."
   ]
  },
  {
   "cell_type": "code",
   "execution_count": 13,
   "metadata": {},
   "outputs": [],
   "source": [
    "A=np.array([\n",
    "  [1, 2],\n",
    "  [3, 4]\n",
    "])\n",
    "\n",
    "B=np.array([\n",
    "  [5, 6],\n",
    "  [7, 8],\n",
    "  [7, 8]\n",
    "])\n",
    "\n",
    "\n",
    "# 각 행렬의 크기:\n",
    "# A = 2x2\n",
    "# B = 3x2\n",
    "\n",
    "# np.dot(A, B)"
   ]
  },
  {
   "cell_type": "code",
   "execution_count": 14,
   "metadata": {},
   "outputs": [
    {
     "data": {
      "text/plain": [
       "array([[19],\n",
       "       [43]])"
      ]
     },
     "execution_count": 14,
     "metadata": {},
     "output_type": "execute_result"
    }
   ],
   "source": [
    "A=np.array([\n",
    "  [1, 2],\n",
    "  [3, 4]\n",
    "])\n",
    "\n",
    "B=np.array([\n",
    "  [5],\n",
    "  [7]\n",
    "])\n",
    "\n",
    "\n",
    "# 각 행렬의 크기:\n",
    "# A = 2x2\n",
    "# B = 2x1\n",
    "\n",
    "np.dot(A, B)"
   ]
  },
  {
   "cell_type": "markdown",
   "metadata": {},
   "source": [
    "이렇게 A의 행과 B의 열 수를 맞추지 않은 두 행렬의 대한 점곱은 오류가 발생하는 것을 볼 수 있으며\\\n",
    "일치할 경우 오류가 발생하지 않는 것을 볼 수 있다. 이는 두 행렬의 차원 수가 달라도 적용된다."
   ]
  },
  {
   "cell_type": "code",
   "execution_count": 15,
   "metadata": {},
   "outputs": [
    {
     "data": {
      "text/plain": [
       "array([19, 43])"
      ]
     },
     "execution_count": 15,
     "metadata": {},
     "output_type": "execute_result"
    }
   ],
   "source": [
    "A=np.array([\n",
    "  [1, 2],\n",
    "  [3, 4]\n",
    "])\n",
    "\n",
    "B=np.array([5, 7])\n",
    "\n",
    "\n",
    "# 각 행렬의 크기:\n",
    "# A = 2x2\n",
    "# B = 2\n",
    "\n",
    "np.dot(A, B)"
   ]
  },
  {
   "cell_type": "markdown",
   "metadata": {},
   "source": [
    "### 행렬의 접곱을 통한 퍼셉트론\n",
    "위의 `x=1*5+2*7` 식에서 퍼셉트론의 모양이 보이지 않는가?\\\n",
    "그렇다 퍼셉트론 식 `y=h(w1*x1+w2*x2+b)`는 행렬곱을 통해서 더 간단히 표현할 수 있다.\n",
    "\n",
    "```\n",
    "X=(입력 x값의 행렬)\n",
    "W=(가중치 w값의 행렬)\n",
    "B=(편향 b가 하나 있는 행렬)\n",
    "A=(결과값 y값의 행렬)\n",
    "\n",
    "A=h(XW+B)\n",
    "```\n",
    "\n",
    "이 규칙을 통해 임의의 x와 w, b로 신경망 1층을 만들어보자.\n",
    "\n",
    "입력 2개의 대한 퍼셉트론 3개를 가진 층이다."
   ]
  },
  {
   "cell_type": "code",
   "execution_count": 16,
   "metadata": {},
   "outputs": [
    {
     "data": {
      "text/plain": [
       "array([0.57444252, 0.66818777, 0.75026011])"
      ]
     },
     "execution_count": 16,
     "metadata": {},
     "output_type": "execute_result"
    }
   ],
   "source": [
    "X=np.array([1.0, 0.5])        # 입력 층 입력값 (크기: 2)\n",
    "W1=np.array([                 # 1층(퍼셉트론 3개)의 대한 입력값(2개) 각각의 가중치 (크기: 2x3)\n",
    "  [0.1, 0.3, 0.5],\n",
    "  [0.2, 0.4, 0.6]\n",
    "])\n",
    "B1=np.array([0.1, 0.2, 0.3])  # 1층(퍼셉트론 3개)의 대한 각각의 편향 (크기: 3)\n",
    "\n",
    "h=sigmoid                     # 활성화 함수로 시그모이드 함수 사용\n",
    "A1=h(np.dot(X, W1) + B1)      # 1층의 퍼셉트론 3개의 결과값 (크기: 3)\n",
    "\n",
    "A1"
   ]
  },
  {
   "cell_type": "markdown",
   "metadata": {},
   "source": [
    "1층의 결과값 3개를 다음 층에 넘겨보자\n",
    "\n",
    "1층 결과값 3개의 대한 2개의 퍼셉트론을 가진 층이다."
   ]
  },
  {
   "cell_type": "code",
   "execution_count": 17,
   "metadata": {},
   "outputs": [
    {
     "data": {
      "text/plain": [
       "array([0.62624937, 0.7710107 ])"
      ]
     },
     "execution_count": 17,
     "metadata": {},
     "output_type": "execute_result"
    }
   ],
   "source": [
    "W2=np.array([                 # 2층(퍼셉트론 2개)의 대한 1층값(3개) 각각의 가중치 (크기: 3x2)\n",
    "  [0.1, 0.4],\n",
    "  [0.2, 0.5],\n",
    "  [0.3, 0.6]\n",
    "])\n",
    "B2=np.array([0.1, 0.2])       # 2층(퍼셉트론 2개)의 대한 각각의 편향 (크기: 2)\n",
    "\n",
    "h=sigmoid                     # 활성화 함수로 시그모이드 함수 사용\n",
    "A2=h(np.dot(A1, W2) + B2)     # 2층의 퍼셉트론 2개의 결과값 (크기: 2), 1층의 출력값을 사용\n",
    "\n",
    "A2"
   ]
  },
  {
   "cell_type": "markdown",
   "metadata": {},
   "source": [
    "마지막으로 2층의 결과값 2개를 출력 층 (퍼셉트론 2개)에 넘겨보자\\\n",
    "이때 출력층은 활성화 함수로 입력 받은것을 그대로 출력하는 항등 함수를 사용해보자"
   ]
  },
  {
   "cell_type": "code",
   "execution_count": 18,
   "metadata": {},
   "outputs": [
    {
     "data": {
      "text/plain": [
       "array([0.31682708, 0.69627909])"
      ]
     },
     "execution_count": 18,
     "metadata": {},
     "output_type": "execute_result"
    }
   ],
   "source": [
    "def identity(x: np.ndarray):\n",
    "  return x\n",
    "\n",
    "W3=np.array([                 # 출력층(퍼셉트론 2개)의 대한 2층값(2개) 각각의 가중치 (크기: 2x2)\n",
    "  [0.1, 0.3],\n",
    "  [0.2, 0.4]\n",
    "])\n",
    "B3=np.array([0.1, 0.2])       # 출력층(퍼셉트론 2개)의 대한 각각의 편향 (크기: 2)\n",
    "\n",
    "h=identity                    # 활성화 함수로 항등 함수 사용\n",
    "A3=h(np.dot(A2, W3) + B3)     # 출력층의 퍼셉트론 2개의 결과값 (크기: 2), 2층의 출력값을 사용\n",
    "\n",
    "A3"
   ]
  },
  {
   "cell_type": "markdown",
   "metadata": {},
   "source": [
    "이렇게 3층 신경망을 구현해 보았다. \\\n",
    "방금처럼 출력층에 경우 원하는 출력 형태의 따라 은닉층과 다른 함수를 사용하는 경우가 많다.\n",
    "\n",
    "Regression (회귀) = 항등 함수\\\n",
    "Classification (분류) = 시그모이드 (클래스 2개), 소프트맥스 (클래스 2개 이상)"
   ]
  },
  {
   "cell_type": "markdown",
   "metadata": {},
   "source": [
    "### 신경망 구현 정리\n",
    "앞에서 했던 신경망 구현을 한 스크립트로 모으면 다음과 같다"
   ]
  },
  {
   "cell_type": "code",
   "execution_count": 19,
   "metadata": {},
   "outputs": [
    {
     "data": {
      "text/plain": [
       "array([0.31682708, 0.69627909])"
      ]
     },
     "execution_count": 19,
     "metadata": {},
     "output_type": "execute_result"
    }
   ],
   "source": [
    "b1=np.array([0.1, 0.2, 0.3])\n",
    "W1=np.array([\n",
    "  [0.1, 0.3, 0.5],\n",
    "  [0.2, 0.4, 0.6]\n",
    "])\n",
    "\n",
    "b2=np.array([0.1, 0.2])\n",
    "W2=np.array([\n",
    "  [0.1, 0.4],\n",
    "  [0.2, 0.5],\n",
    "  [0.3, 0.6]\n",
    "])\n",
    "\n",
    "b3=np.array([0.1, 0.2])\n",
    "W3=np.array([\n",
    "  [0.1, 0.3],\n",
    "  [0.2, 0.4]\n",
    "])\n",
    "\n",
    "# ---\n",
    "\n",
    "def forward(x: np.ndarray):\n",
    "  a1=sigmoid(np.dot(x, W1) + b1)\n",
    "  a2=sigmoid(np.dot(a1, W2) + b2)\n",
    "  a3=identity(np.dot(a2, W3) + b3)\n",
    "\n",
    "  return a3\n",
    "\n",
    "# ---\n",
    "\n",
    "x=np.array([1.0, 0.5])\n",
    "y=forward(x)\n",
    "\n",
    "y"
   ]
  },
  {
   "cell_type": "markdown",
   "metadata": {},
   "source": [
    "### 소프트맥스 함수\n",
    "분류 문제에서 사용되는 소프트맥스 활성화 함수는 한가지 다른점이 있다.\\\n",
    "다른 활성화 함수의 경우 xW+b의 대한 결과값만 입력으로 취하지만 소프트맥스 함수의 경우\\\n",
    "해당 함수가 속하는 층의 모든 퍼셉트론의 결과값을 참고하여 활성화 결과를 출력한다.\n",
    "\n",
    "소프트맥스 함수의 경우 e 값을 적극 사용하며 다음과 같다."
   ]
  },
  {
   "cell_type": "code",
   "execution_count": 20,
   "metadata": {},
   "outputs": [
    {
     "data": {
      "text/plain": [
       "array([0.40625907, 0.59374093])"
      ]
     },
     "execution_count": 20,
     "metadata": {},
     "output_type": "execute_result"
    }
   ],
   "source": [
    "def softmax(a: np.ndarray):\n",
    "  c=np.max(a)\n",
    "  exp_a=np.exp(a - c)\n",
    "  sum_exp_a=np.sum(exp_a)\n",
    "\n",
    "  return exp_a / sum_exp_a\n",
    "\n",
    "softmax(y)"
   ]
  },
  {
   "cell_type": "markdown",
   "metadata": {},
   "source": [
    "이 소프트맥스 함수의 특징은 입력값의 대소 관계가 그대로 유지되면서도\\\n",
    "출력값이 0과 1 사이의 값들로 다 합칠 경우 1로 떨어지는 특징이 있다.\n",
    "\n",
    "이는 분류 문제에서 유용하게 사용할 수 있다."
   ]
  },
  {
   "cell_type": "markdown",
   "metadata": {},
   "source": [
    "### MNIST 손글씨 데이터셋의 대한 신경망 구현\n",
    "미리 계산된(학습된) W값과 b값들을 통해 신경망을 구현해보자\n",
    "\n",
    "이렇게 W값과 b값이 정해진 상태에서 입력을 신경망에 태우는 것을 Forward propagation, 순전파 라고 한다."
   ]
  },
  {
   "cell_type": "code",
   "execution_count": 23,
   "metadata": {},
   "outputs": [],
   "source": [
    "import mnist_loader"
   ]
  },
  {
   "cell_type": "code",
   "execution_count": 25,
   "metadata": {},
   "outputs": [],
   "source": [
    "_, (x, t) = mnist_loader.load_dataset(normalize=True, flatten=True, one_hot_label=False)\n",
    "network = mnist_loader.load_pretrained()\n",
    "\n",
    "def predict(network, x):\n",
    "  W1, W2, W3 = network['W1'], network['W2'], network['W3']\n",
    "  b1, b2, b3 = network['b1'], network['b2'], network['b3']\n",
    "\n",
    "  z1 = sigmoid(np.dot(x, W1) + b1)\n",
    "  z2 = sigmoid(np.dot(z1, W2) + b2)\n",
    "  y = softmax(np.dot(z2, W3) + b3)\n",
    "\n",
    "  return y"
   ]
  },
  {
   "cell_type": "markdown",
   "metadata": {},
   "source": [
    "이후 이 생성한 신경망에 테스트 데이터를 순전파해\\\n",
    "몇 %나 정답을 맞췄는지 확인해 보자"
   ]
  },
  {
   "cell_type": "code",
   "execution_count": 31,
   "metadata": {},
   "outputs": [
    {
     "data": {
      "text/plain": [
       "'Accuracy: 0.9352'"
      ]
     },
     "execution_count": 31,
     "metadata": {},
     "output_type": "execute_result"
    }
   ],
   "source": [
    "correct_count = 0\n",
    "\n",
    "for i in range(len(x)):\n",
    "  y = predict(network, x[i]) # 예측 시작\n",
    "  p = np.argmax(y)           # softmax 값이 가장 높은 원소 추출\n",
    "\n",
    "  if p == t[i]:              # 예측 성공하면 1 증가\n",
    "    correct_count += 1\n",
    "\n",
    "f\"Accuracy: {correct_count / len(x)}\" # 모든 데이터 중 맞는것의 비율"
   ]
  },
  {
   "cell_type": "markdown",
   "metadata": {},
   "source": [
    "93.52% 의 정확도로 예측하는데 성공했다. 93%면 높은것 같지만 나중에는 더 정확도를 높혀볼 것이다.\n",
    "\n",
    "그나저나 위의 스크립트는 데이터 셋을 하나하나 forward 했다.\\\n",
    "더 빠른 속도를 위해(numpy의 최적화 설계에서 최대한 이점을 얻기 위해) 한꺼번에 100개씩 forward해보자."
   ]
  },
  {
   "cell_type": "code",
   "execution_count": 32,
   "metadata": {},
   "outputs": [
    {
     "data": {
      "text/plain": [
       "'Accuracy: 0.9352'"
      ]
     },
     "execution_count": 32,
     "metadata": {},
     "output_type": "execute_result"
    }
   ],
   "source": [
    "batch_size = 100\n",
    "correct_count = 0\n",
    "\n",
    "for i in range(0, len(x), batch_size):    # i는 이제 100씩 증가한다.\n",
    "  y = predict(network, x[i:i+batch_size]) # i부터 i+100까지 한꺼번에 예측 시작\n",
    "  p = np.argmax(y, axis=1)                # softmax 값이 가장 높은 원소 100개 추출\n",
    "\n",
    "  correct_count += np.sum(p == t[i:i+batch_size]) # np.sum에서 True가 1으로 변환되는 것을 활용해서 맞은 개수를 한꺼번에 계산\n",
    "\n",
    "f\"Accuracy: {correct_count / len(x)}\" # 모든 데이터 중 맞는것의 비율"
   ]
  }
 ],
 "metadata": {
  "kernelspec": {
   "display_name": "env",
   "language": "python",
   "name": "python3"
  },
  "language_info": {
   "codemirror_mode": {
    "name": "ipython",
    "version": 3
   },
   "file_extension": ".py",
   "mimetype": "text/x-python",
   "name": "python",
   "nbconvert_exporter": "python",
   "pygments_lexer": "ipython3",
   "version": "3.12.7"
  }
 },
 "nbformat": 4,
 "nbformat_minor": 2
}
